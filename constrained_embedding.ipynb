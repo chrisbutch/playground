{
 "cells": [
  {
   "cell_type": "code",
   "execution_count": 1,
   "metadata": {},
   "outputs": [],
   "source": [
    "from rdkit import Chem\n",
    "from rdkit.Chem import AllChem\n",
    "from rdkit.Chem import rdFMCS\n",
    "from rdkit.Chem.Draw import IPythonConsole"
   ]
  },
  {
   "cell_type": "code",
   "execution_count": 2,
   "metadata": {},
   "outputs": [],
   "source": [
    "mol1 = Chem.MolFromSmiles('CCc1ccccc1')\n",
    "mol2 = Chem.MolFromSmiles('CCc1nnccc1')"
   ]
  },
  {
   "cell_type": "code",
   "execution_count": 3,
   "metadata": {},
   "outputs": [
    {
     "data": {
      "text/plain": [
       "0"
      ]
     },
     "execution_count": 3,
     "metadata": {},
     "output_type": "execute_result"
    }
   ],
   "source": [
    "AllChem.EmbedMolecule(mol1)"
   ]
  },
  {
   "cell_type": "code",
   "execution_count": 4,
   "metadata": {},
   "outputs": [
    {
     "data": {
      "application/3dmoljs_load.v0": "<div id=\"3dmolviewer_15596521281286132\"  style=\"position: relative; width: 200px; height: 200px\">\n        <p id=\"3dmolwarning_15596521281286132\" style=\"background-color:#ffcccc;color:black\">You appear to be running in JupyterLab (or JavaScript failed to load for some other reason).  You need to install the 3dmol extension: <br>\n        <tt>jupyter labextension install jupyterlab_3dmol</tt></p>\n        </div>\n<script>\n\nvar loadScriptAsync = function(uri){\n  return new Promise((resolve, reject) => {\n    var tag = document.createElement('script');\n    tag.src = uri;\n    tag.async = true;\n    tag.onload = () => {\n      resolve();\n    };\n  var firstScriptTag = document.getElementsByTagName('script')[0];\n  firstScriptTag.parentNode.insertBefore(tag, firstScriptTag);\n});\n};\n\nif(typeof $3Dmolpromise === 'undefined') {\n$3Dmolpromise = null;\n  $3Dmolpromise = loadScriptAsync('https://3dmol.csb.pitt.edu/build/3Dmol.js');\n}\n\nvar viewer_15596521281286132 = null;\nvar warn = document.getElementById(\"3dmolwarning_15596521281286132\");\nif(warn) {\n    warn.parentNode.removeChild(warn);\n}\n$3Dmolpromise.then(function() {\nviewer_15596521281286132 = $3Dmol.createViewer($(\"#3dmolviewer_15596521281286132\"),{backgroundColor:\"white\"});\n\tviewer_15596521281286132.removeAllModels();\n\tviewer_15596521281286132.addModel(\"\\n     RDKit          3D\\n\\n  8  8  0  0  0  0  0  0  0  0999 V2000\\n    2.7975    0.0839    0.7058 C   0  0  0  0  0  0  0  0  0  0  0  0\\n    1.9966    0.0409   -0.5636 C   0  0  0  0  0  0  0  0  0  0  0  0\\n    0.5291    0.0093   -0.2802 C   0  0  0  0  0  0  0  0  0  0  0  0\\n   -0.0984   -1.2078   -0.1315 C   0  0  0  0  0  0  0  0  0  0  0  0\\n   -1.4446   -1.2253    0.1282 C   0  0  0  0  0  0  0  0  0  0  0  0\\n   -2.1521   -0.0544    0.2377 C   0  0  0  0  0  0  0  0  0  0  0  0\\n   -1.4891    1.1401    0.0826 C   0  0  0  0  0  0  0  0  0  0  0  0\\n   -0.1390    1.2133   -0.1791 C   0  0  0  0  0  0  0  0  0  0  0  0\\n  1  2  1  0\\n  2  3  1  0\\n  3  4  2  0\\n  4  5  1  0\\n  5  6  2  0\\n  6  7  1  0\\n  7  8  2  0\\n  8  3  1  0\\nM  END\\n\",\"sdf\");\n\tviewer_15596521281286132.setStyle({\"stick\": {}});\n\tviewer_15596521281286132.setBackgroundColor(\"0xeeeeee\");\n\tviewer_15596521281286132.zoomTo();\nviewer_15596521281286132.render();\n});\n</script>",
      "text/html": [
       "<div id=\"3dmolviewer_15596521281286132\"  style=\"position: relative; width: 200px; height: 200px\">\n",
       "        <p id=\"3dmolwarning_15596521281286132\" style=\"background-color:#ffcccc;color:black\">You appear to be running in JupyterLab (or JavaScript failed to load for some other reason).  You need to install the 3dmol extension: <br>\n",
       "        <tt>jupyter labextension install jupyterlab_3dmol</tt></p>\n",
       "        </div>\n",
       "<script>\n",
       "\n",
       "var loadScriptAsync = function(uri){\n",
       "  return new Promise((resolve, reject) => {\n",
       "    var tag = document.createElement('script');\n",
       "    tag.src = uri;\n",
       "    tag.async = true;\n",
       "    tag.onload = () => {\n",
       "      resolve();\n",
       "    };\n",
       "  var firstScriptTag = document.getElementsByTagName('script')[0];\n",
       "  firstScriptTag.parentNode.insertBefore(tag, firstScriptTag);\n",
       "});\n",
       "};\n",
       "\n",
       "if(typeof $3Dmolpromise === 'undefined') {\n",
       "$3Dmolpromise = null;\n",
       "  $3Dmolpromise = loadScriptAsync('https://3dmol.csb.pitt.edu/build/3Dmol.js');\n",
       "}\n",
       "\n",
       "var viewer_15596521281286132 = null;\n",
       "var warn = document.getElementById(\"3dmolwarning_15596521281286132\");\n",
       "if(warn) {\n",
       "    warn.parentNode.removeChild(warn);\n",
       "}\n",
       "$3Dmolpromise.then(function() {\n",
       "viewer_15596521281286132 = $3Dmol.createViewer($(\"#3dmolviewer_15596521281286132\"),{backgroundColor:\"white\"});\n",
       "\tviewer_15596521281286132.removeAllModels();\n",
       "\tviewer_15596521281286132.addModel(\"\\n     RDKit          3D\\n\\n  8  8  0  0  0  0  0  0  0  0999 V2000\\n    2.7975    0.0839    0.7058 C   0  0  0  0  0  0  0  0  0  0  0  0\\n    1.9966    0.0409   -0.5636 C   0  0  0  0  0  0  0  0  0  0  0  0\\n    0.5291    0.0093   -0.2802 C   0  0  0  0  0  0  0  0  0  0  0  0\\n   -0.0984   -1.2078   -0.1315 C   0  0  0  0  0  0  0  0  0  0  0  0\\n   -1.4446   -1.2253    0.1282 C   0  0  0  0  0  0  0  0  0  0  0  0\\n   -2.1521   -0.0544    0.2377 C   0  0  0  0  0  0  0  0  0  0  0  0\\n   -1.4891    1.1401    0.0826 C   0  0  0  0  0  0  0  0  0  0  0  0\\n   -0.1390    1.2133   -0.1791 C   0  0  0  0  0  0  0  0  0  0  0  0\\n  1  2  1  0\\n  2  3  1  0\\n  3  4  2  0\\n  4  5  1  0\\n  5  6  2  0\\n  6  7  1  0\\n  7  8  2  0\\n  8  3  1  0\\nM  END\\n\",\"sdf\");\n",
       "\tviewer_15596521281286132.setStyle({\"stick\": {}});\n",
       "\tviewer_15596521281286132.setBackgroundColor(\"0xeeeeee\");\n",
       "\tviewer_15596521281286132.zoomTo();\n",
       "viewer_15596521281286132.render();\n",
       "});\n",
       "</script>"
      ]
     },
     "metadata": {},
     "output_type": "display_data"
    }
   ],
   "source": [
    "IPythonConsole.drawMol3D(mol1, size=(200,200))"
   ]
  },
  {
   "cell_type": "code",
   "execution_count": 5,
   "metadata": {},
   "outputs": [],
   "source": [
    "mcs = rdFMCS.FindMCS([mol1, mol2])\n",
    "mcs_mol = Chem.MolFromSmarts(mcs.smartsString)"
   ]
  },
  {
   "cell_type": "code",
   "execution_count": 6,
   "metadata": {},
   "outputs": [],
   "source": [
    "ref_match = mol1.GetSubstructMatch(mcs_mol)\n",
    "target_match = mol2.GetSubstructMatch(mcs_mol)"
   ]
  },
  {
   "cell_type": "code",
   "execution_count": 7,
   "metadata": {},
   "outputs": [
    {
     "name": "stdout",
     "output_type": "stream",
     "text": [
      "(0, 1, 2, 3, 4, 5) (0, 1, 2, 7, 6, 5)\n"
     ]
    }
   ],
   "source": [
    "print(ref_match, target_match)"
   ]
  },
  {
   "cell_type": "code",
   "execution_count": 8,
   "metadata": {},
   "outputs": [],
   "source": [
    "rwmol = Chem.RWMol(mcs_mol)"
   ]
  },
  {
   "cell_type": "code",
   "execution_count": 9,
   "metadata": {},
   "outputs": [],
   "source": [
    "rwconf = Chem.Conformer(rwmol.GetNumAtoms())\n",
    "matches = rwmol.GetSubstructMatch(mcs_mol)"
   ]
  },
  {
   "cell_type": "code",
   "execution_count": 10,
   "metadata": {},
   "outputs": [
    {
     "name": "stdout",
     "output_type": "stream",
     "text": [
      "2.797503065062055\n",
      "1.9965837331267733\n",
      "0.5291080593215798\n",
      "-0.09836576154290043\n",
      "-1.444598670619997\n",
      "-2.1521053683742934\n"
     ]
    }
   ],
   "source": [
    "ref_conf = mol1.GetConformer()\n",
    "for i, match in enumerate(matches):\n",
    "    print(ref_conf.GetAtomPosition(ref_match[i]).x)\n",
    "    rwconf.SetAtomPosition(match, ref_conf.GetAtomPosition(ref_match[i]))\n",
    "\n",
    "    "
   ]
  },
  {
   "cell_type": "code",
   "execution_count": 18,
   "metadata": {},
   "outputs": [
    {
     "name": "stdout",
     "output_type": "stream",
     "text": [
      "2.797503065062055 0.08393698531448948 0.7058212432454596\n",
      "1.9965837331267733 0.04091937598459714 -0.5635829154801455\n",
      "0.5291080593215798 0.00932480299515561 -0.2802135129357946\n",
      "-0.09836576154290043 -1.2078412356493724 -0.13145634839820414\n",
      "-1.444598670619997 -1.2253207297818316 0.12824947496784708\n",
      "-2.1521053683742934 -0.05441461335304368 0.2376898645891146\n"
     ]
    }
   ],
   "source": [
    "for i in matches:\n",
    "    pos=rwconf.GetAtomPosition(i)\n",
    "    print(pos.x, pos.y, pos.z)"
   ]
  },
  {
   "cell_type": "code",
   "execution_count": 12,
   "metadata": {},
   "outputs": [
    {
     "data": {
      "text/plain": [
       "0"
      ]
     },
     "execution_count": 12,
     "metadata": {},
     "output_type": "execute_result"
    }
   ],
   "source": [
    "rwmol.AddConformer(rwconf)"
   ]
  },
  {
   "cell_type": "code",
   "execution_count": 13,
   "metadata": {},
   "outputs": [
    {
     "data": {
      "application/3dmoljs_load.v0": "<div id=\"3dmolviewer_1559652366264313\"  style=\"position: relative; width: 400px; height: 400px\">\n        <p id=\"3dmolwarning_1559652366264313\" style=\"background-color:#ffcccc;color:black\">You appear to be running in JupyterLab (or JavaScript failed to load for some other reason).  You need to install the 3dmol extension: <br>\n        <tt>jupyter labextension install jupyterlab_3dmol</tt></p>\n        </div>\n<script>\n\nvar loadScriptAsync = function(uri){\n  return new Promise((resolve, reject) => {\n    var tag = document.createElement('script');\n    tag.src = uri;\n    tag.async = true;\n    tag.onload = () => {\n      resolve();\n    };\n  var firstScriptTag = document.getElementsByTagName('script')[0];\n  firstScriptTag.parentNode.insertBefore(tag, firstScriptTag);\n});\n};\n\nif(typeof $3Dmolpromise === 'undefined') {\n$3Dmolpromise = null;\n  $3Dmolpromise = loadScriptAsync('https://3dmol.csb.pitt.edu/build/3Dmol.js');\n}\n\nvar viewer_1559652366264313 = null;\nvar warn = document.getElementById(\"3dmolwarning_1559652366264313\");\nif(warn) {\n    warn.parentNode.removeChild(warn);\n}\n$3Dmolpromise.then(function() {\nviewer_1559652366264313 = $3Dmol.createViewer($(\"#3dmolviewer_1559652366264313\"),{backgroundColor:\"white\"});\n\tviewer_1559652366264313.removeAllModels();\n\tviewer_1559652366264313.addModel(\"\\n     RDKit          3D\\n\\n  6  5  0  0  0  0  0  0  0  0999 V2000\\n    2.7975    0.0839    0.7058 C   0  0  0  0  0  0  0  0  0  0  0  0\\n    1.9966    0.0409   -0.5636 C   0  0  0  0  0  0  0  0  0  0  0  0\\n    0.5291    0.0093   -0.2802 C   0  0  0  0  0  0  0  0  0  0  0  0\\n   -0.0984   -1.2078   -0.1315 C   0  0  0  0  0  0  0  0  0  0  0  0\\n   -1.4446   -1.2253    0.1282 C   0  0  0  0  0  0  0  0  0  0  0  0\\n   -2.1521   -0.0544    0.2377 C   0  0  0  0  0  0  0  0  0  0  0  0\\n  1  2  1  0\\n  2  3  1  0\\n  3  4  4  0\\n  4  5  4  0\\n  5  6  4  0\\nM  END\\n\",\"sdf\");\n\tviewer_1559652366264313.setStyle({\"stick\": {}});\n\tviewer_1559652366264313.setBackgroundColor(\"0xeeeeee\");\n\tviewer_1559652366264313.zoomTo();\nviewer_1559652366264313.render();\n});\n</script>",
      "text/html": [
       "<div id=\"3dmolviewer_1559652366264313\"  style=\"position: relative; width: 400px; height: 400px\">\n",
       "        <p id=\"3dmolwarning_1559652366264313\" style=\"background-color:#ffcccc;color:black\">You appear to be running in JupyterLab (or JavaScript failed to load for some other reason).  You need to install the 3dmol extension: <br>\n",
       "        <tt>jupyter labextension install jupyterlab_3dmol</tt></p>\n",
       "        </div>\n",
       "<script>\n",
       "\n",
       "var loadScriptAsync = function(uri){\n",
       "  return new Promise((resolve, reject) => {\n",
       "    var tag = document.createElement('script');\n",
       "    tag.src = uri;\n",
       "    tag.async = true;\n",
       "    tag.onload = () => {\n",
       "      resolve();\n",
       "    };\n",
       "  var firstScriptTag = document.getElementsByTagName('script')[0];\n",
       "  firstScriptTag.parentNode.insertBefore(tag, firstScriptTag);\n",
       "});\n",
       "};\n",
       "\n",
       "if(typeof $3Dmolpromise === 'undefined') {\n",
       "$3Dmolpromise = null;\n",
       "  $3Dmolpromise = loadScriptAsync('https://3dmol.csb.pitt.edu/build/3Dmol.js');\n",
       "}\n",
       "\n",
       "var viewer_1559652366264313 = null;\n",
       "var warn = document.getElementById(\"3dmolwarning_1559652366264313\");\n",
       "if(warn) {\n",
       "    warn.parentNode.removeChild(warn);\n",
       "}\n",
       "$3Dmolpromise.then(function() {\n",
       "viewer_1559652366264313 = $3Dmol.createViewer($(\"#3dmolviewer_1559652366264313\"),{backgroundColor:\"white\"});\n",
       "\tviewer_1559652366264313.removeAllModels();\n",
       "\tviewer_1559652366264313.addModel(\"\\n     RDKit          3D\\n\\n  6  5  0  0  0  0  0  0  0  0999 V2000\\n    2.7975    0.0839    0.7058 C   0  0  0  0  0  0  0  0  0  0  0  0\\n    1.9966    0.0409   -0.5636 C   0  0  0  0  0  0  0  0  0  0  0  0\\n    0.5291    0.0093   -0.2802 C   0  0  0  0  0  0  0  0  0  0  0  0\\n   -0.0984   -1.2078   -0.1315 C   0  0  0  0  0  0  0  0  0  0  0  0\\n   -1.4446   -1.2253    0.1282 C   0  0  0  0  0  0  0  0  0  0  0  0\\n   -2.1521   -0.0544    0.2377 C   0  0  0  0  0  0  0  0  0  0  0  0\\n  1  2  1  0\\n  2  3  1  0\\n  3  4  4  0\\n  4  5  4  0\\n  5  6  4  0\\nM  END\\n\",\"sdf\");\n",
       "\tviewer_1559652366264313.setStyle({\"stick\": {}});\n",
       "\tviewer_1559652366264313.setBackgroundColor(\"0xeeeeee\");\n",
       "\tviewer_1559652366264313.zoomTo();\n",
       "viewer_1559652366264313.render();\n",
       "});\n",
       "</script>"
      ]
     },
     "metadata": {},
     "output_type": "display_data"
    }
   ],
   "source": [
    "IPythonConsole.drawMol3D(rwmol)"
   ]
  },
  {
   "cell_type": "code",
   "execution_count": 14,
   "metadata": {},
   "outputs": [
    {
     "data": {
      "image/png": "[encoded data removed]",
      "text/plain": [
       "<rdkit.Chem.rdchem.Mol at 0x119b9dee0>"
      ]
     },
     "execution_count": 14,
     "metadata": {},
     "output_type": "execute_result"
    }
   ],
   "source": [
    "AllChem.ConstrainedEmbed(mol2, rwmol)"
   ]
  },
  {
   "cell_type": "code",
   "execution_count": 15,
   "metadata": {},
   "outputs": [
    {
     "data": {
      "application/3dmoljs_load.v0": "<div id=\"3dmolviewer_1559652414289742\"  style=\"position: relative; width: 400px; height: 400px\">\n        <p id=\"3dmolwarning_1559652414289742\" style=\"background-color:#ffcccc;color:black\">You appear to be running in JupyterLab (or JavaScript failed to load for some other reason).  You need to install the 3dmol extension: <br>\n        <tt>jupyter labextension install jupyterlab_3dmol</tt></p>\n        </div>\n<script>\n\nvar loadScriptAsync = function(uri){\n  return new Promise((resolve, reject) => {\n    var tag = document.createElement('script');\n    tag.src = uri;\n    tag.async = true;\n    tag.onload = () => {\n      resolve();\n    };\n  var firstScriptTag = document.getElementsByTagName('script')[0];\n  firstScriptTag.parentNode.insertBefore(tag, firstScriptTag);\n});\n};\n\nif(typeof $3Dmolpromise === 'undefined') {\n$3Dmolpromise = null;\n  $3Dmolpromise = loadScriptAsync('https://3dmol.csb.pitt.edu/build/3Dmol.js');\n}\n\nvar viewer_1559652414289742 = null;\nvar warn = document.getElementById(\"3dmolwarning_1559652414289742\");\nif(warn) {\n    warn.parentNode.removeChild(warn);\n}\n$3Dmolpromise.then(function() {\nviewer_1559652414289742 = $3Dmol.createViewer($(\"#3dmolviewer_1559652414289742\"),{backgroundColor:\"white\"});\n\tviewer_1559652414289742.removeAllModels();\n\tviewer_1559652414289742.addModel(\"\\n     RDKit          3D\\n\\n  8  8  0  0  0  0  0  0  0  0999 V2000\\n    2.7972    0.0849    0.7132 C   0  0  0  0  0  0  0  0  0  0  0  0\\n    2.0013    0.0551   -0.5760 C   0  0  0  0  0  0  0  0  0  0  0  0\\n    0.5443    0.0073   -0.2790 C   0  0  0  0  0  0  0  0  0  0  0  0\\n   -0.1738    1.1566   -0.1708 N   0  0  0  0  0  0  0  0  0  0  0  0\\n   -1.4845    1.1340    0.0822 N   0  0  0  0  0  0  0  0  0  0  0  0\\n   -2.1546   -0.0385    0.2385 C   0  0  0  0  0  0  0  0  0  0  0  0\\n   -1.4628   -1.2423    0.1318 C   0  0  0  0  0  0  0  0  0  0  0  0\\n   -0.0973   -1.2199   -0.1320 C   0  0  0  0  0  0  0  0  0  0  0  0\\n  1  2  1  0\\n  2  3  1  0\\n  3  4  2  0\\n  4  5  1  0\\n  5  6  2  0\\n  6  7  1  0\\n  7  8  2  0\\n  8  3  1  0\\nM  END\\n\",\"sdf\");\n\tviewer_1559652414289742.setStyle({\"stick\": {}});\n\tviewer_1559652414289742.setBackgroundColor(\"0xeeeeee\");\n\tviewer_1559652414289742.zoomTo();\nviewer_1559652414289742.render();\n});\n</script>",
      "text/html": [
       "<div id=\"3dmolviewer_1559652414289742\"  style=\"position: relative; width: 400px; height: 400px\">\n",
       "        <p id=\"3dmolwarning_1559652414289742\" style=\"background-color:#ffcccc;color:black\">You appear to be running in JupyterLab (or JavaScript failed to load for some other reason).  You need to install the 3dmol extension: <br>\n",
       "        <tt>jupyter labextension install jupyterlab_3dmol</tt></p>\n",
       "        </div>\n",
       "<script>\n",
       "\n",
       "var loadScriptAsync = function(uri){\n",
       "  return new Promise((resolve, reject) => {\n",
       "    var tag = document.createElement('script');\n",
       "    tag.src = uri;\n",
       "    tag.async = true;\n",
       "    tag.onload = () => {\n",
       "      resolve();\n",
       "    };\n",
       "  var firstScriptTag = document.getElementsByTagName('script')[0];\n",
       "  firstScriptTag.parentNode.insertBefore(tag, firstScriptTag);\n",
       "});\n",
       "};\n",
       "\n",
       "if(typeof $3Dmolpromise === 'undefined') {\n",
       "$3Dmolpromise = null;\n",
       "  $3Dmolpromise = loadScriptAsync('https://3dmol.csb.pitt.edu/build/3Dmol.js');\n",
       "}\n",
       "\n",
       "var viewer_1559652414289742 = null;\n",
       "var warn = document.getElementById(\"3dmolwarning_1559652414289742\");\n",
       "if(warn) {\n",
       "    warn.parentNode.removeChild(warn);\n",
       "}\n",
       "$3Dmolpromise.then(function() {\n",
       "viewer_1559652414289742 = $3Dmol.createViewer($(\"#3dmolviewer_1559652414289742\"),{backgroundColor:\"white\"});\n",
       "\tviewer_1559652414289742.removeAllModels();\n",
       "\tviewer_1559652414289742.addModel(\"\\n     RDKit          3D\\n\\n  8  8  0  0  0  0  0  0  0  0999 V2000\\n    2.7972    0.0849    0.7132 C   0  0  0  0  0  0  0  0  0  0  0  0\\n    2.0013    0.0551   -0.5760 C   0  0  0  0  0  0  0  0  0  0  0  0\\n    0.5443    0.0073   -0.2790 C   0  0  0  0  0  0  0  0  0  0  0  0\\n   -0.1738    1.1566   -0.1708 N   0  0  0  0  0  0  0  0  0  0  0  0\\n   -1.4845    1.1340    0.0822 N   0  0  0  0  0  0  0  0  0  0  0  0\\n   -2.1546   -0.0385    0.2385 C   0  0  0  0  0  0  0  0  0  0  0  0\\n   -1.4628   -1.2423    0.1318 C   0  0  0  0  0  0  0  0  0  0  0  0\\n   -0.0973   -1.2199   -0.1320 C   0  0  0  0  0  0  0  0  0  0  0  0\\n  1  2  1  0\\n  2  3  1  0\\n  3  4  2  0\\n  4  5  1  0\\n  5  6  2  0\\n  6  7  1  0\\n  7  8  2  0\\n  8  3  1  0\\nM  END\\n\",\"sdf\");\n",
       "\tviewer_1559652414289742.setStyle({\"stick\": {}});\n",
       "\tviewer_1559652414289742.setBackgroundColor(\"0xeeeeee\");\n",
       "\tviewer_1559652414289742.zoomTo();\n",
       "viewer_1559652414289742.render();\n",
       "});\n",
       "</script>"
      ]
     },
     "metadata": {},
     "output_type": "display_data"
    }
   ],
   "source": [
    "IPythonConsole.drawMol3D(mol2)"
   ]
  },
  {
   "cell_type": "code",
   "execution_count": null,
   "metadata": {},
   "outputs": [],
   "source": [
    "print(Chem.MolToMolBlock(mol1))\n",
    "print(Chem.MolToMolBlock(mol1))"
   ]
  }
 ],
 "metadata": {
  "kernelspec": {
   "display_name": "Python 3",
   "language": "python",
   "name": "python3"
  },
  "language_info": {
   "codemirror_mode": {
    "name": "ipython",
    "version": 3
   },
   "file_extension": ".py",
   "mimetype": "text/x-python",
   "name": "python",
   "nbconvert_exporter": "python",
   "pygments_lexer": "ipython3",
   "version": "3.6.8"
  }
 },
 "nbformat": 4,
 "nbformat_minor": 2
}
