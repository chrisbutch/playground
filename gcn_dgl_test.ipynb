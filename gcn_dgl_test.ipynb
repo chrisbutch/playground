{
 "cells": [
  {
   "cell_type": "code",
   "execution_count": 1,
   "metadata": {},
   "outputs": [
    {
     "name": "stderr",
     "output_type": "stream",
     "text": [
      "RDKit WARNING: [16:00:50] Enabling RDKit 2019.09.3 jupyter extensions\n"
     ]
    },
    {
     "name": "stdout",
     "output_type": "stream",
     "text": [
      "use GPU\n"
     ]
    }
   ],
   "source": [
    "import os\n",
    "from rdkit import Chem\n",
    "from rdkit import RDPaths\n",
    "import numpy as np\n",
    "\n",
    "import torch\n",
    "import dgl\n",
    "if torch.cuda.is_available():\n",
    "    print('use GPU')\n",
    "    device='cuda'\n",
    "else:\n",
    "    print('use CPU')\n",
    "    device='cpu'\n",
    "\n",
    "from dgl.model_zoo.chem import GCNClassifier\n",
    "from dgl.data.chem.utils import mol_to_graph\n",
    "from dgl.data.chem.utils import mol_to_complete_graph\n",
    "from dgl.data.chem import CanonicalAtomFeaturizer\n",
    "from dgl.data.chem import CanonicalBondFeaturizer\n",
    "from torch import nn\n",
    "\n",
    "import torch.nn.functional as F\n",
    "from torch.utils.data import DataLoader\n",
    "from torch.utils.data import Dataset\n",
    "from torch.nn import CrossEntropyLoss"
   ]
  },
  {
   "cell_type": "code",
   "execution_count": 2,
   "metadata": {},
   "outputs": [],
   "source": [
    "trainsdf = os.path.join(RDPaths.RDDocsDir, 'Book/data/solubility.train.sdf')\n",
    "testsdf =  os.path.join(RDPaths.RDDocsDir, 'Book/data/solubility.test.sdf')\n",
    "\n",
    "trainmols = [m for m in Chem.SDMolSupplier(trainsdf)]\n",
    "testmols = [m for m in Chem.SDMolSupplier(testsdf)]\n",
    "\n",
    "prop_dict = {\n",
    "    \"(A) low\": 0,\n",
    "    \"(B) medium\": 1,\n",
    "    \"(C) high\": 2\n",
    "}\n"
   ]
  },
  {
   "cell_type": "code",
   "execution_count": 3,
   "metadata": {},
   "outputs": [],
   "source": [
    "atom_featurizer = CanonicalAtomFeaturizer()\n",
    "bond_featurizer = CanonicalBondFeaturizer()"
   ]
  },
  {
   "cell_type": "code",
   "execution_count": 4,
   "metadata": {},
   "outputs": [],
   "source": [
    "g = mol_to_complete_graph(trainmols[0], \n",
    "                          add_self_loop=False, \n",
    "                          node_featurizer=atom_featurizer,\n",
    "                          #edge_featurizer= bond_featurizer\n",
    "                         )"
   ]
  },
  {
   "cell_type": "code",
   "execution_count": 5,
   "metadata": {},
   "outputs": [
    {
     "name": "stdout",
     "output_type": "stream",
     "text": [
      "74\n"
     ]
    }
   ],
   "source": [
    "# check feature size\n",
    "n_feats = atom_featurizer.feat_size('h')\n",
    "print(n_feats)"
   ]
  },
  {
   "cell_type": "code",
   "execution_count": 6,
   "metadata": {},
   "outputs": [],
   "source": [
    "ncls = 3\n",
    "\n",
    "\n",
    "train_g = [mol_to_complete_graph(m, node_featurizer=atom_featurizer) for m in trainmols]\n",
    "train_y = np.array([prop_dict[m.GetProp('SOL_classification')] for m in trainmols])\n",
    "train_y = np.array(train_y, dtype=np.int64)\n",
    "\n",
    "test_g = [mol_to_complete_graph(m, node_featurizer=atom_featurizer) for m in testmols]\n",
    "test_y = np.array([prop_dict[m.GetProp('SOL_classification')] for m in testmols])\n",
    "test_y = np.array(test_y, dtype=np.int64)\n"
   ]
  },
  {
   "cell_type": "code",
   "execution_count": null,
   "metadata": {},
   "outputs": [],
   "source": []
  },
  {
   "cell_type": "code",
   "execution_count": 7,
   "metadata": {},
   "outputs": [],
   "source": [
    "# define GCN NET with 2 GCN layers\n",
    "gcn_net = GCNClassifier(in_feats=n_feats,\n",
    "                    gcn_hidden_feats=[60,20],\n",
    "                    n_tasks=ncls,\n",
    "                    classifier_hidden_feats=10,\n",
    "                    dropout=0.5,)\n",
    "gcn_net = gcn_net.to(device)"
   ]
  },
  {
   "cell_type": "code",
   "execution_count": 8,
   "metadata": {},
   "outputs": [],
   "source": [
    "def collate(sample):\n",
    "    graphs, labels = map(list,zip(*sample))\n",
    "    batched_graph = dgl.batch(graphs)\n",
    "    batched_graph.set_n_initializer(dgl.init.zero_initializer)\n",
    "    batched_graph.set_e_initializer(dgl.init.zero_initializer)\n",
    "    return batched_graph, torch.tensor(labels)"
   ]
  },
  {
   "cell_type": "code",
   "execution_count": 9,
   "metadata": {},
   "outputs": [],
   "source": [
    "train_data = list(zip(train_g, train_y))\n",
    "train_loader = DataLoader(train_data, batch_size=128, shuffle=True, collate_fn=collate, drop_last=True)"
   ]
  },
  {
   "cell_type": "code",
   "execution_count": 10,
   "metadata": {
    "scrolled": true
   },
   "outputs": [
    {
     "data": {
      "text/plain": [
       "GCNClassifier(\n",
       "  (gnn_layers): ModuleList(\n",
       "    (0): GCNLayer(\n",
       "      (graph_conv): GraphConv(in=74, out=60, normalization=False, activation=<function relu at 0x7efbaf93f1e0>)\n",
       "      (dropout): Dropout(p=0.0, inplace=False)\n",
       "      (res_connection): Linear(in_features=74, out_features=60, bias=True)\n",
       "      (bn_layer): BatchNorm1d(60, eps=1e-05, momentum=0.1, affine=True, track_running_stats=True)\n",
       "    )\n",
       "    (1): GCNLayer(\n",
       "      (graph_conv): GraphConv(in=60, out=20, normalization=False, activation=<function relu at 0x7efbaf93f1e0>)\n",
       "      (dropout): Dropout(p=0.0, inplace=False)\n",
       "      (res_connection): Linear(in_features=60, out_features=20, bias=True)\n",
       "      (bn_layer): BatchNorm1d(20, eps=1e-05, momentum=0.1, affine=True, track_running_stats=True)\n",
       "    )\n",
       "  )\n",
       "  (weighted_sum_readout): WeightAndSum(\n",
       "    (atom_weighting): Sequential(\n",
       "      (0): Linear(in_features=20, out_features=1, bias=True)\n",
       "      (1): Sigmoid()\n",
       "    )\n",
       "  )\n",
       "  (soft_classifier): MLPBinaryClassifier(\n",
       "    (predict): Sequential(\n",
       "      (0): Dropout(p=0.5, inplace=False)\n",
       "      (1): Linear(in_features=40, out_features=10, bias=True)\n",
       "      (2): ReLU()\n",
       "      (3): BatchNorm1d(10, eps=1e-05, momentum=0.1, affine=True, track_running_stats=True)\n",
       "      (4): Linear(in_features=10, out_features=3, bias=True)\n",
       "    )\n",
       "  )\n",
       ")"
      ]
     },
     "execution_count": 10,
     "metadata": {},
     "output_type": "execute_result"
    }
   ],
   "source": [
    "loss_fn = CrossEntropyLoss()\n",
    "optimizer = torch.optim.Adam(gcn_net.parameters(), lr=0.01)\n",
    "gcn_net.train()"
   ]
  },
  {
   "cell_type": "code",
   "execution_count": 11,
   "metadata": {},
   "outputs": [
    {
     "name": "stdout",
     "output_type": "stream",
     "text": [
      "epoch: 20, LOSS: 0.384, ACC: 0.834\n",
      "epoch: 40, LOSS: 0.327, ACC: 0.842\n",
      "epoch: 60, LOSS: 0.290, ACC: 0.874\n",
      "epoch: 80, LOSS: 0.257, ACC: 0.893\n",
      "epoch: 100, LOSS: 0.244, ACC: 0.896\n",
      "epoch: 120, LOSS: 0.249, ACC: 0.899\n",
      "epoch: 140, LOSS: 0.222, ACC: 0.903\n",
      "epoch: 160, LOSS: 0.186, ACC: 0.928\n",
      "epoch: 180, LOSS: 0.158, ACC: 0.941\n",
      "epoch: 200, LOSS: 0.178, ACC: 0.928\n"
     ]
    }
   ],
   "source": [
    "epoch_losses = []\n",
    "epoch_accuracies = []\n",
    "for epoch in range(1,201):\n",
    "    epoch_loss = 0\n",
    "    epoch_acc = 0\n",
    "    for i, (bg, labels) in enumerate(train_loader):\n",
    "        labels = labels.to(device)\n",
    "        atom_feats = bg.ndata.pop('h').to(device)\n",
    "        atom_feats, labels = atom_feats.to(device), labels.to(device)\n",
    "        pred = gcn_net(bg, atom_feats)\n",
    "        loss = loss_fn(pred, labels)\n",
    "        optimizer.zero_grad()\n",
    "        loss.backward()\n",
    "        optimizer.step()\n",
    "        epoch_loss += loss.detach().item()\n",
    "        pred_cls = pred.argmax(-1).detach().to('cpu').numpy()\n",
    "        true_label = labels.to('cpu').numpy()\n",
    "        epoch_acc += sum(true_label==pred_cls) / true_label.shape[0]\n",
    "    epoch_acc /= (i + 1)\n",
    "    epoch_loss /= (i + 1)\n",
    "    if epoch % 20 == 0:\n",
    "        print(f\"epoch: {epoch}, LOSS: {epoch_loss:.3f}, ACC: {epoch_acc:.3f}\")\n",
    "    epoch_accuracies.append(epoch_acc)\n",
    "    epoch_losses.append(epoch_loss)"
   ]
  },
  {
   "cell_type": "code",
   "execution_count": 18,
   "metadata": {},
   "outputs": [
    {
     "data": {
      "text/plain": [
       "Text(0, 0.5, 'loss/acc')"
      ]
     },
     "execution_count": 18,
     "metadata": {},
     "output_type": "execute_result"
    },
    {
     "data": {
      "image/png": "[encoded data removed]",
      "text/plain": [
       "<Figure size 432x288 with 1 Axes>"
      ]
     },
     "metadata": {},
     "output_type": "display_data"
    }
   ],
   "source": [
    "%matplotlib inline\n",
    "import matplotlib.pyplot as plt\n",
    "plt.style.use('ggplot')\n",
    "plt.plot([i for i in range(1, 201)], epoch_losses, c='b', alpha=0.6, label='loss')\n",
    "plt.legend()\n",
    "plt.plot([i for i in range(1, 201)], epoch_accuracies, c='r', alpha=0.6, label='acc')\n",
    "plt.legend()\n",
    "plt.xlabel('epoch')\n",
    "plt.ylabel('loss/acc')"
   ]
  },
  {
   "cell_type": "code",
   "execution_count": null,
   "metadata": {},
   "outputs": [],
   "source": []
  }
 ],
 "metadata": {
  "kernelspec": {
   "display_name": "Python 3",
   "language": "python",
   "name": "python3"
  },
  "language_info": {
   "codemirror_mode": {
    "name": "ipython",
    "version": 3
   },
   "file_extension": ".py",
   "mimetype": "text/x-python",
   "name": "python",
   "nbconvert_exporter": "python",
   "pygments_lexer": "ipython3",
   "version": "3.7.3"
  }
 },
 "nbformat": 4,
 "nbformat_minor": 4
}
