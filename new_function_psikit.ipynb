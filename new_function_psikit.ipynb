{
 "cells": [
  {
   "cell_type": "code",
   "execution_count": 1,
   "metadata": {},
   "outputs": [],
   "source": [
    "import ipymol\n",
    "from psikit import Psikit\n",
    "from rdkit import Chem\n",
    "from rdkit.Chem import AllChem"
   ]
  },
  {
   "cell_type": "code",
   "execution_count": 2,
   "metadata": {},
   "outputs": [],
   "source": [
    "pk = Psikit()\n",
    "v = ipymol.viewer\n",
    "v.start()"
   ]
  },
  {
   "cell_type": "code",
   "execution_count": 3,
   "metadata": {},
   "outputs": [],
   "source": [
    "pk.read_from_smiles('CC(=O)O')"
   ]
  },
  {
   "cell_type": "code",
   "execution_count": 4,
   "metadata": {},
   "outputs": [
    {
     "data": {
      "text/plain": [
       "-227.7931616744443"
      ]
     },
     "execution_count": 4,
     "metadata": {},
     "output_type": "execute_result"
    }
   ],
   "source": [
    "pk.energy()"
   ]
  },
  {
   "cell_type": "code",
   "execution_count": 5,
   "metadata": {},
   "outputs": [
    {
     "name": "stdout",
     "output_type": "stream",
     "text": [
      "Done!\n"
     ]
    }
   ],
   "source": [
    "pk.getMOview()"
   ]
  },
  {
   "cell_type": "code",
   "execution_count": 6,
   "metadata": {},
   "outputs": [
    {
     "name": "stdout",
     "output_type": "stream",
     "text": [
      "finished !\n"
     ]
    }
   ],
   "source": [
    "pk.view_on_pymol(target='ESP')"
   ]
  },
  {
   "cell_type": "code",
   "execution_count": 7,
   "metadata": {},
   "outputs": [
    {
     "name": "stdout",
     "output_type": "stream",
     "text": [
      "finished !\n"
     ]
    }
   ],
   "source": [
    "pk.view_on_pymol(target='DUAL', maprange=0.001)"
   ]
  },
  {
   "cell_type": "code",
   "execution_count": 8,
   "metadata": {},
   "outputs": [
    {
     "name": "stdout",
     "output_type": "stream",
     "text": [
      "finished !\n"
     ]
    }
   ],
   "source": [
    "pk.view_on_pymol('FRONTIER')"
   ]
  },
  {
   "cell_type": "code",
   "execution_count": 15,
   "metadata": {},
   "outputs": [],
   "source": [
    "pk.psi4.cubeprop(pk.wfn)"
   ]
  },
  {
   "cell_type": "code",
   "execution_count": 22,
   "metadata": {},
   "outputs": [
    {
     "data": {
      "text/plain": [
       "['Psi_a_5_1-A\"_HOMO.cube', 'Psi_a_12_12-A_HOMO.cube']"
      ]
     },
     "execution_count": 22,
     "metadata": {},
     "output_type": "execute_result"
    }
   ],
   "source": [
    "glob.glob('Psi_a_*_HOMO.cube')"
   ]
  },
  {
   "cell_type": "code",
   "execution_count": 12,
   "metadata": {},
   "outputs": [],
   "source": [
    "nalpha = pk.wfn.nalpha()\n",
    "homof = glob.glob(f'Psi_a_{nalpha}*_HOMO.cube')[0]"
   ]
  },
  {
   "cell_type": "code",
   "execution_count": 13,
   "metadata": {},
   "outputs": [
    {
     "data": {
      "text/plain": [
       "'Psi_a_5_1-A\"_HOMO.cube'"
      ]
     },
     "execution_count": 13,
     "metadata": {},
     "output_type": "execute_result"
    }
   ],
   "source": [
    "homof"
   ]
  },
  {
   "cell_type": "code",
   "execution_count": 16,
   "metadata": {},
   "outputs": [],
   "source": [
    "import os"
   ]
  },
  {
   "cell_type": "code",
   "execution_count": 17,
   "metadata": {},
   "outputs": [
    {
     "data": {
      "text/plain": [
       "'/Users/iwatobipen/develop/chemoenv/sandbox/psikittest'"
      ]
     },
     "execution_count": 17,
     "metadata": {},
     "output_type": "execute_result"
    }
   ],
   "source": [
    "os.getcwd()"
   ]
  },
  {
   "cell_type": "code",
   "execution_count": 18,
   "metadata": {},
   "outputs": [
    {
     "name": "stdout",
     "output_type": "stream",
     "text": [
      "1_default_grid.dat        Psi_a_14_14-A.cube        Psi_b_14_3-A\".cube\n",
      "1_default_grid_esp.dat    Psi_a_14_3-A\".cube        Psi_b_15_12-A'.cube\n",
      "1_default_results.out     Psi_a_15_12-A'.cube       Psi_b_15_15-A.cube\n",
      "1kv2 1kv22.mol            Psi_a_15_15-A.cube        Psi_b_16_16-A.cube\n",
      "1kv2.pdb                  Psi_a_16_16-A.cube        Psi_b_16_4-A\".cube\n",
      "3d.sdf                    Psi_a_16_4-A\".cube        Psi_b_17_13-A'.cube\n",
      "B96.mol                   Psi_a_17_13-A'.cube       Psi_b_17_17-A.cube\n",
      "Da.cube                   Psi_a_17_17-A.cube        Psi_b_18_14-A'.cube\n",
      "Db.cube                   Psi_a_18_14-A'.cube       Psi_b_18_18-A.cube\n",
      "Ds.cube                   Psi_a_18_18-A.cube        Psi_b_19_15-A'.cube\n",
      "Dt.cube                   Psi_a_19_15-A'.cube       Psi_b_19_19-A.cube\n",
      "ESP.cube                  Psi_a_19_19-A.cube        Psi_b_1_1-A'.cube\n",
      "ESP.cube.zip              Psi_a_1_1-A'.cube         Psi_b_1_1-A.cube\n",
      "Phi_1.cube                Psi_a_1_1-A.cube          Psi_b_20_20-A.cube\n",
      "Phi_10.cube               Psi_a_20_20-A.cube        Psi_b_20_5-A\".cube\n",
      "Phi_11.cube               Psi_a_20_5-A\".cube        Psi_b_21_21-A.cube\n",
      "Phi_12.cube               Psi_a_21_21-A.cube        Psi_b_21_6-A\".cube\n",
      "Phi_13.cube               Psi_a_21_6-A\".cube        Psi_b_22_16-A'.cube\n",
      "Phi_14.cube               Psi_a_22_16-A'.cube       Psi_b_22_22-A.cube\n",
      "Phi_15.cube               Psi_a_22_22-A.cube        Psi_b_23_17-A'.cube\n",
      "Phi_16.cube               Psi_a_23_17-A'.cube       Psi_b_23_23-A.cube\n",
      "Phi_17.cube               Psi_a_23_23-A.cube        Psi_b_24_18-A'.cube\n",
      "Phi_18.cube               Psi_a_24_18-A'.cube       Psi_b_24_24-A.cube\n",
      "Phi_19.cube               Psi_a_24_24-A.cube        Psi_b_25_19-A'.cube\n",
      "Phi_2.cube                Psi_a_25_19-A'.cube       Psi_b_25_25-A.cube\n",
      "Phi_20.cube               Psi_a_25_25-A.cube        Psi_b_26_26-A.cube\n",
      "Phi_21.cube               Psi_a_26_26-A.cube        Psi_b_27_27-A.cube\n",
      "Phi_22.cube               Psi_a_27_27-A.cube        Psi_b_28_28-A.cube\n",
      "Phi_23.cube               Psi_a_28_28-A.cube        Psi_b_29_29-A.cube\n",
      "Phi_24.cube               Psi_a_29_29-A.cube        Psi_b_2_2-A'.cube\n",
      "Phi_25.cube               Psi_a_2_2-A'.cube         Psi_b_2_2-A.cube\n",
      "Phi_26.cube               Psi_a_2_2-A.cube          Psi_b_30_30-A.cube\n",
      "Phi_27.cube               Psi_a_30_30-A.cube        Psi_b_31_31-A.cube\n",
      "Phi_28.cube               Psi_a_31_31-A.cube        Psi_b_32_32-A.cube\n",
      "Phi_29.cube               Psi_a_32_32-A.cube        Psi_b_33_33-A.cube\n",
      "Phi_3.cube                Psi_a_33_33-A.cube        Psi_b_34_34-A.cube\n",
      "Phi_30.cube               Psi_a_34_34-A.cube        Psi_b_35_35-A.cube\n",
      "Phi_31.cube               Psi_a_35_35-A.cube        Psi_b_36_36-A.cube\n",
      "Phi_32.cube               Psi_a_36_36-A.cube        Psi_b_37_37-A.cube\n",
      "Phi_33.cube               Psi_a_37_37-A.cube        Psi_b_38_38-A.cube\n",
      "Phi_34.cube               Psi_a_38_38-A.cube        Psi_b_39_39-A.cube\n",
      "Phi_35.cube               Psi_a_39_39-A.cube        Psi_b_3_3-A'.cube\n",
      "Phi_36.cube               Psi_a_3_3-A'.cube         Psi_b_3_3-A.cube\n",
      "Phi_37.cube               Psi_a_3_3-A.cube          Psi_b_40_40-A.cube\n",
      "Phi_38.cube               Psi_a_40_40-A.cube        Psi_b_41_41-A.cube\n",
      "Phi_39.cube               Psi_a_41_41-A.cube        Psi_b_42_42-A.cube\n",
      "Phi_4.cube                Psi_a_42_42-A.cube        Psi_b_43_43-A.cube\n",
      "Phi_40.cube               Psi_a_43_43-A.cube        Psi_b_44_44-A.cube\n",
      "Phi_41.cube               Psi_a_44_44-A.cube        Psi_b_45_45-A.cube\n",
      "Phi_42.cube               Psi_a_45_45-A.cube        Psi_b_46_46-A.cube\n",
      "Phi_43.cube               Psi_a_46_46-A.cube        Psi_b_47_47-A.cube\n",
      "Phi_44.cube               Psi_a_47_47-A.cube        Psi_b_48_48-A.cube\n",
      "Phi_45.cube               Psi_a_48_48-A.cube        Psi_b_49_49-A.cube\n",
      "Phi_46.cube               Psi_a_49_49-A.cube        Psi_b_4_4-A'.cube\n",
      "Phi_47.cube               Psi_a_4_4-A'.cube         Psi_b_4_4-A.cube\n",
      "Phi_48.cube               Psi_a_4_4-A.cube          Psi_b_50_50-A.cube\n",
      "Phi_49.cube               Psi_a_50_50-A.cube        Psi_b_5_1-A\".cube\n",
      "Phi_5.cube                Psi_a_5_1-A\".cube         Psi_b_5_5-A.cube\n",
      "Phi_50.cube               Psi_a_5_1-A\"_HOMO.cube    Psi_b_6_5-A'.cube\n",
      "Phi_51.cube               Psi_a_5_5-A.cube          Psi_b_6_6-A.cube\n",
      "Phi_52.cube               Psi_a_6_5-A'.cube         Psi_b_7_6-A'.cube\n",
      "Phi_53.cube               Psi_a_6_5-A'_LUMO.cube    Psi_b_7_7-A.cube\n",
      "Phi_54.cube               Psi_a_6_6-A.cube          Psi_b_8_7-A'.cube\n",
      "Phi_55.cube               Psi_a_7_6-A'.cube         Psi_b_8_8-A.cube\n",
      "Phi_6.cube                Psi_a_7_7-A.cube          Psi_b_9_8-A'.cube\n",
      "Phi_7.cube                Psi_a_8_7-A'.cube         Psi_b_9_9-A.cube\n",
      "Phi_8.cube                Psi_a_8_8-A.cube          Untitled.ipynb\n",
      "Phi_9.cube                Psi_a_9_8-A'.cube         Untitled1.ipynb\n",
      "Psi_a_10_10-A.cube        Psi_a_9_9-A.cube          Vizualize_MO on PDB.ipynb\n",
      "Psi_a_10_10-A_LUMO.cube   Psi_a_9_9-A_HOMO.cube     extact_ligand.py\n",
      "Psi_a_10_9-A'.cube        Psi_b_10_10-A.cube        geom.xyz\n",
      "Psi_a_11_11-A.cube        Psi_b_10_9-A'.cube        hetero_suffle.ipynb\n",
      "Psi_a_11_2-A\".cube        Psi_b_11_11-A.cube        mo.pse\n",
      "Psi_a_12_10-A'.cube       Psi_b_11_2-A\".cube        res.png\n",
      "Psi_a_12_12-A.cube        Psi_b_12_10-A'.cube       target.mol\n",
      "Psi_a_12_12-A_HOMO.cube   Psi_b_12_12-A.cube        tensor\n",
      "Psi_a_13_11-A'.cube       Psi_b_13_11-A'.cube       test.gif\n",
      "Psi_a_13_13-A.cube        Psi_b_13_13-A.cube        timer.dat\n",
      "Psi_a_13_13-A_LUMO.cube   Psi_b_14_14-A.cube\n"
     ]
    }
   ],
   "source": [
    "!ls"
   ]
  },
  {
   "cell_type": "code",
   "execution_count": null,
   "metadata": {},
   "outputs": [],
   "source": []
  }
 ],
 "metadata": {
  "kernelspec": {
   "display_name": "Python 3",
   "language": "python",
   "name": "python3"
  },
  "language_info": {
   "codemirror_mode": {
    "name": "ipython",
    "version": 3
   },
   "file_extension": ".py",
   "mimetype": "text/x-python",
   "name": "python",
   "nbconvert_exporter": "python",
   "pygments_lexer": "ipython3",
   "version": "3.6.8"
  }
 },
 "nbformat": 4,
 "nbformat_minor": 2
}
