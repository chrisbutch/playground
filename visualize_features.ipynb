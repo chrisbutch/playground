{
  "nbformat": 4,
  "nbformat_minor": 0,
  "metadata": {
    "colab": {
      "name": "visualize_features.ipynb",
      "version": "0.3.2",
      "provenance": [],
      "include_colab_link": true
    },
    "kernelspec": {
      "name": "python3",
      "display_name": "Python 3"
    }
  },
  "cells": [
    {
      "cell_type": "markdown",
      "metadata": {
        "id": "view-in-github",
        "colab_type": "text"
      },
      "source": [
        "<a href=\"https://colab.research.google.com/github/iwatobipen/playground/blob/master/visualize_features.ipynb\" target=\"_parent\"><img src=\"https://colab.research.google.com/assets/colab-badge.svg\" alt=\"Open In Colab\"/></a>"
      ]
    },
    {
      "metadata": {
        "id": "bO9XRTbqaOMN",
        "colab_type": "code",
        "colab": {
          "base_uri": "https://localhost:8080/",
          "height": 3094
        },
        "outputId": "c3468b4a-9747-40fd-d535-3aa7ddd09b37"
      },
      "cell_type": "code",
      "source": [
        "!wget -c https://repo.continuum.io/miniconda/Miniconda3-latest-Linux-x86_64.sh\n",
        "!chmod +x Miniconda3-latest-Linux-x86_64.sh\n",
        "!time bash ./Miniconda3-latest-Linux-x86_64.sh -b -f -p /usr/local\n",
        "!time conda install -q -y -c conda-forge rdkit\n",
        "import sys\n",
        "import os\n",
        "sys.path.append('/usr/local/lib/python3.7/site-packages/')"
      ],
      "execution_count": 1,
      "outputs": [
        {
          "output_type": "stream",
          "text": [
            "--2018-11-07 13:42:36--  https://repo.continuum.io/miniconda/Miniconda3-latest-Linux-x86_64.sh\n",
            "Resolving repo.continuum.io (repo.continuum.io)... 104.16.19.10, 104.16.18.10, 2606:4700::6810:130a, ...\n",
            "Connecting to repo.continuum.io (repo.continuum.io)|104.16.19.10|:443... connected.\n",
            "HTTP request sent, awaiting response... 200 OK\n",
            "Length: 62574861 (60M) [application/x-sh]\n",
            "Saving to: ‘Miniconda3-latest-Linux-x86_64.sh’\n",
            "\n",
            "Miniconda3-latest-L 100%[===================>]  59.68M   104MB/s    in 0.6s    \n",
            "\n",
            "2018-11-07 13:42:41 (104 MB/s) - ‘Miniconda3-latest-Linux-x86_64.sh’ saved [62574861/62574861]\n",
            "\n",
            "PREFIX=/usr/local\n",
            "reinstalling: python-3.7.0-hc3d631a_0 ...\n",
            "Python 3.7.0\n",
            "reinstalling: ca-certificates-2018.03.07-0 ...\n",
            "reinstalling: conda-env-2.6.0-1 ...\n",
            "reinstalling: libgcc-ng-8.2.0-hdf63c60_1 ...\n",
            "reinstalling: libstdcxx-ng-8.2.0-hdf63c60_1 ...\n",
            "reinstalling: libffi-3.2.1-hd88cf55_4 ...\n",
            "reinstalling: ncurses-6.1-hf484d3e_0 ...\n",
            "reinstalling: openssl-1.0.2p-h14c3975_0 ...\n",
            "reinstalling: xz-5.2.4-h14c3975_4 ...\n",
            "reinstalling: yaml-0.1.7-had09818_2 ...\n",
            "reinstalling: zlib-1.2.11-ha838bed_2 ...\n",
            "reinstalling: libedit-3.1.20170329-h6b74fdf_2 ...\n",
            "reinstalling: readline-7.0-h7b6447c_5 ...\n",
            "reinstalling: tk-8.6.8-hbc83047_0 ...\n",
            "reinstalling: sqlite-3.24.0-h84994c4_0 ...\n",
            "reinstalling: asn1crypto-0.24.0-py37_0 ...\n",
            "reinstalling: certifi-2018.8.24-py37_1 ...\n",
            "reinstalling: chardet-3.0.4-py37_1 ...\n",
            "reinstalling: idna-2.7-py37_0 ...\n",
            "reinstalling: pycosat-0.6.3-py37h14c3975_0 ...\n",
            "reinstalling: pycparser-2.18-py37_1 ...\n",
            "reinstalling: pysocks-1.6.8-py37_0 ...\n",
            "reinstalling: ruamel_yaml-0.15.46-py37h14c3975_0 ...\n",
            "reinstalling: six-1.11.0-py37_1 ...\n",
            "reinstalling: cffi-1.11.5-py37he75722e_1 ...\n",
            "reinstalling: setuptools-40.2.0-py37_0 ...\n",
            "reinstalling: cryptography-2.3.1-py37hc365091_0 ...\n",
            "reinstalling: wheel-0.31.1-py37_0 ...\n",
            "reinstalling: pip-10.0.1-py37_0 ...\n",
            "reinstalling: pyopenssl-18.0.0-py37_0 ...\n",
            "reinstalling: urllib3-1.23-py37_0 ...\n",
            "reinstalling: requests-2.19.1-py37_0 ...\n",
            "reinstalling: conda-4.5.11-py37_0 ...\n",
            "installation finished.\n",
            "WARNING:\n",
            "    You currently have a PYTHONPATH environment variable set. This may cause\n",
            "    unexpected behavior when running the Python interpreter in Miniconda3.\n",
            "    For best results, please verify that your PYTHONPATH only points to\n",
            "    directories of packages that are compatible with the Python interpreter\n",
            "    in Miniconda3: /usr/local\n",
            "\n",
            "real\t0m18.157s\n",
            "user\t0m16.534s\n",
            "sys\t0m3.094s\n",
            "Solving environment: ...working... done\n",
            "\n",
            "## Package Plan ##\n",
            "\n",
            "  environment location: /usr/local\n",
            "\n",
            "  added / updated specs: \n",
            "    - rdkit\n",
            "\n",
            "\n",
            "The following packages will be downloaded:\n",
            "\n",
            "    package                    |            build\n",
            "    ---------------------------|-----------------\n",
            "    xorg-xextproto-7.3.0       |       h470a237_2          26 KB  conda-forge\n",
            "    mkl-2019.0                 |              118       204.4 MB\n",
            "    rdkit-2018.09.1            |   py37h0c1dfbd_0        19.7 MB  conda-forge\n",
            "    pillow-5.3.0               |   py37hc736899_0         552 KB  conda-forge\n",
            "    gettext-0.19.8.1           |       h5e8e0c9_1         3.5 MB  conda-forge\n",
            "    freetype-2.9.1             |       h6debe1e_4         800 KB  conda-forge\n",
            "    intel-openmp-2019.0        |              118         721 KB\n",
            "    xorg-libx11-1.6.6          |       h470a237_0         890 KB  conda-forge\n",
            "    libxcb-1.13                |       h470a237_2         393 KB  conda-forge\n",
            "    pandas-0.23.4              |   py37hf8a1672_0        27.5 MB  conda-forge\n",
            "    certifi-2018.10.15         |        py37_1000         138 KB  conda-forge\n",
            "    pcre-8.41                  |       hfc679d8_3         243 KB  conda-forge\n",
            "    xorg-xproto-7.0.31         |       h470a237_7          72 KB  conda-forge\n",
            "    xorg-kbproto-1.0.7         |       h470a237_2          25 KB  conda-forge\n",
            "    libuuid-2.32.1             |       h470a237_2          24 KB  conda-forge\n",
            "    boost-1.68.0               |   py37h3e44d54_1         357 KB  conda-forge\n",
            "    xorg-renderproto-0.11.1    |       h470a237_2           8 KB  conda-forge\n",
            "    ca-certificates-2018.10.15 |       ha4d7672_0         135 KB  conda-forge\n",
            "    blas-1.0                   |              mkl           6 KB\n",
            "    pthread-stubs-0.4          |       h470a237_1           5 KB  conda-forge\n",
            "    glib-2.56.2                |       h464dc38_1         4.6 MB  conda-forge\n",
            "    xorg-libxau-1.0.8          |       h470a237_6          12 KB  conda-forge\n",
            "    libpng-1.6.35              |       ha92aebf_2         305 KB  conda-forge\n",
            "    libxml2-2.9.8              |       h422b904_5         1.8 MB  conda-forge\n",
            "    xorg-libsm-1.2.3           |       h8c8a85c_0          24 KB  conda-forge\n",
            "    libtiff-4.0.9              |       he6b73bb_2         521 KB  conda-forge\n",
            "    numpy-base-1.11.3          |  py37h81de0dd_10         3.5 MB\n",
            "    libgfortran-ng-7.2.0       |       hdf63c60_3         1.2 MB  conda-forge\n",
            "    xorg-libice-1.0.9          |       h470a237_4          55 KB  conda-forge\n",
            "    pycairo-1.18.0             |   py37h4d1f301_0          76 KB  conda-forge\n",
            "    libiconv-1.15              |       h470a237_3         2.0 MB  conda-forge\n",
            "    icu-58.2                   |       hfc679d8_0        22.8 MB  conda-forge\n",
            "    bzip2-1.0.6                |       h470a237_2         310 KB  conda-forge\n",
            "    openssl-1.0.2p             |       h470a237_1         3.1 MB  conda-forge\n",
            "    pixman-0.34.0              |       h470a237_3         1.2 MB  conda-forge\n",
            "    numpy-1.11.3               |  py37h1d66e8a_10          11 KB\n",
            "    python-dateutil-2.7.5      |             py_0         218 KB  conda-forge\n",
            "    conda-4.5.11               |        py37_1000         651 KB  conda-forge\n",
            "    olefile-0.46               |             py_0          31 KB  conda-forge\n",
            "    cairo-1.14.12              |       h276e583_5         1.3 MB  conda-forge\n",
            "    pytz-2018.7                |             py_0         226 KB  conda-forge\n",
            "    fontconfig-2.13.1          |       h65d0f4c_0         320 KB  conda-forge\n",
            "    xorg-libxdmcp-1.1.2        |       h470a237_7          17 KB  conda-forge\n",
            "    xorg-libxext-1.3.3         |       h470a237_4          45 KB  conda-forge\n",
            "    xorg-libxrender-0.9.10     |       h470a237_2          28 KB  conda-forge\n",
            "    boost-cpp-1.68.0           |       h3a22d5f_0        20.1 MB  conda-forge\n",
            "    jpeg-9c                    |       h470a237_1         229 KB  conda-forge\n",
            "    ------------------------------------------------------------\n",
            "                                           Total:       324.2 MB\n",
            "\n",
            "The following NEW packages will be INSTALLED:\n",
            "\n",
            "    blas:             1.0-mkl                             \n",
            "    boost:            1.68.0-py37h3e44d54_1    conda-forge\n",
            "    boost-cpp:        1.68.0-h3a22d5f_0        conda-forge\n",
            "    bzip2:            1.0.6-h470a237_2         conda-forge\n",
            "    cairo:            1.14.12-h276e583_5       conda-forge\n",
            "    fontconfig:       2.13.1-h65d0f4c_0        conda-forge\n",
            "    freetype:         2.9.1-h6debe1e_4         conda-forge\n",
            "    gettext:          0.19.8.1-h5e8e0c9_1      conda-forge\n",
            "    glib:             2.56.2-h464dc38_1        conda-forge\n",
            "    icu:              58.2-hfc679d8_0          conda-forge\n",
            "    intel-openmp:     2019.0-118                          \n",
            "    jpeg:             9c-h470a237_1            conda-forge\n",
            "    libgfortran-ng:   7.2.0-hdf63c60_3         conda-forge\n",
            "    libiconv:         1.15-h470a237_3          conda-forge\n",
            "    libpng:           1.6.35-ha92aebf_2        conda-forge\n",
            "    libtiff:          4.0.9-he6b73bb_2         conda-forge\n",
            "    libuuid:          2.32.1-h470a237_2        conda-forge\n",
            "    libxcb:           1.13-h470a237_2          conda-forge\n",
            "    libxml2:          2.9.8-h422b904_5         conda-forge\n",
            "    mkl:              2019.0-118                          \n",
            "    numpy:            1.11.3-py37h1d66e8a_10              \n",
            "    numpy-base:       1.11.3-py37h81de0dd_10              \n",
            "    olefile:          0.46-py_0                conda-forge\n",
            "    pandas:           0.23.4-py37hf8a1672_0    conda-forge\n",
            "    pcre:             8.41-hfc679d8_3          conda-forge\n",
            "    pillow:           5.3.0-py37hc736899_0     conda-forge\n",
            "    pixman:           0.34.0-h470a237_3        conda-forge\n",
            "    pthread-stubs:    0.4-h470a237_1           conda-forge\n",
            "    pycairo:          1.18.0-py37h4d1f301_0    conda-forge\n",
            "    python-dateutil:  2.7.5-py_0               conda-forge\n",
            "    pytz:             2018.7-py_0              conda-forge\n",
            "    rdkit:            2018.09.1-py37h0c1dfbd_0 conda-forge\n",
            "    xorg-kbproto:     1.0.7-h470a237_2         conda-forge\n",
            "    xorg-libice:      1.0.9-h470a237_4         conda-forge\n",
            "    xorg-libsm:       1.2.3-h8c8a85c_0         conda-forge\n",
            "    xorg-libx11:      1.6.6-h470a237_0         conda-forge\n",
            "    xorg-libxau:      1.0.8-h470a237_6         conda-forge\n",
            "    xorg-libxdmcp:    1.1.2-h470a237_7         conda-forge\n",
            "    xorg-libxext:     1.3.3-h470a237_4         conda-forge\n",
            "    xorg-libxrender:  0.9.10-h470a237_2        conda-forge\n",
            "    xorg-renderproto: 0.11.1-h470a237_2        conda-forge\n",
            "    xorg-xextproto:   7.3.0-h470a237_2         conda-forge\n",
            "    xorg-xproto:      7.0.31-h470a237_7        conda-forge\n",
            "\n",
            "The following packages will be UPDATED:\n",
            "\n",
            "    ca-certificates:  2018.03.07-0                         --> 2018.10.15-ha4d7672_0 conda-forge\n",
            "    certifi:          2018.8.24-py37_1                     --> 2018.10.15-py37_1000  conda-forge\n",
            "    conda:            4.5.11-py37_0                        --> 4.5.11-py37_1000      conda-forge\n",
            "    openssl:          1.0.2p-h14c3975_0                    --> 1.0.2p-h470a237_1     conda-forge\n",
            "\n",
            "Preparing transaction: ...working... done\n",
            "Verifying transaction: ...working... done\n",
            "Executing transaction: ...working... done\n",
            "\n",
            "real\t3m2.409s\n",
            "user\t2m41.753s\n",
            "sys\t0m9.685s\n"
          ],
          "name": "stdout"
        }
      ]
    },
    {
      "metadata": {
        "id": "kD85vETmaPaH",
        "colab_type": "code",
        "colab": {
          "base_uri": "https://localhost:8080/",
          "height": 34
        },
        "outputId": "3cb27209-df87-4493-d7ef-2c10b0f199b5"
      },
      "cell_type": "code",
      "source": [
        "import os\n",
        "import numpy as np\n",
        "from sklearn.ensemble import RandomForestClassifier\n",
        "from sklearn.model_selection import StratifiedKFold\n",
        "from sklearn.metrics import accuracy_score\n",
        "from rdkit import Chem\n",
        "from rdkit.Chem import AllChem\n",
        "from rdkit.Chem import Draw\n",
        "from rdkit.Chem.Draw import IPythonConsole\n",
        "from rdkit.Chem import DataStructs\n",
        "from rdkit.Chem import RDConfig\n",
        "from rdkit.Chem import rdBase\n",
        "print(rdBase.rdkitVersion)"
      ],
      "execution_count": 2,
      "outputs": [
        {
          "output_type": "stream",
          "text": [
            "2018.09.1\n"
          ],
          "name": "stdout"
        }
      ]
    },
    {
      "metadata": {
        "id": "hTf8R9lkaSA9",
        "colab_type": "code",
        "colab": {}
      },
      "cell_type": "code",
      "source": [
        "trainpath = os.path.join(RDConfig.RDDocsDir, 'Book/data/solubility.train.sdf')\n",
        "testpath = os.path.join(RDConfig.RDDocsDir, 'Book/data/solubility.test.sdf')\n",
        "solclass = {'(A) low':0, '(B) medium': 1, '(C) high': 2}\n",
        "n_splits = 10"
      ],
      "execution_count": 0,
      "outputs": []
    },
    {
      "metadata": {
        "id": "wYr7QySlaUaE",
        "colab_type": "code",
        "colab": {}
      },
      "cell_type": "code",
      "source": [
        "def mol2fp(mol,nBits=1024):\n",
        "    bitInfo={}\n",
        "    fp = AllChem.GetMorganFingerprintAsBitVect(mol, 2, bitInfo=bitInfo)\n",
        "    arr = np.zeros((1,))\n",
        "    DataStructs.ConvertToNumpyArray(fp, arr)\n",
        "    return arr, bitInfo"
      ],
      "execution_count": 0,
      "outputs": []
    },
    {
      "metadata": {
        "id": "ZmPQxRFUaWiU",
        "colab_type": "code",
        "colab": {}
      },
      "cell_type": "code",
      "source": [
        "trainmols = [m for m in Chem.SDMolSupplier(trainpath)]\n",
        "testmols = [m for m in Chem.SDMolSupplier(testpath)]"
      ],
      "execution_count": 0,
      "outputs": []
    },
    {
      "metadata": {
        "id": "2G82DjMsaYdc",
        "colab_type": "code",
        "colab": {}
      },
      "cell_type": "code",
      "source": [
        "trainX = np.array([mol2fp(m)[0] for m in trainmols])\n",
        "trainY = np.array([solclass[m.GetProp('SOL_classification')] for m in trainmols], dtype=np.int)\n",
        "\n",
        "testX = np.array([mol2fp(m)[0] for m in testmols])\n",
        "testY = np.array([solclass[m.GetProp('SOL_classification')] for m in testmols], dtype=np.int)"
      ],
      "execution_count": 0,
      "outputs": []
    },
    {
      "metadata": {
        "id": "meTc5T8ZaaxD",
        "colab_type": "code",
        "colab": {
          "base_uri": "https://localhost:8080/",
          "height": 187
        },
        "outputId": "5036968a-c3c0-44b3-8efa-73bdeddd9ac2"
      },
      "cell_type": "code",
      "source": [
        "rfclf = RandomForestClassifier(n_estimators=50)\n",
        "skf = StratifiedKFold(n_splits=n_splits)\n",
        "for train, test in skf.split(trainX, trainY):\n",
        "    trainx = trainX[train]\n",
        "    trainy = trainY[train]\n",
        "    testx = trainX[test]\n",
        "    testy = trainY[test]\n",
        "    rfclf.fit(trainx, trainy)\n",
        "    predy = rfclf.predict(testx)\n",
        "    print(accuracy_score(testy, predy))"
      ],
      "execution_count": 7,
      "outputs": [
        {
          "output_type": "stream",
          "text": [
            "0.40384615384615385\n",
            "0.4807692307692308\n",
            "0.6213592233009708\n",
            "0.6213592233009708\n",
            "0.6116504854368932\n",
            "0.6213592233009708\n",
            "0.5784313725490197\n",
            "0.6039603960396039\n",
            "0.5346534653465347\n",
            "0.5742574257425742\n"
          ],
          "name": "stdout"
        }
      ]
    },
    {
      "metadata": {
        "id": "UNLT7ex3ac07",
        "colab_type": "code",
        "colab": {}
      },
      "cell_type": "code",
      "source": [
        "fimportance = rfclf.feature_importances_\n",
        "fimportance_dict = dict(zip(range(1024), fimportance))\n",
        "sorteddata = sorted(fimportance_dict.items(), key=lambda x:-x[1])\n",
        "top50feat = [x[0] for x in sorteddata][:50]"
      ],
      "execution_count": 0,
      "outputs": []
    },
    {
      "metadata": {
        "id": "30qcfLOVagEn",
        "colab_type": "code",
        "colab": {}
      },
      "cell_type": "code",
      "source": [
        "solblemol_idx = []\n",
        "for i, v in enumerate(testY):\n",
        "    if v == 2:\n",
        "        solblemol_idx.append(i)"
      ],
      "execution_count": 0,
      "outputs": []
    },
    {
      "metadata": {
        "id": "HGxR-fijaysp",
        "colab_type": "code",
        "colab": {
          "base_uri": "https://localhost:8080/",
          "height": 167
        },
        "outputId": "4c1d48ca-b563-4fec-8e18-2aae0d959a19"
      },
      "cell_type": "code",
      "source": [
        "testidx = solblemol_idx[-1] \n",
        "testmols[testidx]"
      ],
      "execution_count": 10,
      "outputs": [
        {
          "output_type": "execute_result",
          "data": {
            "image/png": "[encoded data removed]",
            "text/plain": [
              "<rdkit.Chem.rdchem.Mol at 0x7fe808c388f0>"
            ]
          },
          "metadata": {
            "tags": []
          },
          "execution_count": 10
        }
      ]
    },
    {
      "metadata": {
        "id": "d9_Nql4KbYAy",
        "colab_type": "code",
        "colab": {
          "base_uri": "https://localhost:8080/",
          "height": 34
        },
        "outputId": "68d6403e-d62b-45f2-9982-26c8e98b70d5"
      },
      "cell_type": "code",
      "source": [
        "rfclf.predict([testX[testidx]])"
      ],
      "execution_count": 11,
      "outputs": [
        {
          "output_type": "execute_result",
          "data": {
            "text/plain": [
              "array([2])"
            ]
          },
          "metadata": {
            "tags": []
          },
          "execution_count": 11
        }
      ]
    },
    {
      "metadata": {
        "id": "AbjX1_h3bZ7q",
        "colab_type": "code",
        "colab": {}
      },
      "cell_type": "code",
      "source": [
        "fp, bitinfo = mol2fp(testmols[testidx])"
      ],
      "execution_count": 0,
      "outputs": []
    },
    {
      "metadata": {
        "id": "N25UX77LbcMK",
        "colab_type": "code",
        "colab": {}
      },
      "cell_type": "code",
      "source": [
        "onbit = [bit for bit in bitinfo.keys()]\n",
        "importantonbits = list(set(onbit) & set(top50feat))"
      ],
      "execution_count": 0,
      "outputs": []
    },
    {
      "metadata": {
        "id": "XJOTo05fbeTZ",
        "colab_type": "code",
        "colab": {
          "base_uri": "https://localhost:8080/",
          "height": 617
        },
        "outputId": "11a9228c-0a54-4de8-c471-1cef89d7f65b"
      },
      "cell_type": "code",
      "source": [
        "tpls = [(testmols[testidx], x, bitinfo) for x in importantonbits]\n",
        "Draw.DrawMorganBits(tpls, legends = [str(x) for x in importantonbits])"
      ],
      "execution_count": 14,
      "outputs": [
        {
          "output_type": "execute_result",
          "data": {
            "image/png": "[encoded data removed]",
            "text/plain": [
              "<PIL.PngImagePlugin.PngImageFile image mode=RGB size=450x600 at 0x7FE80892D2E8>"
            ]
          },
          "metadata": {
            "tags": []
          },
          "execution_count": 14
        }
      ]
    },
    {
      "metadata": {
        "id": "IF3rxKghbgXh",
        "colab_type": "code",
        "colab": {}
      },
      "cell_type": "code",
      "source": [
        ""
      ],
      "execution_count": 0,
      "outputs": []
    }
  ]
}