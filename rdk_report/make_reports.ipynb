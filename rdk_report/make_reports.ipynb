{
 "cells": [
  {
   "cell_type": "code",
   "execution_count": 1,
   "metadata": {},
   "outputs": [
    {
     "name": "stderr",
     "output_type": "stream",
     "text": [
      "RDKit WARNING: [22:11:27] Enabling RDKit 2019.09.3 jupyter extensions\n"
     ]
    }
   ],
   "source": [
    "from rdkit import Chem\n",
    "from rdkit.Chem import Draw\n",
    "from rdkit.Chem.Draw import rdMolDraw2D\n",
    "from rdkit.Chem.Draw import IPythonConsole\n",
    "from rdkit.Chem.Draw import SimilarityMaps\n",
    "from rdkit.Chem import RDConfig\n",
    "from rdkit.Chem import AllChem\n",
    "from rdkit.Chem import DataStructs\n",
    "import matplotlib.pyplot as plt\n",
    "from matplotlib.backends.backend_pgf import PdfPages\n",
    "import os\n",
    "from PIL import Image\n",
    "import io\n",
    "import numpy as np"
   ]
  },
  {
   "cell_type": "code",
   "execution_count": 2,
   "metadata": {},
   "outputs": [],
   "source": [
    "plt.interactive('off')\n",
    "mols = [m for m in Chem.SDMolSupplier(os.path.join(RDConfig.RDDocsDir, 'Book/data/cdk2.sdf'))]\n",
    "for m in mols:\n",
    "    AllChem.Compute2DCoords(m)\n",
    "fps = [AllChem.GetMorganFingerprintAsBitVect(m, 2) for m in mols]"
   ]
  },
  {
   "cell_type": "code",
   "execution_count": 3,
   "metadata": {},
   "outputs": [],
   "source": [
    "refmol = mols[0]\n",
    "probmol = mols[1]\n",
    "def simmap(refmol, probmol):\n",
    "    im, score = SimilarityMaps.GetSimilarityMapForFingerprint(refmol, \n",
    "                                                               probmol, \n",
    "                                                               SimilarityMaps.GetMorganFingerprint, \n",
    "                                                               colorMap='coolwarm',\n",
    "                                                               alpha=0.01,\n",
    "                                                               size=(200,200))\n",
    "    bio = io.BytesIO()\n",
    "    im.savefig(bio, bbox_inches='tight', dpi=200)\n",
    "    im = Image.open(bio)\n",
    "    plt.clf()\n",
    "    return im, score\n"
   ]
  },
  {
   "cell_type": "code",
   "execution_count": 4,
   "metadata": {},
   "outputs": [],
   "source": [
    "im1, _ = simmap(mols[0], mols[0])\n",
    "im2s, scores = [], []\n",
    "for i, m in enumerate(mols[:5]):\n",
    "    im2, score = simmap(mols[0], m)\n",
    "    im2s.append(im2)\n",
    "    scores.append(score)"
   ]
  },
  {
   "cell_type": "code",
   "execution_count": 5,
   "metadata": {},
   "outputs": [],
   "source": [
    "\n",
    "plt.clf()\n",
    "plt.interactive('off')\n",
    "fig = plt.figure(figsize=(8.27, 11.69)) #A4 size\n",
    "pdf_pages = PdfPages('report.pdf')\n",
    "\n",
    "\n",
    "for i, m in enumerate(mols[:5]):\n",
    "    ax1 = plt.subplot2grid((5,3),(i,0))\n",
    "    im1 = im1.resize((400,400))\n",
    "    ax1.imshow(im1, interpolation=\"catrom\")\n",
    "    ax1.get_xaxis().set_visible(False)\n",
    "    ax1.get_yaxis().set_visible(False)   \n",
    "    \n",
    "    ax2 = plt.subplot2grid((5,3),(i,1))\n",
    "    ax2.imshow(im2s[i], interpolation=\"catrom\")\n",
    "    ax2.get_xaxis().set_visible(False)\n",
    "    ax2.get_yaxis().set_visible(False)\n",
    " \n",
    "    ax3 = plt.subplot2grid((5,3),(i,2))\n",
    "    ax3.table(cellText=[[\"SimScore\",f\"{scores[i]:.2}\"]],bbox=(0,0,1,1), cellLoc=\"center\")\n",
    "    ax3.get_xaxis().set_visible(False)\n",
    "    ax3.get_yaxis().set_visible(False)\n",
    "    ax3.axis('off')\n",
    "pdf_pages.savefig(fig, dpi=200)\n",
    "pdf_pages.close()"
   ]
  },
  {
   "cell_type": "code",
   "execution_count": null,
   "metadata": {},
   "outputs": [],
   "source": []
  }
 ],
 "metadata": {
  "kernelspec": {
   "display_name": "Python 3",
   "language": "python",
   "name": "python3"
  },
  "language_info": {
   "codemirror_mode": {
    "name": "ipython",
    "version": 3
   },
   "file_extension": ".py",
   "mimetype": "text/x-python",
   "name": "python",
   "nbconvert_exporter": "python",
   "pygments_lexer": "ipython3",
   "version": "3.7.3"
  }
 },
 "nbformat": 4,
 "nbformat_minor": 4
}
