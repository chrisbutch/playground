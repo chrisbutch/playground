{
 "cells": [
  {
   "cell_type": "code",
   "execution_count": 1,
   "metadata": {},
   "outputs": [],
   "source": [
    "from rdkit import Chem\n",
    "from rdkit.Chem import AllChem\n",
    "from rdkit.Chem import Draw\n",
    "from rdkit.Chem import rdMolTransforms\n",
    "from rdkit.Chem.Draw import IPythonConsole\n",
    "AllChem.SetPreferCoordGen(True)"
   ]
  },
  {
   "cell_type": "code",
   "execution_count": 2,
   "metadata": {},
   "outputs": [],
   "source": [
    "def mol_with_atom_index(mol):\n",
    "    for atom in mol.GetAtoms():\n",
    "        atom.SetAtomMapNum(atom.GetIdx())\n",
    "    return mol"
   ]
  },
  {
   "cell_type": "code",
   "execution_count": 3,
   "metadata": {},
   "outputs": [],
   "source": [
    "import py3Dmol"
   ]
  },
  {
   "cell_type": "code",
   "execution_count": 4,
   "metadata": {},
   "outputs": [],
   "source": [
    "mol = Chem.MolFromSmiles('C=CC(=O)OC')"
   ]
  },
  {
   "cell_type": "code",
   "execution_count": 5,
   "metadata": {},
   "outputs": [
    {
     "data": {
      "image/png": "[encoded data removed]",
      "text/plain": [
       "<rdkit.Chem.rdchem.Mol at 0x7f9faa4af490>"
      ]
     },
     "execution_count": 5,
     "metadata": {},
     "output_type": "execute_result"
    }
   ],
   "source": [
    "hmol = Chem.AddHs(mol)\n",
    "mol_with_atom_index(hmol)"
   ]
  },
  {
   "cell_type": "code",
   "execution_count": 6,
   "metadata": {
    "scrolled": true
   },
   "outputs": [
    {
     "data": {
      "application/3dmoljs_load.v0": "<div id=\"3dmolviewer_1597475038633385\"  style=\"position: relative; width: 400px; height: 400px\">\n        <p id=\"3dmolwarning_1597475038633385\" style=\"background-color:#ffcccc;color:black\">You appear to be running in JupyterLab (or JavaScript failed to load for some other reason).  You need to install the 3dmol extension: <br>\n        <tt>jupyter labextension install jupyterlab_3dmol</tt></p>\n        </div>\n<script>\n\nvar loadScriptAsync = function(uri){\n  return new Promise((resolve, reject) => {\n    var tag = document.createElement('script');\n    tag.src = uri;\n    tag.async = true;\n    tag.onload = () => {\n      resolve();\n    };\n  var firstScriptTag = document.getElementsByTagName('script')[0];\n  firstScriptTag.parentNode.insertBefore(tag, firstScriptTag);\n});\n};\n\nif(typeof $3Dmolpromise === 'undefined') {\n$3Dmolpromise = null;\n  $3Dmolpromise = loadScriptAsync('https://3dmol.csb.pitt.edu/build/3Dmol.js');\n}\n\nvar viewer_1597475038633385 = null;\nvar warn = document.getElementById(\"3dmolwarning_1597475038633385\");\nif(warn) {\n    warn.parentNode.removeChild(warn);\n}\n$3Dmolpromise.then(function() {\nviewer_1597475038633385 = $3Dmol.createViewer($(\"#3dmolviewer_1597475038633385\"),{backgroundColor:\"white\"});\n\tviewer_1597475038633385.removeAllModels();\n\tviewer_1597475038633385.addModel(\"\\n     RDKit          3D\\n\\n 12 11  0  0  0  0  0  0  0  0999 V2000\\n    2.1542    0.3889    0.4057 C   0  0  0  0  0  0  0  0  0  0  0  0\\n    1.5425   -0.5998   -0.1883 C   0  0  0  0  0  0  0  0  0  1  0  0\\n    0.0795   -0.5908   -0.3553 C   0  0  0  0  0  0  0  0  0  2  0  0\\n   -0.5050   -1.5395   -0.9250 O   0  0  0  0  0  0  0  0  0  3  0  0\\n   -0.6993    0.4530    0.1045 O   0  0  0  0  0  0  0  0  0  4  0  0\\n   -2.1245    0.4525   -0.0632 C   0  0  0  0  0  0  0  0  0  5  0  0\\n    1.6311    1.2502    0.7991 H   0  0  0  0  0  0  0  0  0  6  0  0\\n    3.2279    0.3765    0.5252 H   0  0  0  0  0  0  0  0  0  7  0  0\\n    2.0986   -1.4403   -0.5669 H   0  0  0  0  0  0  0  0  0  8  0  0\\n   -2.5071    1.4724   -0.0086 H   0  0  0  0  0  0  0  0  0  9  0  0\\n   -2.2939    0.0361   -1.0933 H   0  0  0  0  0  0  0  0  0 10  0  0\\n   -2.6039   -0.2592    0.6310 H   0  0  0  0  0  0  0  0  0 11  0  0\\n  1  2  2  3\\n  2  3  1  0\\n  3  4  2  0\\n  3  5  1  0\\n  5  6  1  0\\n  1  7  1  0\\n  1  8  1  0\\n  2  9  1  0\\n  6 10  1  0\\n  6 11  1  0\\n  6 12  1  0\\nM  END\\n\",\"sdf\");\n\tviewer_1597475038633385.setStyle({\"stick\": {}});\n\tviewer_1597475038633385.setBackgroundColor(\"0xeeeeee\");\n\tviewer_1597475038633385.zoomTo();\nviewer_1597475038633385.render();\n});\n</script>",
      "text/html": [
       "<div id=\"3dmolviewer_1597475038633385\"  style=\"position: relative; width: 400px; height: 400px\">\n",
       "        <p id=\"3dmolwarning_1597475038633385\" style=\"background-color:#ffcccc;color:black\">You appear to be running in JupyterLab (or JavaScript failed to load for some other reason).  You need to install the 3dmol extension: <br>\n",
       "        <tt>jupyter labextension install jupyterlab_3dmol</tt></p>\n",
       "        </div>\n",
       "<script>\n",
       "\n",
       "var loadScriptAsync = function(uri){\n",
       "  return new Promise((resolve, reject) => {\n",
       "    var tag = document.createElement('script');\n",
       "    tag.src = uri;\n",
       "    tag.async = true;\n",
       "    tag.onload = () => {\n",
       "      resolve();\n",
       "    };\n",
       "  var firstScriptTag = document.getElementsByTagName('script')[0];\n",
       "  firstScriptTag.parentNode.insertBefore(tag, firstScriptTag);\n",
       "});\n",
       "};\n",
       "\n",
       "if(typeof $3Dmolpromise === 'undefined') {\n",
       "$3Dmolpromise = null;\n",
       "  $3Dmolpromise = loadScriptAsync('https://3dmol.csb.pitt.edu/build/3Dmol.js');\n",
       "}\n",
       "\n",
       "var viewer_1597475038633385 = null;\n",
       "var warn = document.getElementById(\"3dmolwarning_1597475038633385\");\n",
       "if(warn) {\n",
       "    warn.parentNode.removeChild(warn);\n",
       "}\n",
       "$3Dmolpromise.then(function() {\n",
       "viewer_1597475038633385 = $3Dmol.createViewer($(\"#3dmolviewer_1597475038633385\"),{backgroundColor:\"white\"});\n",
       "\tviewer_1597475038633385.removeAllModels();\n",
       "\tviewer_1597475038633385.addModel(\"\\n     RDKit          3D\\n\\n 12 11  0  0  0  0  0  0  0  0999 V2000\\n    2.1542    0.3889    0.4057 C   0  0  0  0  0  0  0  0  0  0  0  0\\n    1.5425   -0.5998   -0.1883 C   0  0  0  0  0  0  0  0  0  1  0  0\\n    0.0795   -0.5908   -0.3553 C   0  0  0  0  0  0  0  0  0  2  0  0\\n   -0.5050   -1.5395   -0.9250 O   0  0  0  0  0  0  0  0  0  3  0  0\\n   -0.6993    0.4530    0.1045 O   0  0  0  0  0  0  0  0  0  4  0  0\\n   -2.1245    0.4525   -0.0632 C   0  0  0  0  0  0  0  0  0  5  0  0\\n    1.6311    1.2502    0.7991 H   0  0  0  0  0  0  0  0  0  6  0  0\\n    3.2279    0.3765    0.5252 H   0  0  0  0  0  0  0  0  0  7  0  0\\n    2.0986   -1.4403   -0.5669 H   0  0  0  0  0  0  0  0  0  8  0  0\\n   -2.5071    1.4724   -0.0086 H   0  0  0  0  0  0  0  0  0  9  0  0\\n   -2.2939    0.0361   -1.0933 H   0  0  0  0  0  0  0  0  0 10  0  0\\n   -2.6039   -0.2592    0.6310 H   0  0  0  0  0  0  0  0  0 11  0  0\\n  1  2  2  3\\n  2  3  1  0\\n  3  4  2  0\\n  3  5  1  0\\n  5  6  1  0\\n  1  7  1  0\\n  1  8  1  0\\n  2  9  1  0\\n  6 10  1  0\\n  6 11  1  0\\n  6 12  1  0\\nM  END\\n\",\"sdf\");\n",
       "\tviewer_1597475038633385.setStyle({\"stick\": {}});\n",
       "\tviewer_1597475038633385.setBackgroundColor(\"0xeeeeee\");\n",
       "\tviewer_1597475038633385.zoomTo();\n",
       "viewer_1597475038633385.render();\n",
       "});\n",
       "</script>"
      ]
     },
     "metadata": {},
     "output_type": "display_data"
    }
   ],
   "source": [
    "AllChem.EmbedMolecule(hmol)\n",
    "IPythonConsole.drawMol3D(hmol)"
   ]
  },
  {
   "cell_type": "code",
   "execution_count": 7,
   "metadata": {},
   "outputs": [
    {
     "data": {
      "text/plain": [
       "179.99918297409627"
      ]
     },
     "execution_count": 7,
     "metadata": {},
     "output_type": "execute_result"
    }
   ],
   "source": [
    "rdMolTransforms.GetDihedralDeg(hmol.GetConformer(0), 0, 1, 2, 3)"
   ]
  },
  {
   "cell_type": "code",
   "execution_count": 8,
   "metadata": {},
   "outputs": [
    {
     "name": "stdout",
     "output_type": "stream",
     "text": [
      "0\n"
     ]
    },
    {
     "data": {
      "application/3dmoljs_load.v0": "<div id=\"3dmolviewer_15974750386417077\"  style=\"position: relative; width: 400px; height: 400px\">\n        <p id=\"3dmolwarning_15974750386417077\" style=\"background-color:#ffcccc;color:black\">You appear to be running in JupyterLab (or JavaScript failed to load for some other reason).  You need to install the 3dmol extension: <br>\n        <tt>jupyter labextension install jupyterlab_3dmol</tt></p>\n        </div>\n<script>\n\nvar loadScriptAsync = function(uri){\n  return new Promise((resolve, reject) => {\n    var tag = document.createElement('script');\n    tag.src = uri;\n    tag.async = true;\n    tag.onload = () => {\n      resolve();\n    };\n  var firstScriptTag = document.getElementsByTagName('script')[0];\n  firstScriptTag.parentNode.insertBefore(tag, firstScriptTag);\n});\n};\n\nif(typeof $3Dmolpromise === 'undefined') {\n$3Dmolpromise = null;\n  $3Dmolpromise = loadScriptAsync('https://3dmol.csb.pitt.edu/build/3Dmol.js');\n}\n\nvar viewer_15974750386417077 = null;\nvar warn = document.getElementById(\"3dmolwarning_15974750386417077\");\nif(warn) {\n    warn.parentNode.removeChild(warn);\n}\n$3Dmolpromise.then(function() {\nviewer_15974750386417077 = $3Dmol.createViewer($(\"#3dmolviewer_15974750386417077\"),{backgroundColor:\"white\"});\n\tviewer_15974750386417077.removeAllModels();\n\tviewer_15974750386417077.addModel(\"\\n     RDKit          3D\\n\\n 12 11  0  0  0  0  0  0  0  0999 V2000\\n    2.1542    0.3889    0.4057 C   0  0  0  0  0  0  0  0  0  0  0  0\\n    1.5425   -0.5998   -0.1883 C   0  0  0  0  0  0  0  0  0  1  0  0\\n    0.0795   -0.5908   -0.3553 C   0  0  0  0  0  0  0  0  0  2  0  0\\n   -0.6068    0.3659    0.0693 O   0  0  0  0  0  0  0  0  0  3  0  0\\n   -0.5883   -1.6256   -0.9802 O   0  0  0  0  0  0  0  0  0  4  0  0\\n   -2.0145   -1.6075   -1.1381 C   0  0  0  0  0  0  0  0  0  5  0  0\\n    1.6311    1.2502    0.7991 H   0  0  0  0  0  0  0  0  0  6  0  0\\n    3.2279    0.3765    0.5252 H   0  0  0  0  0  0  0  0  0  7  0  0\\n    2.0986   -1.4403   -0.5669 H   0  0  0  0  0  0  0  0  0  8  0  0\\n   -2.3874   -2.6227   -1.2789 H   0  0  0  0  0  0  0  0  0  9  0  0\\n   -2.4066   -1.1876   -0.1720 H   0  0  0  0  0  0  0  0  0 10  0  0\\n   -2.3165   -0.8910   -1.9214 H   0  0  0  0  0  0  0  0  0 11  0  0\\n  1  2  2  3\\n  2  3  1  0\\n  3  4  2  0\\n  3  5  1  0\\n  5  6  1  0\\n  1  7  1  0\\n  1  8  1  0\\n  2  9  1  0\\n  6 10  1  0\\n  6 11  1  0\\n  6 12  1  0\\nM  END\\n\",\"sdf\");\n\tviewer_15974750386417077.setStyle({\"stick\": {}});\n\tviewer_15974750386417077.setBackgroundColor(\"0xeeeeee\");\n\tviewer_15974750386417077.zoomTo();\nviewer_15974750386417077.render();\n});\n</script>",
      "text/html": [
       "<div id=\"3dmolviewer_15974750386417077\"  style=\"position: relative; width: 400px; height: 400px\">\n",
       "        <p id=\"3dmolwarning_15974750386417077\" style=\"background-color:#ffcccc;color:black\">You appear to be running in JupyterLab (or JavaScript failed to load for some other reason).  You need to install the 3dmol extension: <br>\n",
       "        <tt>jupyter labextension install jupyterlab_3dmol</tt></p>\n",
       "        </div>\n",
       "<script>\n",
       "\n",
       "var loadScriptAsync = function(uri){\n",
       "  return new Promise((resolve, reject) => {\n",
       "    var tag = document.createElement('script');\n",
       "    tag.src = uri;\n",
       "    tag.async = true;\n",
       "    tag.onload = () => {\n",
       "      resolve();\n",
       "    };\n",
       "  var firstScriptTag = document.getElementsByTagName('script')[0];\n",
       "  firstScriptTag.parentNode.insertBefore(tag, firstScriptTag);\n",
       "});\n",
       "};\n",
       "\n",
       "if(typeof $3Dmolpromise === 'undefined') {\n",
       "$3Dmolpromise = null;\n",
       "  $3Dmolpromise = loadScriptAsync('https://3dmol.csb.pitt.edu/build/3Dmol.js');\n",
       "}\n",
       "\n",
       "var viewer_15974750386417077 = null;\n",
       "var warn = document.getElementById(\"3dmolwarning_15974750386417077\");\n",
       "if(warn) {\n",
       "    warn.parentNode.removeChild(warn);\n",
       "}\n",
       "$3Dmolpromise.then(function() {\n",
       "viewer_15974750386417077 = $3Dmol.createViewer($(\"#3dmolviewer_15974750386417077\"),{backgroundColor:\"white\"});\n",
       "\tviewer_15974750386417077.removeAllModels();\n",
       "\tviewer_15974750386417077.addModel(\"\\n     RDKit          3D\\n\\n 12 11  0  0  0  0  0  0  0  0999 V2000\\n    2.1542    0.3889    0.4057 C   0  0  0  0  0  0  0  0  0  0  0  0\\n    1.5425   -0.5998   -0.1883 C   0  0  0  0  0  0  0  0  0  1  0  0\\n    0.0795   -0.5908   -0.3553 C   0  0  0  0  0  0  0  0  0  2  0  0\\n   -0.6068    0.3659    0.0693 O   0  0  0  0  0  0  0  0  0  3  0  0\\n   -0.5883   -1.6256   -0.9802 O   0  0  0  0  0  0  0  0  0  4  0  0\\n   -2.0145   -1.6075   -1.1381 C   0  0  0  0  0  0  0  0  0  5  0  0\\n    1.6311    1.2502    0.7991 H   0  0  0  0  0  0  0  0  0  6  0  0\\n    3.2279    0.3765    0.5252 H   0  0  0  0  0  0  0  0  0  7  0  0\\n    2.0986   -1.4403   -0.5669 H   0  0  0  0  0  0  0  0  0  8  0  0\\n   -2.3874   -2.6227   -1.2789 H   0  0  0  0  0  0  0  0  0  9  0  0\\n   -2.4066   -1.1876   -0.1720 H   0  0  0  0  0  0  0  0  0 10  0  0\\n   -2.3165   -0.8910   -1.9214 H   0  0  0  0  0  0  0  0  0 11  0  0\\n  1  2  2  3\\n  2  3  1  0\\n  3  4  2  0\\n  3  5  1  0\\n  5  6  1  0\\n  1  7  1  0\\n  1  8  1  0\\n  2  9  1  0\\n  6 10  1  0\\n  6 11  1  0\\n  6 12  1  0\\nM  END\\n\",\"sdf\");\n",
       "\tviewer_15974750386417077.setStyle({\"stick\": {}});\n",
       "\tviewer_15974750386417077.setBackgroundColor(\"0xeeeeee\");\n",
       "\tviewer_15974750386417077.zoomTo();\n",
       "viewer_15974750386417077.render();\n",
       "});\n",
       "</script>"
      ]
     },
     "metadata": {},
     "output_type": "display_data"
    },
    {
     "data": {
      "text/plain": [
       "None"
      ]
     },
     "metadata": {},
     "output_type": "display_data"
    },
    {
     "name": "stdout",
     "output_type": "stream",
     "text": [
      "30\n"
     ]
    },
    {
     "data": {
      "application/3dmoljs_load.v0": "<div id=\"3dmolviewer_15974750386434977\"  style=\"position: relative; width: 400px; height: 400px\">\n        <p id=\"3dmolwarning_15974750386434977\" style=\"background-color:#ffcccc;color:black\">You appear to be running in JupyterLab (or JavaScript failed to load for some other reason).  You need to install the 3dmol extension: <br>\n        <tt>jupyter labextension install jupyterlab_3dmol</tt></p>\n        </div>\n<script>\n\nvar loadScriptAsync = function(uri){\n  return new Promise((resolve, reject) => {\n    var tag = document.createElement('script');\n    tag.src = uri;\n    tag.async = true;\n    tag.onload = () => {\n      resolve();\n    };\n  var firstScriptTag = document.getElementsByTagName('script')[0];\n  firstScriptTag.parentNode.insertBefore(tag, firstScriptTag);\n});\n};\n\nif(typeof $3Dmolpromise === 'undefined') {\n$3Dmolpromise = null;\n  $3Dmolpromise = loadScriptAsync('https://3dmol.csb.pitt.edu/build/3Dmol.js');\n}\n\nvar viewer_15974750386434977 = null;\nvar warn = document.getElementById(\"3dmolwarning_15974750386434977\");\nif(warn) {\n    warn.parentNode.removeChild(warn);\n}\n$3Dmolpromise.then(function() {\nviewer_15974750386434977 = $3Dmol.createViewer($(\"#3dmolviewer_15974750386434977\"),{backgroundColor:\"white\"});\n\tviewer_15974750386434977.removeAllModels();\n\tviewer_15974750386434977.addModel(\"\\n     RDKit          3D\\n\\n 12 11  0  0  0  0  0  0  0  0999 V2000\\n    2.1542    0.3889    0.4057 C   0  0  0  0  0  0  0  0  0  0  0  0\\n    1.5425   -0.5998   -0.1883 C   0  0  0  0  0  0  0  0  0  1  0  0\\n    0.0795   -0.5908   -0.3553 C   0  0  0  0  0  0  0  0  0  2  0  0\\n   -0.5444    0.4881   -0.4704 O   0  0  0  0  0  0  0  0  0  3  0  0\\n   -0.6564   -1.7589   -0.3914 O   0  0  0  0  0  0  0  0  0  4  0  0\\n   -2.0820   -1.7396   -0.5546 C   0  0  0  0  0  0  0  0  0  5  0  0\\n    1.6311    1.2502    0.7991 H   0  0  0  0  0  0  0  0  0  6  0  0\\n    3.2279    0.3765    0.5252 H   0  0  0  0  0  0  0  0  0  7  0  0\\n    2.0986   -1.4403   -0.5669 H   0  0  0  0  0  0  0  0  0  8  0  0\\n   -2.5134   -2.6673   -0.1768 H   0  0  0  0  0  0  0  0  0  9  0  0\\n   -2.4323   -0.8736    0.0703 H   0  0  0  0  0  0  0  0  0 10  0  0\\n   -2.3575   -1.4908   -1.5940 H   0  0  0  0  0  0  0  0  0 11  0  0\\n  1  2  2  3\\n  2  3  1  0\\n  3  4  2  0\\n  3  5  1  0\\n  5  6  1  0\\n  1  7  1  0\\n  1  8  1  0\\n  2  9  1  0\\n  6 10  1  0\\n  6 11  1  0\\n  6 12  1  0\\nM  END\\n\",\"sdf\");\n\tviewer_15974750386434977.setStyle({\"stick\": {}});\n\tviewer_15974750386434977.setBackgroundColor(\"0xeeeeee\");\n\tviewer_15974750386434977.zoomTo();\nviewer_15974750386434977.render();\n});\n</script>",
      "text/html": [
       "<div id=\"3dmolviewer_15974750386434977\"  style=\"position: relative; width: 400px; height: 400px\">\n",
       "        <p id=\"3dmolwarning_15974750386434977\" style=\"background-color:#ffcccc;color:black\">You appear to be running in JupyterLab (or JavaScript failed to load for some other reason).  You need to install the 3dmol extension: <br>\n",
       "        <tt>jupyter labextension install jupyterlab_3dmol</tt></p>\n",
       "        </div>\n",
       "<script>\n",
       "\n",
       "var loadScriptAsync = function(uri){\n",
       "  return new Promise((resolve, reject) => {\n",
       "    var tag = document.createElement('script');\n",
       "    tag.src = uri;\n",
       "    tag.async = true;\n",
       "    tag.onload = () => {\n",
       "      resolve();\n",
       "    };\n",
       "  var firstScriptTag = document.getElementsByTagName('script')[0];\n",
       "  firstScriptTag.parentNode.insertBefore(tag, firstScriptTag);\n",
       "});\n",
       "};\n",
       "\n",
       "if(typeof $3Dmolpromise === 'undefined') {\n",
       "$3Dmolpromise = null;\n",
       "  $3Dmolpromise = loadScriptAsync('https://3dmol.csb.pitt.edu/build/3Dmol.js');\n",
       "}\n",
       "\n",
       "var viewer_15974750386434977 = null;\n",
       "var warn = document.getElementById(\"3dmolwarning_15974750386434977\");\n",
       "if(warn) {\n",
       "    warn.parentNode.removeChild(warn);\n",
       "}\n",
       "$3Dmolpromise.then(function() {\n",
       "viewer_15974750386434977 = $3Dmol.createViewer($(\"#3dmolviewer_15974750386434977\"),{backgroundColor:\"white\"});\n",
       "\tviewer_15974750386434977.removeAllModels();\n",
       "\tviewer_15974750386434977.addModel(\"\\n     RDKit          3D\\n\\n 12 11  0  0  0  0  0  0  0  0999 V2000\\n    2.1542    0.3889    0.4057 C   0  0  0  0  0  0  0  0  0  0  0  0\\n    1.5425   -0.5998   -0.1883 C   0  0  0  0  0  0  0  0  0  1  0  0\\n    0.0795   -0.5908   -0.3553 C   0  0  0  0  0  0  0  0  0  2  0  0\\n   -0.5444    0.4881   -0.4704 O   0  0  0  0  0  0  0  0  0  3  0  0\\n   -0.6564   -1.7589   -0.3914 O   0  0  0  0  0  0  0  0  0  4  0  0\\n   -2.0820   -1.7396   -0.5546 C   0  0  0  0  0  0  0  0  0  5  0  0\\n    1.6311    1.2502    0.7991 H   0  0  0  0  0  0  0  0  0  6  0  0\\n    3.2279    0.3765    0.5252 H   0  0  0  0  0  0  0  0  0  7  0  0\\n    2.0986   -1.4403   -0.5669 H   0  0  0  0  0  0  0  0  0  8  0  0\\n   -2.5134   -2.6673   -0.1768 H   0  0  0  0  0  0  0  0  0  9  0  0\\n   -2.4323   -0.8736    0.0703 H   0  0  0  0  0  0  0  0  0 10  0  0\\n   -2.3575   -1.4908   -1.5940 H   0  0  0  0  0  0  0  0  0 11  0  0\\n  1  2  2  3\\n  2  3  1  0\\n  3  4  2  0\\n  3  5  1  0\\n  5  6  1  0\\n  1  7  1  0\\n  1  8  1  0\\n  2  9  1  0\\n  6 10  1  0\\n  6 11  1  0\\n  6 12  1  0\\nM  END\\n\",\"sdf\");\n",
       "\tviewer_15974750386434977.setStyle({\"stick\": {}});\n",
       "\tviewer_15974750386434977.setBackgroundColor(\"0xeeeeee\");\n",
       "\tviewer_15974750386434977.zoomTo();\n",
       "viewer_15974750386434977.render();\n",
       "});\n",
       "</script>"
      ]
     },
     "metadata": {},
     "output_type": "display_data"
    },
    {
     "data": {
      "text/plain": [
       "None"
      ]
     },
     "metadata": {},
     "output_type": "display_data"
    },
    {
     "name": "stdout",
     "output_type": "stream",
     "text": [
      "60\n"
     ]
    },
    {
     "data": {
      "application/3dmoljs_load.v0": "<div id=\"3dmolviewer_15974750386456602\"  style=\"position: relative; width: 400px; height: 400px\">\n        <p id=\"3dmolwarning_15974750386456602\" style=\"background-color:#ffcccc;color:black\">You appear to be running in JupyterLab (or JavaScript failed to load for some other reason).  You need to install the 3dmol extension: <br>\n        <tt>jupyter labextension install jupyterlab_3dmol</tt></p>\n        </div>\n<script>\n\nvar loadScriptAsync = function(uri){\n  return new Promise((resolve, reject) => {\n    var tag = document.createElement('script');\n    tag.src = uri;\n    tag.async = true;\n    tag.onload = () => {\n      resolve();\n    };\n  var firstScriptTag = document.getElementsByTagName('script')[0];\n  firstScriptTag.parentNode.insertBefore(tag, firstScriptTag);\n});\n};\n\nif(typeof $3Dmolpromise === 'undefined') {\n$3Dmolpromise = null;\n  $3Dmolpromise = loadScriptAsync('https://3dmol.csb.pitt.edu/build/3Dmol.js');\n}\n\nvar viewer_15974750386456602 = null;\nvar warn = document.getElementById(\"3dmolwarning_15974750386456602\");\nif(warn) {\n    warn.parentNode.removeChild(warn);\n}\n$3Dmolpromise.then(function() {\nviewer_15974750386456602 = $3Dmol.createViewer($(\"#3dmolviewer_15974750386456602\"),{backgroundColor:\"white\"});\n\tviewer_15974750386456602.removeAllModels();\n\tviewer_15974750386456602.addModel(\"\\n     RDKit          3D\\n\\n 12 11  0  0  0  0  0  0  0  0999 V2000\\n    2.1542    0.3889    0.4057 C   0  0  0  0  0  0  0  0  0  0  0  0\\n    1.5425   -0.5998   -0.1883 C   0  0  0  0  0  0  0  0  0  1  0  0\\n    0.0795   -0.5908   -0.3553 C   0  0  0  0  0  0  0  0  0  2  0  0\\n   -0.4851    0.3223   -0.9987 O   0  0  0  0  0  0  0  0  0  3  0  0\\n   -0.7210   -1.5780    0.1849 O   0  0  0  0  0  0  0  0  0  4  0  0\\n   -2.1461   -1.5603    0.0165 C   0  0  0  0  0  0  0  0  0  5  0  0\\n    1.6311    1.2502    0.7991 H   0  0  0  0  0  0  0  0  0  6  0  0\\n    3.2279    0.3765    0.5252 H   0  0  0  0  0  0  0  0  0  7  0  0\\n    2.0986   -1.4403   -0.5669 H   0  0  0  0  0  0  0  0  0  8  0  0\\n   -2.6218   -2.1513    0.8001 H   0  0  0  0  0  0  0  0  0  9  0  0\\n   -2.4361   -0.4798    0.1244 H   0  0  0  0  0  0  0  0  0 10  0  0\\n   -2.4261   -1.8452   -1.0123 H   0  0  0  0  0  0  0  0  0 11  0  0\\n  1  2  2  3\\n  2  3  1  0\\n  3  4  2  0\\n  3  5  1  0\\n  5  6  1  0\\n  1  7  1  0\\n  1  8  1  0\\n  2  9  1  0\\n  6 10  1  0\\n  6 11  1  0\\n  6 12  1  0\\nM  END\\n\",\"sdf\");\n\tviewer_15974750386456602.setStyle({\"stick\": {}});\n\tviewer_15974750386456602.setBackgroundColor(\"0xeeeeee\");\n\tviewer_15974750386456602.zoomTo();\nviewer_15974750386456602.render();\n});\n</script>",
      "text/html": [
       "<div id=\"3dmolviewer_15974750386456602\"  style=\"position: relative; width: 400px; height: 400px\">\n",
       "        <p id=\"3dmolwarning_15974750386456602\" style=\"background-color:#ffcccc;color:black\">You appear to be running in JupyterLab (or JavaScript failed to load for some other reason).  You need to install the 3dmol extension: <br>\n",
       "        <tt>jupyter labextension install jupyterlab_3dmol</tt></p>\n",
       "        </div>\n",
       "<script>\n",
       "\n",
       "var loadScriptAsync = function(uri){\n",
       "  return new Promise((resolve, reject) => {\n",
       "    var tag = document.createElement('script');\n",
       "    tag.src = uri;\n",
       "    tag.async = true;\n",
       "    tag.onload = () => {\n",
       "      resolve();\n",
       "    };\n",
       "  var firstScriptTag = document.getElementsByTagName('script')[0];\n",
       "  firstScriptTag.parentNode.insertBefore(tag, firstScriptTag);\n",
       "});\n",
       "};\n",
       "\n",
       "if(typeof $3Dmolpromise === 'undefined') {\n",
       "$3Dmolpromise = null;\n",
       "  $3Dmolpromise = loadScriptAsync('https://3dmol.csb.pitt.edu/build/3Dmol.js');\n",
       "}\n",
       "\n",
       "var viewer_15974750386456602 = null;\n",
       "var warn = document.getElementById(\"3dmolwarning_15974750386456602\");\n",
       "if(warn) {\n",
       "    warn.parentNode.removeChild(warn);\n",
       "}\n",
       "$3Dmolpromise.then(function() {\n",
       "viewer_15974750386456602 = $3Dmol.createViewer($(\"#3dmolviewer_15974750386456602\"),{backgroundColor:\"white\"});\n",
       "\tviewer_15974750386456602.removeAllModels();\n",
       "\tviewer_15974750386456602.addModel(\"\\n     RDKit          3D\\n\\n 12 11  0  0  0  0  0  0  0  0999 V2000\\n    2.1542    0.3889    0.4057 C   0  0  0  0  0  0  0  0  0  0  0  0\\n    1.5425   -0.5998   -0.1883 C   0  0  0  0  0  0  0  0  0  1  0  0\\n    0.0795   -0.5908   -0.3553 C   0  0  0  0  0  0  0  0  0  2  0  0\\n   -0.4851    0.3223   -0.9987 O   0  0  0  0  0  0  0  0  0  3  0  0\\n   -0.7210   -1.5780    0.1849 O   0  0  0  0  0  0  0  0  0  4  0  0\\n   -2.1461   -1.5603    0.0165 C   0  0  0  0  0  0  0  0  0  5  0  0\\n    1.6311    1.2502    0.7991 H   0  0  0  0  0  0  0  0  0  6  0  0\\n    3.2279    0.3765    0.5252 H   0  0  0  0  0  0  0  0  0  7  0  0\\n    2.0986   -1.4403   -0.5669 H   0  0  0  0  0  0  0  0  0  8  0  0\\n   -2.6218   -2.1513    0.8001 H   0  0  0  0  0  0  0  0  0  9  0  0\\n   -2.4361   -0.4798    0.1244 H   0  0  0  0  0  0  0  0  0 10  0  0\\n   -2.4261   -1.8452   -1.0123 H   0  0  0  0  0  0  0  0  0 11  0  0\\n  1  2  2  3\\n  2  3  1  0\\n  3  4  2  0\\n  3  5  1  0\\n  5  6  1  0\\n  1  7  1  0\\n  1  8  1  0\\n  2  9  1  0\\n  6 10  1  0\\n  6 11  1  0\\n  6 12  1  0\\nM  END\\n\",\"sdf\");\n",
       "\tviewer_15974750386456602.setStyle({\"stick\": {}});\n",
       "\tviewer_15974750386456602.setBackgroundColor(\"0xeeeeee\");\n",
       "\tviewer_15974750386456602.zoomTo();\n",
       "viewer_15974750386456602.render();\n",
       "});\n",
       "</script>"
      ]
     },
     "metadata": {},
     "output_type": "display_data"
    },
    {
     "data": {
      "text/plain": [
       "None"
      ]
     },
     "metadata": {},
     "output_type": "display_data"
    },
    {
     "name": "stdout",
     "output_type": "stream",
     "text": [
      "90\n"
     ]
    },
    {
     "data": {
      "application/3dmoljs_load.v0": "<div id=\"3dmolviewer_15974750386475484\"  style=\"position: relative; width: 400px; height: 400px\">\n        <p id=\"3dmolwarning_15974750386475484\" style=\"background-color:#ffcccc;color:black\">You appear to be running in JupyterLab (or JavaScript failed to load for some other reason).  You need to install the 3dmol extension: <br>\n        <tt>jupyter labextension install jupyterlab_3dmol</tt></p>\n        </div>\n<script>\n\nvar loadScriptAsync = function(uri){\n  return new Promise((resolve, reject) => {\n    var tag = document.createElement('script');\n    tag.src = uri;\n    tag.async = true;\n    tag.onload = () => {\n      resolve();\n    };\n  var firstScriptTag = document.getElementsByTagName('script')[0];\n  firstScriptTag.parentNode.insertBefore(tag, firstScriptTag);\n});\n};\n\nif(typeof $3Dmolpromise === 'undefined') {\n$3Dmolpromise = null;\n  $3Dmolpromise = loadScriptAsync('https://3dmol.csb.pitt.edu/build/3Dmol.js');\n}\n\nvar viewer_15974750386475484 = null;\nvar warn = document.getElementById(\"3dmolwarning_15974750386475484\");\nif(warn) {\n    warn.parentNode.removeChild(warn);\n}\n$3Dmolpromise.then(function() {\nviewer_15974750386475484 = $3Dmol.createViewer($(\"#3dmolviewer_15974750386475484\"),{backgroundColor:\"white\"});\n\tviewer_15974750386475484.removeAllModels();\n\tviewer_15974750386475484.addModel(\"\\n     RDKit          3D\\n\\n 12 11  0  0  0  0  0  0  0  0999 V2000\\n    2.1542    0.3889    0.4057 C   0  0  0  0  0  0  0  0  0  0  0  0\\n    1.5425   -0.5998   -0.1883 C   0  0  0  0  0  0  0  0  0  1  0  0\\n    0.0795   -0.5908   -0.3553 C   0  0  0  0  0  0  0  0  0  2  0  0\\n   -0.4448   -0.0871   -1.3741 O   0  0  0  0  0  0  0  0  0  3  0  0\\n   -0.7650   -1.1314    0.5944 O   0  0  0  0  0  0  0  0  0  4  0  0\\n   -2.1896   -1.1177    0.4223 C   0  0  0  0  0  0  0  0  0  5  0  0\\n    1.6311    1.2502    0.7991 H   0  0  0  0  0  0  0  0  0  6  0  0\\n    3.2279    0.3765    0.5252 H   0  0  0  0  0  0  0  0  0  7  0  0\\n    2.0986   -1.4403   -0.5669 H   0  0  0  0  0  0  0  0  0  8  0  0\\n   -2.6833   -1.2129    1.3901 H   0  0  0  0  0  0  0  0  0  9  0  0\\n   -2.4168   -0.1117   -0.0245 H   0  0  0  0  0  0  0  0  0 10  0  0\\n   -2.5039   -1.8593   -0.3323 H   0  0  0  0  0  0  0  0  0 11  0  0\\n  1  2  2  3\\n  2  3  1  0\\n  3  4  2  0\\n  3  5  1  0\\n  5  6  1  0\\n  1  7  1  0\\n  1  8  1  0\\n  2  9  1  0\\n  6 10  1  0\\n  6 11  1  0\\n  6 12  1  0\\nM  END\\n\",\"sdf\");\n\tviewer_15974750386475484.setStyle({\"stick\": {}});\n\tviewer_15974750386475484.setBackgroundColor(\"0xeeeeee\");\n\tviewer_15974750386475484.zoomTo();\nviewer_15974750386475484.render();\n});\n</script>",
      "text/html": [
       "<div id=\"3dmolviewer_15974750386475484\"  style=\"position: relative; width: 400px; height: 400px\">\n",
       "        <p id=\"3dmolwarning_15974750386475484\" style=\"background-color:#ffcccc;color:black\">You appear to be running in JupyterLab (or JavaScript failed to load for some other reason).  You need to install the 3dmol extension: <br>\n",
       "        <tt>jupyter labextension install jupyterlab_3dmol</tt></p>\n",
       "        </div>\n",
       "<script>\n",
       "\n",
       "var loadScriptAsync = function(uri){\n",
       "  return new Promise((resolve, reject) => {\n",
       "    var tag = document.createElement('script');\n",
       "    tag.src = uri;\n",
       "    tag.async = true;\n",
       "    tag.onload = () => {\n",
       "      resolve();\n",
       "    };\n",
       "  var firstScriptTag = document.getElementsByTagName('script')[0];\n",
       "  firstScriptTag.parentNode.insertBefore(tag, firstScriptTag);\n",
       "});\n",
       "};\n",
       "\n",
       "if(typeof $3Dmolpromise === 'undefined') {\n",
       "$3Dmolpromise = null;\n",
       "  $3Dmolpromise = loadScriptAsync('https://3dmol.csb.pitt.edu/build/3Dmol.js');\n",
       "}\n",
       "\n",
       "var viewer_15974750386475484 = null;\n",
       "var warn = document.getElementById(\"3dmolwarning_15974750386475484\");\n",
       "if(warn) {\n",
       "    warn.parentNode.removeChild(warn);\n",
       "}\n",
       "$3Dmolpromise.then(function() {\n",
       "viewer_15974750386475484 = $3Dmol.createViewer($(\"#3dmolviewer_15974750386475484\"),{backgroundColor:\"white\"});\n",
       "\tviewer_15974750386475484.removeAllModels();\n",
       "\tviewer_15974750386475484.addModel(\"\\n     RDKit          3D\\n\\n 12 11  0  0  0  0  0  0  0  0999 V2000\\n    2.1542    0.3889    0.4057 C   0  0  0  0  0  0  0  0  0  0  0  0\\n    1.5425   -0.5998   -0.1883 C   0  0  0  0  0  0  0  0  0  1  0  0\\n    0.0795   -0.5908   -0.3553 C   0  0  0  0  0  0  0  0  0  2  0  0\\n   -0.4448   -0.0871   -1.3741 O   0  0  0  0  0  0  0  0  0  3  0  0\\n   -0.7650   -1.1314    0.5944 O   0  0  0  0  0  0  0  0  0  4  0  0\\n   -2.1896   -1.1177    0.4223 C   0  0  0  0  0  0  0  0  0  5  0  0\\n    1.6311    1.2502    0.7991 H   0  0  0  0  0  0  0  0  0  6  0  0\\n    3.2279    0.3765    0.5252 H   0  0  0  0  0  0  0  0  0  7  0  0\\n    2.0986   -1.4403   -0.5669 H   0  0  0  0  0  0  0  0  0  8  0  0\\n   -2.6833   -1.2129    1.3901 H   0  0  0  0  0  0  0  0  0  9  0  0\\n   -2.4168   -0.1117   -0.0245 H   0  0  0  0  0  0  0  0  0 10  0  0\\n   -2.5039   -1.8593   -0.3323 H   0  0  0  0  0  0  0  0  0 11  0  0\\n  1  2  2  3\\n  2  3  1  0\\n  3  4  2  0\\n  3  5  1  0\\n  5  6  1  0\\n  1  7  1  0\\n  1  8  1  0\\n  2  9  1  0\\n  6 10  1  0\\n  6 11  1  0\\n  6 12  1  0\\nM  END\\n\",\"sdf\");\n",
       "\tviewer_15974750386475484.setStyle({\"stick\": {}});\n",
       "\tviewer_15974750386475484.setBackgroundColor(\"0xeeeeee\");\n",
       "\tviewer_15974750386475484.zoomTo();\n",
       "viewer_15974750386475484.render();\n",
       "});\n",
       "</script>"
      ]
     },
     "metadata": {},
     "output_type": "display_data"
    },
    {
     "data": {
      "text/plain": [
       "None"
      ]
     },
     "metadata": {},
     "output_type": "display_data"
    },
    {
     "name": "stdout",
     "output_type": "stream",
     "text": [
      "120\n"
     ]
    },
    {
     "data": {
      "application/3dmoljs_load.v0": "<div id=\"3dmolviewer_15974750386490614\"  style=\"position: relative; width: 400px; height: 400px\">\n        <p id=\"3dmolwarning_15974750386490614\" style=\"background-color:#ffcccc;color:black\">You appear to be running in JupyterLab (or JavaScript failed to load for some other reason).  You need to install the 3dmol extension: <br>\n        <tt>jupyter labextension install jupyterlab_3dmol</tt></p>\n        </div>\n<script>\n\nvar loadScriptAsync = function(uri){\n  return new Promise((resolve, reject) => {\n    var tag = document.createElement('script');\n    tag.src = uri;\n    tag.async = true;\n    tag.onload = () => {\n      resolve();\n    };\n  var firstScriptTag = document.getElementsByTagName('script')[0];\n  firstScriptTag.parentNode.insertBefore(tag, firstScriptTag);\n});\n};\n\nif(typeof $3Dmolpromise === 'undefined') {\n$3Dmolpromise = null;\n  $3Dmolpromise = loadScriptAsync('https://3dmol.csb.pitt.edu/build/3Dmol.js');\n}\n\nvar viewer_15974750386490614 = null;\nvar warn = document.getElementById(\"3dmolwarning_15974750386490614\");\nif(warn) {\n    warn.parentNode.removeChild(warn);\n}\n$3Dmolpromise.then(function() {\nviewer_15974750386490614 = $3Dmol.createViewer($(\"#3dmolviewer_15974750386490614\"),{backgroundColor:\"white\"});\n\tviewer_15974750386490614.removeAllModels();\n\tviewer_15974750386490614.addModel(\"\\n     RDKit          3D\\n\\n 12 11  0  0  0  0  0  0  0  0999 V2000\\n    2.1542    0.3889    0.4057 C   0  0  0  0  0  0  0  0  0  0  0  0\\n    1.5425   -0.5998   -0.1883 C   0  0  0  0  0  0  0  0  0  1  0  0\\n    0.0795   -0.5908   -0.3553 C   0  0  0  0  0  0  0  0  0  2  0  0\\n   -0.4342   -0.6304   -1.4959 O   0  0  0  0  0  0  0  0  0  3  0  0\\n   -0.7765   -0.5387    0.7272 O   0  0  0  0  0  0  0  0  0  4  0  0\\n   -2.2011   -0.5304    0.5540 C   0  0  0  0  0  0  0  0  0  5  0  0\\n    1.6311    1.2502    0.7991 H   0  0  0  0  0  0  0  0  0  6  0  0\\n    3.2279    0.3765    0.5252 H   0  0  0  0  0  0  0  0  0  7  0  0\\n    2.0986   -1.4403   -0.5669 H   0  0  0  0  0  0  0  0  0  8  0  0\\n   -2.6816   -0.1037    1.4352 H   0  0  0  0  0  0  0  0  0  9  0  0\\n   -2.3797    0.1320   -0.3363 H   0  0  0  0  0  0  0  0  0 10  0  0\\n   -2.5699   -1.5293    0.2639 H   0  0  0  0  0  0  0  0  0 11  0  0\\n  1  2  2  3\\n  2  3  1  0\\n  3  4  2  0\\n  3  5  1  0\\n  5  6  1  0\\n  1  7  1  0\\n  1  8  1  0\\n  2  9  1  0\\n  6 10  1  0\\n  6 11  1  0\\n  6 12  1  0\\nM  END\\n\",\"sdf\");\n\tviewer_15974750386490614.setStyle({\"stick\": {}});\n\tviewer_15974750386490614.setBackgroundColor(\"0xeeeeee\");\n\tviewer_15974750386490614.zoomTo();\nviewer_15974750386490614.render();\n});\n</script>",
      "text/html": [
       "<div id=\"3dmolviewer_15974750386490614\"  style=\"position: relative; width: 400px; height: 400px\">\n",
       "        <p id=\"3dmolwarning_15974750386490614\" style=\"background-color:#ffcccc;color:black\">You appear to be running in JupyterLab (or JavaScript failed to load for some other reason).  You need to install the 3dmol extension: <br>\n",
       "        <tt>jupyter labextension install jupyterlab_3dmol</tt></p>\n",
       "        </div>\n",
       "<script>\n",
       "\n",
       "var loadScriptAsync = function(uri){\n",
       "  return new Promise((resolve, reject) => {\n",
       "    var tag = document.createElement('script');\n",
       "    tag.src = uri;\n",
       "    tag.async = true;\n",
       "    tag.onload = () => {\n",
       "      resolve();\n",
       "    };\n",
       "  var firstScriptTag = document.getElementsByTagName('script')[0];\n",
       "  firstScriptTag.parentNode.insertBefore(tag, firstScriptTag);\n",
       "});\n",
       "};\n",
       "\n",
       "if(typeof $3Dmolpromise === 'undefined') {\n",
       "$3Dmolpromise = null;\n",
       "  $3Dmolpromise = loadScriptAsync('https://3dmol.csb.pitt.edu/build/3Dmol.js');\n",
       "}\n",
       "\n",
       "var viewer_15974750386490614 = null;\n",
       "var warn = document.getElementById(\"3dmolwarning_15974750386490614\");\n",
       "if(warn) {\n",
       "    warn.parentNode.removeChild(warn);\n",
       "}\n",
       "$3Dmolpromise.then(function() {\n",
       "viewer_15974750386490614 = $3Dmol.createViewer($(\"#3dmolviewer_15974750386490614\"),{backgroundColor:\"white\"});\n",
       "\tviewer_15974750386490614.removeAllModels();\n",
       "\tviewer_15974750386490614.addModel(\"\\n     RDKit          3D\\n\\n 12 11  0  0  0  0  0  0  0  0999 V2000\\n    2.1542    0.3889    0.4057 C   0  0  0  0  0  0  0  0  0  0  0  0\\n    1.5425   -0.5998   -0.1883 C   0  0  0  0  0  0  0  0  0  1  0  0\\n    0.0795   -0.5908   -0.3553 C   0  0  0  0  0  0  0  0  0  2  0  0\\n   -0.4342   -0.6304   -1.4959 O   0  0  0  0  0  0  0  0  0  3  0  0\\n   -0.7765   -0.5387    0.7272 O   0  0  0  0  0  0  0  0  0  4  0  0\\n   -2.2011   -0.5304    0.5540 C   0  0  0  0  0  0  0  0  0  5  0  0\\n    1.6311    1.2502    0.7991 H   0  0  0  0  0  0  0  0  0  6  0  0\\n    3.2279    0.3765    0.5252 H   0  0  0  0  0  0  0  0  0  7  0  0\\n    2.0986   -1.4403   -0.5669 H   0  0  0  0  0  0  0  0  0  8  0  0\\n   -2.6816   -0.1037    1.4352 H   0  0  0  0  0  0  0  0  0  9  0  0\\n   -2.3797    0.1320   -0.3363 H   0  0  0  0  0  0  0  0  0 10  0  0\\n   -2.5699   -1.5293    0.2639 H   0  0  0  0  0  0  0  0  0 11  0  0\\n  1  2  2  3\\n  2  3  1  0\\n  3  4  2  0\\n  3  5  1  0\\n  5  6  1  0\\n  1  7  1  0\\n  1  8  1  0\\n  2  9  1  0\\n  6 10  1  0\\n  6 11  1  0\\n  6 12  1  0\\nM  END\\n\",\"sdf\");\n",
       "\tviewer_15974750386490614.setStyle({\"stick\": {}});\n",
       "\tviewer_15974750386490614.setBackgroundColor(\"0xeeeeee\");\n",
       "\tviewer_15974750386490614.zoomTo();\n",
       "viewer_15974750386490614.render();\n",
       "});\n",
       "</script>"
      ]
     },
     "metadata": {},
     "output_type": "display_data"
    },
    {
     "data": {
      "text/plain": [
       "None"
      ]
     },
     "metadata": {},
     "output_type": "display_data"
    },
    {
     "name": "stdout",
     "output_type": "stream",
     "text": [
      "150\n"
     ]
    },
    {
     "data": {
      "application/3dmoljs_load.v0": "<div id=\"3dmolviewer_15974750386505063\"  style=\"position: relative; width: 400px; height: 400px\">\n        <p id=\"3dmolwarning_15974750386505063\" style=\"background-color:#ffcccc;color:black\">You appear to be running in JupyterLab (or JavaScript failed to load for some other reason).  You need to install the 3dmol extension: <br>\n        <tt>jupyter labextension install jupyterlab_3dmol</tt></p>\n        </div>\n<script>\n\nvar loadScriptAsync = function(uri){\n  return new Promise((resolve, reject) => {\n    var tag = document.createElement('script');\n    tag.src = uri;\n    tag.async = true;\n    tag.onload = () => {\n      resolve();\n    };\n  var firstScriptTag = document.getElementsByTagName('script')[0];\n  firstScriptTag.parentNode.insertBefore(tag, firstScriptTag);\n});\n};\n\nif(typeof $3Dmolpromise === 'undefined') {\n$3Dmolpromise = null;\n  $3Dmolpromise = loadScriptAsync('https://3dmol.csb.pitt.edu/build/3Dmol.js');\n}\n\nvar viewer_15974750386505063 = null;\nvar warn = document.getElementById(\"3dmolwarning_15974750386505063\");\nif(warn) {\n    warn.parentNode.removeChild(warn);\n}\n$3Dmolpromise.then(function() {\nviewer_15974750386505063 = $3Dmol.createViewer($(\"#3dmolviewer_15974750386505063\"),{backgroundColor:\"white\"});\n\tviewer_15974750386505063.removeAllModels();\n\tviewer_15974750386505063.addModel(\"\\n     RDKit          3D\\n\\n 12 11  0  0  0  0  0  0  0  0999 V2000\\n    2.1542    0.3889    0.4057 C   0  0  0  0  0  0  0  0  0  0  0  0\\n    1.5425   -0.5998   -0.1883 C   0  0  0  0  0  0  0  0  0  1  0  0\\n    0.0795   -0.5908   -0.3553 C   0  0  0  0  0  0  0  0  0  2  0  0\\n   -0.4563   -1.1621   -1.3315 O   0  0  0  0  0  0  0  0  0  3  0  0\\n   -0.7525    0.0412    0.5479 O   0  0  0  0  0  0  0  0  0  4  0  0\\n   -2.1772    0.0444    0.3763 C   0  0  0  0  0  0  0  0  0  5  0  0\\n    1.6311    1.2502    0.7991 H   0  0  0  0  0  0  0  0  0  6  0  0\\n    3.2279    0.3765    0.5252 H   0  0  0  0  0  0  0  0  0  7  0  0\\n    2.0986   -1.4403   -0.5669 H   0  0  0  0  0  0  0  0  0  8  0  0\\n   -2.6171    0.8792    0.9232 H   0  0  0  0  0  0  0  0  0  9  0  0\\n   -2.3347    0.1861   -0.7275 H   0  0  0  0  0  0  0  0  0 10  0  0\\n   -2.6065   -0.9436    0.6165 H   0  0  0  0  0  0  0  0  0 11  0  0\\n  1  2  2  3\\n  2  3  1  0\\n  3  4  2  0\\n  3  5  1  0\\n  5  6  1  0\\n  1  7  1  0\\n  1  8  1  0\\n  2  9  1  0\\n  6 10  1  0\\n  6 11  1  0\\n  6 12  1  0\\nM  END\\n\",\"sdf\");\n\tviewer_15974750386505063.setStyle({\"stick\": {}});\n\tviewer_15974750386505063.setBackgroundColor(\"0xeeeeee\");\n\tviewer_15974750386505063.zoomTo();\nviewer_15974750386505063.render();\n});\n</script>",
      "text/html": [
       "<div id=\"3dmolviewer_15974750386505063\"  style=\"position: relative; width: 400px; height: 400px\">\n",
       "        <p id=\"3dmolwarning_15974750386505063\" style=\"background-color:#ffcccc;color:black\">You appear to be running in JupyterLab (or JavaScript failed to load for some other reason).  You need to install the 3dmol extension: <br>\n",
       "        <tt>jupyter labextension install jupyterlab_3dmol</tt></p>\n",
       "        </div>\n",
       "<script>\n",
       "\n",
       "var loadScriptAsync = function(uri){\n",
       "  return new Promise((resolve, reject) => {\n",
       "    var tag = document.createElement('script');\n",
       "    tag.src = uri;\n",
       "    tag.async = true;\n",
       "    tag.onload = () => {\n",
       "      resolve();\n",
       "    };\n",
       "  var firstScriptTag = document.getElementsByTagName('script')[0];\n",
       "  firstScriptTag.parentNode.insertBefore(tag, firstScriptTag);\n",
       "});\n",
       "};\n",
       "\n",
       "if(typeof $3Dmolpromise === 'undefined') {\n",
       "$3Dmolpromise = null;\n",
       "  $3Dmolpromise = loadScriptAsync('https://3dmol.csb.pitt.edu/build/3Dmol.js');\n",
       "}\n",
       "\n",
       "var viewer_15974750386505063 = null;\n",
       "var warn = document.getElementById(\"3dmolwarning_15974750386505063\");\n",
       "if(warn) {\n",
       "    warn.parentNode.removeChild(warn);\n",
       "}\n",
       "$3Dmolpromise.then(function() {\n",
       "viewer_15974750386505063 = $3Dmol.createViewer($(\"#3dmolviewer_15974750386505063\"),{backgroundColor:\"white\"});\n",
       "\tviewer_15974750386505063.removeAllModels();\n",
       "\tviewer_15974750386505063.addModel(\"\\n     RDKit          3D\\n\\n 12 11  0  0  0  0  0  0  0  0999 V2000\\n    2.1542    0.3889    0.4057 C   0  0  0  0  0  0  0  0  0  0  0  0\\n    1.5425   -0.5998   -0.1883 C   0  0  0  0  0  0  0  0  0  1  0  0\\n    0.0795   -0.5908   -0.3553 C   0  0  0  0  0  0  0  0  0  2  0  0\\n   -0.4563   -1.1621   -1.3315 O   0  0  0  0  0  0  0  0  0  3  0  0\\n   -0.7525    0.0412    0.5479 O   0  0  0  0  0  0  0  0  0  4  0  0\\n   -2.1772    0.0444    0.3763 C   0  0  0  0  0  0  0  0  0  5  0  0\\n    1.6311    1.2502    0.7991 H   0  0  0  0  0  0  0  0  0  6  0  0\\n    3.2279    0.3765    0.5252 H   0  0  0  0  0  0  0  0  0  7  0  0\\n    2.0986   -1.4403   -0.5669 H   0  0  0  0  0  0  0  0  0  8  0  0\\n   -2.6171    0.8792    0.9232 H   0  0  0  0  0  0  0  0  0  9  0  0\\n   -2.3347    0.1861   -0.7275 H   0  0  0  0  0  0  0  0  0 10  0  0\\n   -2.6065   -0.9436    0.6165 H   0  0  0  0  0  0  0  0  0 11  0  0\\n  1  2  2  3\\n  2  3  1  0\\n  3  4  2  0\\n  3  5  1  0\\n  5  6  1  0\\n  1  7  1  0\\n  1  8  1  0\\n  2  9  1  0\\n  6 10  1  0\\n  6 11  1  0\\n  6 12  1  0\\nM  END\\n\",\"sdf\");\n",
       "\tviewer_15974750386505063.setStyle({\"stick\": {}});\n",
       "\tviewer_15974750386505063.setBackgroundColor(\"0xeeeeee\");\n",
       "\tviewer_15974750386505063.zoomTo();\n",
       "viewer_15974750386505063.render();\n",
       "});\n",
       "</script>"
      ]
     },
     "metadata": {},
     "output_type": "display_data"
    },
    {
     "data": {
      "text/plain": [
       "None"
      ]
     },
     "metadata": {},
     "output_type": "display_data"
    },
    {
     "name": "stdout",
     "output_type": "stream",
     "text": [
      "180\n"
     ]
    },
    {
     "data": {
      "application/3dmoljs_load.v0": "<div id=\"3dmolviewer_1597475038652143\"  style=\"position: relative; width: 400px; height: 400px\">\n        <p id=\"3dmolwarning_1597475038652143\" style=\"background-color:#ffcccc;color:black\">You appear to be running in JupyterLab (or JavaScript failed to load for some other reason).  You need to install the 3dmol extension: <br>\n        <tt>jupyter labextension install jupyterlab_3dmol</tt></p>\n        </div>\n<script>\n\nvar loadScriptAsync = function(uri){\n  return new Promise((resolve, reject) => {\n    var tag = document.createElement('script');\n    tag.src = uri;\n    tag.async = true;\n    tag.onload = () => {\n      resolve();\n    };\n  var firstScriptTag = document.getElementsByTagName('script')[0];\n  firstScriptTag.parentNode.insertBefore(tag, firstScriptTag);\n});\n};\n\nif(typeof $3Dmolpromise === 'undefined') {\n$3Dmolpromise = null;\n  $3Dmolpromise = loadScriptAsync('https://3dmol.csb.pitt.edu/build/3Dmol.js');\n}\n\nvar viewer_1597475038652143 = null;\nvar warn = document.getElementById(\"3dmolwarning_1597475038652143\");\nif(warn) {\n    warn.parentNode.removeChild(warn);\n}\n$3Dmolpromise.then(function() {\nviewer_1597475038652143 = $3Dmol.createViewer($(\"#3dmolviewer_1597475038652143\"),{backgroundColor:\"white\"});\n\tviewer_1597475038652143.removeAllModels();\n\tviewer_1597475038652143.addModel(\"\\n     RDKit          3D\\n\\n 12 11  0  0  0  0  0  0  0  0999 V2000\\n    2.1542    0.3889    0.4057 C   0  0  0  0  0  0  0  0  0  0  0  0\\n    1.5425   -0.5998   -0.1883 C   0  0  0  0  0  0  0  0  0  1  0  0\\n    0.0795   -0.5908   -0.3553 C   0  0  0  0  0  0  0  0  0  2  0  0\\n   -0.5050   -1.5395   -0.9250 O   0  0  0  0  0  0  0  0  0  3  0  0\\n   -0.6993    0.4530    0.1045 O   0  0  0  0  0  0  0  0  0  4  0  0\\n   -2.1245    0.4525   -0.0632 C   0  0  0  0  0  0  0  0  0  5  0  0\\n    1.6311    1.2502    0.7991 H   0  0  0  0  0  0  0  0  0  6  0  0\\n    3.2279    0.3765    0.5252 H   0  0  0  0  0  0  0  0  0  7  0  0\\n    2.0986   -1.4403   -0.5669 H   0  0  0  0  0  0  0  0  0  8  0  0\\n   -2.5071    1.4724   -0.0087 H   0  0  0  0  0  0  0  0  0  9  0  0\\n   -2.2939    0.0361   -1.0933 H   0  0  0  0  0  0  0  0  0 10  0  0\\n   -2.6039   -0.2592    0.6310 H   0  0  0  0  0  0  0  0  0 11  0  0\\n  1  2  2  3\\n  2  3  1  0\\n  3  4  2  0\\n  3  5  1  0\\n  5  6  1  0\\n  1  7  1  0\\n  1  8  1  0\\n  2  9  1  0\\n  6 10  1  0\\n  6 11  1  0\\n  6 12  1  0\\nM  END\\n\",\"sdf\");\n\tviewer_1597475038652143.setStyle({\"stick\": {}});\n\tviewer_1597475038652143.setBackgroundColor(\"0xeeeeee\");\n\tviewer_1597475038652143.zoomTo();\nviewer_1597475038652143.render();\n});\n</script>",
      "text/html": [
       "<div id=\"3dmolviewer_1597475038652143\"  style=\"position: relative; width: 400px; height: 400px\">\n",
       "        <p id=\"3dmolwarning_1597475038652143\" style=\"background-color:#ffcccc;color:black\">You appear to be running in JupyterLab (or JavaScript failed to load for some other reason).  You need to install the 3dmol extension: <br>\n",
       "        <tt>jupyter labextension install jupyterlab_3dmol</tt></p>\n",
       "        </div>\n",
       "<script>\n",
       "\n",
       "var loadScriptAsync = function(uri){\n",
       "  return new Promise((resolve, reject) => {\n",
       "    var tag = document.createElement('script');\n",
       "    tag.src = uri;\n",
       "    tag.async = true;\n",
       "    tag.onload = () => {\n",
       "      resolve();\n",
       "    };\n",
       "  var firstScriptTag = document.getElementsByTagName('script')[0];\n",
       "  firstScriptTag.parentNode.insertBefore(tag, firstScriptTag);\n",
       "});\n",
       "};\n",
       "\n",
       "if(typeof $3Dmolpromise === 'undefined') {\n",
       "$3Dmolpromise = null;\n",
       "  $3Dmolpromise = loadScriptAsync('https://3dmol.csb.pitt.edu/build/3Dmol.js');\n",
       "}\n",
       "\n",
       "var viewer_1597475038652143 = null;\n",
       "var warn = document.getElementById(\"3dmolwarning_1597475038652143\");\n",
       "if(warn) {\n",
       "    warn.parentNode.removeChild(warn);\n",
       "}\n",
       "$3Dmolpromise.then(function() {\n",
       "viewer_1597475038652143 = $3Dmol.createViewer($(\"#3dmolviewer_1597475038652143\"),{backgroundColor:\"white\"});\n",
       "\tviewer_1597475038652143.removeAllModels();\n",
       "\tviewer_1597475038652143.addModel(\"\\n     RDKit          3D\\n\\n 12 11  0  0  0  0  0  0  0  0999 V2000\\n    2.1542    0.3889    0.4057 C   0  0  0  0  0  0  0  0  0  0  0  0\\n    1.5425   -0.5998   -0.1883 C   0  0  0  0  0  0  0  0  0  1  0  0\\n    0.0795   -0.5908   -0.3553 C   0  0  0  0  0  0  0  0  0  2  0  0\\n   -0.5050   -1.5395   -0.9250 O   0  0  0  0  0  0  0  0  0  3  0  0\\n   -0.6993    0.4530    0.1045 O   0  0  0  0  0  0  0  0  0  4  0  0\\n   -2.1245    0.4525   -0.0632 C   0  0  0  0  0  0  0  0  0  5  0  0\\n    1.6311    1.2502    0.7991 H   0  0  0  0  0  0  0  0  0  6  0  0\\n    3.2279    0.3765    0.5252 H   0  0  0  0  0  0  0  0  0  7  0  0\\n    2.0986   -1.4403   -0.5669 H   0  0  0  0  0  0  0  0  0  8  0  0\\n   -2.5071    1.4724   -0.0087 H   0  0  0  0  0  0  0  0  0  9  0  0\\n   -2.2939    0.0361   -1.0933 H   0  0  0  0  0  0  0  0  0 10  0  0\\n   -2.6039   -0.2592    0.6310 H   0  0  0  0  0  0  0  0  0 11  0  0\\n  1  2  2  3\\n  2  3  1  0\\n  3  4  2  0\\n  3  5  1  0\\n  5  6  1  0\\n  1  7  1  0\\n  1  8  1  0\\n  2  9  1  0\\n  6 10  1  0\\n  6 11  1  0\\n  6 12  1  0\\nM  END\\n\",\"sdf\");\n",
       "\tviewer_1597475038652143.setStyle({\"stick\": {}});\n",
       "\tviewer_1597475038652143.setBackgroundColor(\"0xeeeeee\");\n",
       "\tviewer_1597475038652143.zoomTo();\n",
       "viewer_1597475038652143.render();\n",
       "});\n",
       "</script>"
      ]
     },
     "metadata": {},
     "output_type": "display_data"
    },
    {
     "data": {
      "text/plain": [
       "None"
      ]
     },
     "metadata": {},
     "output_type": "display_data"
    },
    {
     "name": "stdout",
     "output_type": "stream",
     "text": [
      "210\n"
     ]
    },
    {
     "data": {
      "application/3dmoljs_load.v0": "<div id=\"3dmolviewer_15974750386536818\"  style=\"position: relative; width: 400px; height: 400px\">\n        <p id=\"3dmolwarning_15974750386536818\" style=\"background-color:#ffcccc;color:black\">You appear to be running in JupyterLab (or JavaScript failed to load for some other reason).  You need to install the 3dmol extension: <br>\n        <tt>jupyter labextension install jupyterlab_3dmol</tt></p>\n        </div>\n<script>\n\nvar loadScriptAsync = function(uri){\n  return new Promise((resolve, reject) => {\n    var tag = document.createElement('script');\n    tag.src = uri;\n    tag.async = true;\n    tag.onload = () => {\n      resolve();\n    };\n  var firstScriptTag = document.getElementsByTagName('script')[0];\n  firstScriptTag.parentNode.insertBefore(tag, firstScriptTag);\n});\n};\n\nif(typeof $3Dmolpromise === 'undefined') {\n$3Dmolpromise = null;\n  $3Dmolpromise = loadScriptAsync('https://3dmol.csb.pitt.edu/build/3Dmol.js');\n}\n\nvar viewer_15974750386536818 = null;\nvar warn = document.getElementById(\"3dmolwarning_15974750386536818\");\nif(warn) {\n    warn.parentNode.removeChild(warn);\n}\n$3Dmolpromise.then(function() {\nviewer_15974750386536818 = $3Dmol.createViewer($(\"#3dmolviewer_15974750386536818\"),{backgroundColor:\"white\"});\n\tviewer_15974750386536818.removeAllModels();\n\tviewer_15974750386536818.addModel(\"\\n     RDKit          3D\\n\\n 12 11  0  0  0  0  0  0  0  0999 V2000\\n    2.1542    0.3889    0.4057 C   0  0  0  0  0  0  0  0  0  0  0  0\\n    1.5425   -0.5998   -0.1883 C   0  0  0  0  0  0  0  0  0  1  0  0\\n    0.0795   -0.5908   -0.3553 C   0  0  0  0  0  0  0  0  0  2  0  0\\n   -0.5674   -1.6618   -0.3853 O   0  0  0  0  0  0  0  0  0  3  0  0\\n   -0.6313    0.5863   -0.4843 O   0  0  0  0  0  0  0  0  0  4  0  0\\n   -2.0571    0.5846   -0.6467 C   0  0  0  0  0  0  0  0  0  5  0  0\\n    1.6311    1.2502    0.7991 H   0  0  0  0  0  0  0  0  0  6  0  0\\n    3.2279    0.3765    0.5252 H   0  0  0  0  0  0  0  0  0  7  0  0\\n    2.0986   -1.4403   -0.5669 H   0  0  0  0  0  0  0  0  0  8  0  0\\n   -2.3810    1.5169   -1.1107 H   0  0  0  0  0  0  0  0  0  9  0  0\\n   -2.2682   -0.2779   -1.3357 H   0  0  0  0  0  0  0  0  0 10  0  0\\n   -2.5629    0.3406    0.3035 H   0  0  0  0  0  0  0  0  0 11  0  0\\n  1  2  2  3\\n  2  3  1  0\\n  3  4  2  0\\n  3  5  1  0\\n  5  6  1  0\\n  1  7  1  0\\n  1  8  1  0\\n  2  9  1  0\\n  6 10  1  0\\n  6 11  1  0\\n  6 12  1  0\\nM  END\\n\",\"sdf\");\n\tviewer_15974750386536818.setStyle({\"stick\": {}});\n\tviewer_15974750386536818.setBackgroundColor(\"0xeeeeee\");\n\tviewer_15974750386536818.zoomTo();\nviewer_15974750386536818.render();\n});\n</script>",
      "text/html": [
       "<div id=\"3dmolviewer_15974750386536818\"  style=\"position: relative; width: 400px; height: 400px\">\n",
       "        <p id=\"3dmolwarning_15974750386536818\" style=\"background-color:#ffcccc;color:black\">You appear to be running in JupyterLab (or JavaScript failed to load for some other reason).  You need to install the 3dmol extension: <br>\n",
       "        <tt>jupyter labextension install jupyterlab_3dmol</tt></p>\n",
       "        </div>\n",
       "<script>\n",
       "\n",
       "var loadScriptAsync = function(uri){\n",
       "  return new Promise((resolve, reject) => {\n",
       "    var tag = document.createElement('script');\n",
       "    tag.src = uri;\n",
       "    tag.async = true;\n",
       "    tag.onload = () => {\n",
       "      resolve();\n",
       "    };\n",
       "  var firstScriptTag = document.getElementsByTagName('script')[0];\n",
       "  firstScriptTag.parentNode.insertBefore(tag, firstScriptTag);\n",
       "});\n",
       "};\n",
       "\n",
       "if(typeof $3Dmolpromise === 'undefined') {\n",
       "$3Dmolpromise = null;\n",
       "  $3Dmolpromise = loadScriptAsync('https://3dmol.csb.pitt.edu/build/3Dmol.js');\n",
       "}\n",
       "\n",
       "var viewer_15974750386536818 = null;\n",
       "var warn = document.getElementById(\"3dmolwarning_15974750386536818\");\n",
       "if(warn) {\n",
       "    warn.parentNode.removeChild(warn);\n",
       "}\n",
       "$3Dmolpromise.then(function() {\n",
       "viewer_15974750386536818 = $3Dmol.createViewer($(\"#3dmolviewer_15974750386536818\"),{backgroundColor:\"white\"});\n",
       "\tviewer_15974750386536818.removeAllModels();\n",
       "\tviewer_15974750386536818.addModel(\"\\n     RDKit          3D\\n\\n 12 11  0  0  0  0  0  0  0  0999 V2000\\n    2.1542    0.3889    0.4057 C   0  0  0  0  0  0  0  0  0  0  0  0\\n    1.5425   -0.5998   -0.1883 C   0  0  0  0  0  0  0  0  0  1  0  0\\n    0.0795   -0.5908   -0.3553 C   0  0  0  0  0  0  0  0  0  2  0  0\\n   -0.5674   -1.6618   -0.3853 O   0  0  0  0  0  0  0  0  0  3  0  0\\n   -0.6313    0.5863   -0.4843 O   0  0  0  0  0  0  0  0  0  4  0  0\\n   -2.0571    0.5846   -0.6467 C   0  0  0  0  0  0  0  0  0  5  0  0\\n    1.6311    1.2502    0.7991 H   0  0  0  0  0  0  0  0  0  6  0  0\\n    3.2279    0.3765    0.5252 H   0  0  0  0  0  0  0  0  0  7  0  0\\n    2.0986   -1.4403   -0.5669 H   0  0  0  0  0  0  0  0  0  8  0  0\\n   -2.3810    1.5169   -1.1107 H   0  0  0  0  0  0  0  0  0  9  0  0\\n   -2.2682   -0.2779   -1.3357 H   0  0  0  0  0  0  0  0  0 10  0  0\\n   -2.5629    0.3406    0.3035 H   0  0  0  0  0  0  0  0  0 11  0  0\\n  1  2  2  3\\n  2  3  1  0\\n  3  4  2  0\\n  3  5  1  0\\n  5  6  1  0\\n  1  7  1  0\\n  1  8  1  0\\n  2  9  1  0\\n  6 10  1  0\\n  6 11  1  0\\n  6 12  1  0\\nM  END\\n\",\"sdf\");\n",
       "\tviewer_15974750386536818.setStyle({\"stick\": {}});\n",
       "\tviewer_15974750386536818.setBackgroundColor(\"0xeeeeee\");\n",
       "\tviewer_15974750386536818.zoomTo();\n",
       "viewer_15974750386536818.render();\n",
       "});\n",
       "</script>"
      ]
     },
     "metadata": {},
     "output_type": "display_data"
    },
    {
     "data": {
      "text/plain": [
       "None"
      ]
     },
     "metadata": {},
     "output_type": "display_data"
    },
    {
     "name": "stdout",
     "output_type": "stream",
     "text": [
      "240\n"
     ]
    },
    {
     "data": {
      "application/3dmoljs_load.v0": "<div id=\"3dmolviewer_15974750386551068\"  style=\"position: relative; width: 400px; height: 400px\">\n        <p id=\"3dmolwarning_15974750386551068\" style=\"background-color:#ffcccc;color:black\">You appear to be running in JupyterLab (or JavaScript failed to load for some other reason).  You need to install the 3dmol extension: <br>\n        <tt>jupyter labextension install jupyterlab_3dmol</tt></p>\n        </div>\n<script>\n\nvar loadScriptAsync = function(uri){\n  return new Promise((resolve, reject) => {\n    var tag = document.createElement('script');\n    tag.src = uri;\n    tag.async = true;\n    tag.onload = () => {\n      resolve();\n    };\n  var firstScriptTag = document.getElementsByTagName('script')[0];\n  firstScriptTag.parentNode.insertBefore(tag, firstScriptTag);\n});\n};\n\nif(typeof $3Dmolpromise === 'undefined') {\n$3Dmolpromise = null;\n  $3Dmolpromise = loadScriptAsync('https://3dmol.csb.pitt.edu/build/3Dmol.js');\n}\n\nvar viewer_15974750386551068 = null;\nvar warn = document.getElementById(\"3dmolwarning_15974750386551068\");\nif(warn) {\n    warn.parentNode.removeChild(warn);\n}\n$3Dmolpromise.then(function() {\nviewer_15974750386551068 = $3Dmol.createViewer($(\"#3dmolviewer_15974750386551068\"),{backgroundColor:\"white\"});\n\tviewer_15974750386551068.removeAllModels();\n\tviewer_15974750386551068.addModel(\"\\n     RDKit          3D\\n\\n 12 11  0  0  0  0  0  0  0  0999 V2000\\n    2.1542    0.3889    0.4057 C   0  0  0  0  0  0  0  0  0  0  0  0\\n    1.5425   -0.5998   -0.1883 C   0  0  0  0  0  0  0  0  0  1  0  0\\n    0.0795   -0.5908   -0.3553 C   0  0  0  0  0  0  0  0  0  2  0  0\\n   -0.6267   -1.4959    0.1430 O   0  0  0  0  0  0  0  0  0  3  0  0\\n   -0.5666    0.4055   -1.0607 O   0  0  0  0  0  0  0  0  0  4  0  0\\n   -1.9930    0.4054   -1.2178 C   0  0  0  0  0  0  0  0  0  5  0  0\\n    1.6311    1.2502    0.7991 H   0  0  0  0  0  0  0  0  0  6  0  0\\n    3.2279    0.3765    0.5252 H   0  0  0  0  0  0  0  0  0  7  0  0\\n    2.0986   -1.4403   -0.5669 H   0  0  0  0  0  0  0  0  0  8  0  0\\n   -2.2727    1.0009   -2.0876 H   0  0  0  0  0  0  0  0  0  9  0  0\\n   -2.2644   -0.6717   -1.3897 H   0  0  0  0  0  0  0  0  0 10  0  0\\n   -2.4943    0.6951   -0.2782 H   0  0  0  0  0  0  0  0  0 11  0  0\\n  1  2  2  3\\n  2  3  1  0\\n  3  4  2  0\\n  3  5  1  0\\n  5  6  1  0\\n  1  7  1  0\\n  1  8  1  0\\n  2  9  1  0\\n  6 10  1  0\\n  6 11  1  0\\n  6 12  1  0\\nM  END\\n\",\"sdf\");\n\tviewer_15974750386551068.setStyle({\"stick\": {}});\n\tviewer_15974750386551068.setBackgroundColor(\"0xeeeeee\");\n\tviewer_15974750386551068.zoomTo();\nviewer_15974750386551068.render();\n});\n</script>",
      "text/html": [
       "<div id=\"3dmolviewer_15974750386551068\"  style=\"position: relative; width: 400px; height: 400px\">\n",
       "        <p id=\"3dmolwarning_15974750386551068\" style=\"background-color:#ffcccc;color:black\">You appear to be running in JupyterLab (or JavaScript failed to load for some other reason).  You need to install the 3dmol extension: <br>\n",
       "        <tt>jupyter labextension install jupyterlab_3dmol</tt></p>\n",
       "        </div>\n",
       "<script>\n",
       "\n",
       "var loadScriptAsync = function(uri){\n",
       "  return new Promise((resolve, reject) => {\n",
       "    var tag = document.createElement('script');\n",
       "    tag.src = uri;\n",
       "    tag.async = true;\n",
       "    tag.onload = () => {\n",
       "      resolve();\n",
       "    };\n",
       "  var firstScriptTag = document.getElementsByTagName('script')[0];\n",
       "  firstScriptTag.parentNode.insertBefore(tag, firstScriptTag);\n",
       "});\n",
       "};\n",
       "\n",
       "if(typeof $3Dmolpromise === 'undefined') {\n",
       "$3Dmolpromise = null;\n",
       "  $3Dmolpromise = loadScriptAsync('https://3dmol.csb.pitt.edu/build/3Dmol.js');\n",
       "}\n",
       "\n",
       "var viewer_15974750386551068 = null;\n",
       "var warn = document.getElementById(\"3dmolwarning_15974750386551068\");\n",
       "if(warn) {\n",
       "    warn.parentNode.removeChild(warn);\n",
       "}\n",
       "$3Dmolpromise.then(function() {\n",
       "viewer_15974750386551068 = $3Dmol.createViewer($(\"#3dmolviewer_15974750386551068\"),{backgroundColor:\"white\"});\n",
       "\tviewer_15974750386551068.removeAllModels();\n",
       "\tviewer_15974750386551068.addModel(\"\\n     RDKit          3D\\n\\n 12 11  0  0  0  0  0  0  0  0999 V2000\\n    2.1542    0.3889    0.4057 C   0  0  0  0  0  0  0  0  0  0  0  0\\n    1.5425   -0.5998   -0.1883 C   0  0  0  0  0  0  0  0  0  1  0  0\\n    0.0795   -0.5908   -0.3553 C   0  0  0  0  0  0  0  0  0  2  0  0\\n   -0.6267   -1.4959    0.1430 O   0  0  0  0  0  0  0  0  0  3  0  0\\n   -0.5666    0.4055   -1.0607 O   0  0  0  0  0  0  0  0  0  4  0  0\\n   -1.9930    0.4054   -1.2178 C   0  0  0  0  0  0  0  0  0  5  0  0\\n    1.6311    1.2502    0.7991 H   0  0  0  0  0  0  0  0  0  6  0  0\\n    3.2279    0.3765    0.5252 H   0  0  0  0  0  0  0  0  0  7  0  0\\n    2.0986   -1.4403   -0.5669 H   0  0  0  0  0  0  0  0  0  8  0  0\\n   -2.2727    1.0009   -2.0876 H   0  0  0  0  0  0  0  0  0  9  0  0\\n   -2.2644   -0.6717   -1.3897 H   0  0  0  0  0  0  0  0  0 10  0  0\\n   -2.4943    0.6951   -0.2782 H   0  0  0  0  0  0  0  0  0 11  0  0\\n  1  2  2  3\\n  2  3  1  0\\n  3  4  2  0\\n  3  5  1  0\\n  5  6  1  0\\n  1  7  1  0\\n  1  8  1  0\\n  2  9  1  0\\n  6 10  1  0\\n  6 11  1  0\\n  6 12  1  0\\nM  END\\n\",\"sdf\");\n",
       "\tviewer_15974750386551068.setStyle({\"stick\": {}});\n",
       "\tviewer_15974750386551068.setBackgroundColor(\"0xeeeeee\");\n",
       "\tviewer_15974750386551068.zoomTo();\n",
       "viewer_15974750386551068.render();\n",
       "});\n",
       "</script>"
      ]
     },
     "metadata": {},
     "output_type": "display_data"
    },
    {
     "data": {
      "text/plain": [
       "None"
      ]
     },
     "metadata": {},
     "output_type": "display_data"
    },
    {
     "name": "stdout",
     "output_type": "stream",
     "text": [
      "270\n"
     ]
    },
    {
     "data": {
      "application/3dmoljs_load.v0": "<div id=\"3dmolviewer_1597475038656738\"  style=\"position: relative; width: 400px; height: 400px\">\n        <p id=\"3dmolwarning_1597475038656738\" style=\"background-color:#ffcccc;color:black\">You appear to be running in JupyterLab (or JavaScript failed to load for some other reason).  You need to install the 3dmol extension: <br>\n        <tt>jupyter labextension install jupyterlab_3dmol</tt></p>\n        </div>\n<script>\n\nvar loadScriptAsync = function(uri){\n  return new Promise((resolve, reject) => {\n    var tag = document.createElement('script');\n    tag.src = uri;\n    tag.async = true;\n    tag.onload = () => {\n      resolve();\n    };\n  var firstScriptTag = document.getElementsByTagName('script')[0];\n  firstScriptTag.parentNode.insertBefore(tag, firstScriptTag);\n});\n};\n\nif(typeof $3Dmolpromise === 'undefined') {\n$3Dmolpromise = null;\n  $3Dmolpromise = loadScriptAsync('https://3dmol.csb.pitt.edu/build/3Dmol.js');\n}\n\nvar viewer_1597475038656738 = null;\nvar warn = document.getElementById(\"3dmolwarning_1597475038656738\");\nif(warn) {\n    warn.parentNode.removeChild(warn);\n}\n$3Dmolpromise.then(function() {\nviewer_1597475038656738 = $3Dmol.createViewer($(\"#3dmolviewer_1597475038656738\"),{backgroundColor:\"white\"});\n\tviewer_1597475038656738.removeAllModels();\n\tviewer_1597475038656738.addModel(\"\\n     RDKit          3D\\n\\n 12 11  0  0  0  0  0  0  0  0999 V2000\\n    2.1542    0.3889    0.4057 C   0  0  0  0  0  0  0  0  0  0  0  0\\n    1.5425   -0.5998   -0.1883 C   0  0  0  0  0  0  0  0  0  1  0  0\\n    0.0795   -0.5908   -0.3553 C   0  0  0  0  0  0  0  0  0  2  0  0\\n   -0.6670   -1.0865    0.5184 O   0  0  0  0  0  0  0  0  0  3  0  0\\n   -0.5226   -0.0412   -1.4701 O   0  0  0  0  0  0  0  0  0  4  0  0\\n   -1.9494   -0.0373   -1.6236 C   0  0  0  0  0  0  0  0  0  5  0  0\\n    1.6311    1.2502    0.7991 H   0  0  0  0  0  0  0  0  0  6  0  0\\n    3.2279    0.3765    0.5252 H   0  0  0  0  0  0  0  0  0  7  0  0\\n    2.0986   -1.4403   -0.5669 H   0  0  0  0  0  0  0  0  0  8  0  0\\n   -2.2111    0.0626   -2.6777 H   0  0  0  0  0  0  0  0  0  9  0  0\\n   -2.2837   -1.0398   -1.2409 H   0  0  0  0  0  0  0  0  0 10  0  0\\n   -2.4165    0.7092   -0.9582 H   0  0  0  0  0  0  0  0  0 11  0  0\\n  1  2  2  3\\n  2  3  1  0\\n  3  4  2  0\\n  3  5  1  0\\n  5  6  1  0\\n  1  7  1  0\\n  1  8  1  0\\n  2  9  1  0\\n  6 10  1  0\\n  6 11  1  0\\n  6 12  1  0\\nM  END\\n\",\"sdf\");\n\tviewer_1597475038656738.setStyle({\"stick\": {}});\n\tviewer_1597475038656738.setBackgroundColor(\"0xeeeeee\");\n\tviewer_1597475038656738.zoomTo();\nviewer_1597475038656738.render();\n});\n</script>",
      "text/html": [
       "<div id=\"3dmolviewer_1597475038656738\"  style=\"position: relative; width: 400px; height: 400px\">\n",
       "        <p id=\"3dmolwarning_1597475038656738\" style=\"background-color:#ffcccc;color:black\">You appear to be running in JupyterLab (or JavaScript failed to load for some other reason).  You need to install the 3dmol extension: <br>\n",
       "        <tt>jupyter labextension install jupyterlab_3dmol</tt></p>\n",
       "        </div>\n",
       "<script>\n",
       "\n",
       "var loadScriptAsync = function(uri){\n",
       "  return new Promise((resolve, reject) => {\n",
       "    var tag = document.createElement('script');\n",
       "    tag.src = uri;\n",
       "    tag.async = true;\n",
       "    tag.onload = () => {\n",
       "      resolve();\n",
       "    };\n",
       "  var firstScriptTag = document.getElementsByTagName('script')[0];\n",
       "  firstScriptTag.parentNode.insertBefore(tag, firstScriptTag);\n",
       "});\n",
       "};\n",
       "\n",
       "if(typeof $3Dmolpromise === 'undefined') {\n",
       "$3Dmolpromise = null;\n",
       "  $3Dmolpromise = loadScriptAsync('https://3dmol.csb.pitt.edu/build/3Dmol.js');\n",
       "}\n",
       "\n",
       "var viewer_1597475038656738 = null;\n",
       "var warn = document.getElementById(\"3dmolwarning_1597475038656738\");\n",
       "if(warn) {\n",
       "    warn.parentNode.removeChild(warn);\n",
       "}\n",
       "$3Dmolpromise.then(function() {\n",
       "viewer_1597475038656738 = $3Dmol.createViewer($(\"#3dmolviewer_1597475038656738\"),{backgroundColor:\"white\"});\n",
       "\tviewer_1597475038656738.removeAllModels();\n",
       "\tviewer_1597475038656738.addModel(\"\\n     RDKit          3D\\n\\n 12 11  0  0  0  0  0  0  0  0999 V2000\\n    2.1542    0.3889    0.4057 C   0  0  0  0  0  0  0  0  0  0  0  0\\n    1.5425   -0.5998   -0.1883 C   0  0  0  0  0  0  0  0  0  1  0  0\\n    0.0795   -0.5908   -0.3553 C   0  0  0  0  0  0  0  0  0  2  0  0\\n   -0.6670   -1.0865    0.5184 O   0  0  0  0  0  0  0  0  0  3  0  0\\n   -0.5226   -0.0412   -1.4701 O   0  0  0  0  0  0  0  0  0  4  0  0\\n   -1.9494   -0.0373   -1.6236 C   0  0  0  0  0  0  0  0  0  5  0  0\\n    1.6311    1.2502    0.7991 H   0  0  0  0  0  0  0  0  0  6  0  0\\n    3.2279    0.3765    0.5252 H   0  0  0  0  0  0  0  0  0  7  0  0\\n    2.0986   -1.4403   -0.5669 H   0  0  0  0  0  0  0  0  0  8  0  0\\n   -2.2111    0.0626   -2.6777 H   0  0  0  0  0  0  0  0  0  9  0  0\\n   -2.2837   -1.0398   -1.2409 H   0  0  0  0  0  0  0  0  0 10  0  0\\n   -2.4165    0.7092   -0.9582 H   0  0  0  0  0  0  0  0  0 11  0  0\\n  1  2  2  3\\n  2  3  1  0\\n  3  4  2  0\\n  3  5  1  0\\n  5  6  1  0\\n  1  7  1  0\\n  1  8  1  0\\n  2  9  1  0\\n  6 10  1  0\\n  6 11  1  0\\n  6 12  1  0\\nM  END\\n\",\"sdf\");\n",
       "\tviewer_1597475038656738.setStyle({\"stick\": {}});\n",
       "\tviewer_1597475038656738.setBackgroundColor(\"0xeeeeee\");\n",
       "\tviewer_1597475038656738.zoomTo();\n",
       "viewer_1597475038656738.render();\n",
       "});\n",
       "</script>"
      ]
     },
     "metadata": {},
     "output_type": "display_data"
    },
    {
     "data": {
      "text/plain": [
       "None"
      ]
     },
     "metadata": {},
     "output_type": "display_data"
    },
    {
     "name": "stdout",
     "output_type": "stream",
     "text": [
      "300\n"
     ]
    },
    {
     "data": {
      "application/3dmoljs_load.v0": "<div id=\"3dmolviewer_15974750386584084\"  style=\"position: relative; width: 400px; height: 400px\">\n        <p id=\"3dmolwarning_15974750386584084\" style=\"background-color:#ffcccc;color:black\">You appear to be running in JupyterLab (or JavaScript failed to load for some other reason).  You need to install the 3dmol extension: <br>\n        <tt>jupyter labextension install jupyterlab_3dmol</tt></p>\n        </div>\n<script>\n\nvar loadScriptAsync = function(uri){\n  return new Promise((resolve, reject) => {\n    var tag = document.createElement('script');\n    tag.src = uri;\n    tag.async = true;\n    tag.onload = () => {\n      resolve();\n    };\n  var firstScriptTag = document.getElementsByTagName('script')[0];\n  firstScriptTag.parentNode.insertBefore(tag, firstScriptTag);\n});\n};\n\nif(typeof $3Dmolpromise === 'undefined') {\n$3Dmolpromise = null;\n  $3Dmolpromise = loadScriptAsync('https://3dmol.csb.pitt.edu/build/3Dmol.js');\n}\n\nvar viewer_15974750386584084 = null;\nvar warn = document.getElementById(\"3dmolwarning_15974750386584084\");\nif(warn) {\n    warn.parentNode.removeChild(warn);\n}\n$3Dmolpromise.then(function() {\nviewer_15974750386584084 = $3Dmol.createViewer($(\"#3dmolviewer_15974750386584084\"),{backgroundColor:\"white\"});\n\tviewer_15974750386584084.removeAllModels();\n\tviewer_15974750386584084.addModel(\"\\n     RDKit          3D\\n\\n 12 11  0  0  0  0  0  0  0  0999 V2000\\n    2.1542    0.3889    0.4057 C   0  0  0  0  0  0  0  0  0  0  0  0\\n    1.5425   -0.5998   -0.1883 C   0  0  0  0  0  0  0  0  0  1  0  0\\n    0.0795   -0.5908   -0.3553 C   0  0  0  0  0  0  0  0  0  2  0  0\\n   -0.6775   -0.5432    0.6402 O   0  0  0  0  0  0  0  0  0  3  0  0\\n   -0.5111   -0.6338   -1.6030 O   0  0  0  0  0  0  0  0  0  4  0  0\\n   -1.9380   -0.6246   -1.7553 C   0  0  0  0  0  0  0  0  0  5  0  0\\n    1.6311    1.2502    0.7991 H   0  0  0  0  0  0  0  0  0  6  0  0\\n    3.2279    0.3765    0.5252 H   0  0  0  0  0  0  0  0  0  7  0  0\\n    2.0986   -1.4403   -0.5669 H   0  0  0  0  0  0  0  0  0  8  0  0\\n   -2.2128   -1.0466   -2.7227 H   0  0  0  0  0  0  0  0  0  9  0  0\\n   -2.3208   -1.2835   -0.9291 H   0  0  0  0  0  0  0  0  0 10  0  0\\n   -2.3505    0.3792   -1.5544 H   0  0  0  0  0  0  0  0  0 11  0  0\\n  1  2  2  3\\n  2  3  1  0\\n  3  4  2  0\\n  3  5  1  0\\n  5  6  1  0\\n  1  7  1  0\\n  1  8  1  0\\n  2  9  1  0\\n  6 10  1  0\\n  6 11  1  0\\n  6 12  1  0\\nM  END\\n\",\"sdf\");\n\tviewer_15974750386584084.setStyle({\"stick\": {}});\n\tviewer_15974750386584084.setBackgroundColor(\"0xeeeeee\");\n\tviewer_15974750386584084.zoomTo();\nviewer_15974750386584084.render();\n});\n</script>",
      "text/html": [
       "<div id=\"3dmolviewer_15974750386584084\"  style=\"position: relative; width: 400px; height: 400px\">\n",
       "        <p id=\"3dmolwarning_15974750386584084\" style=\"background-color:#ffcccc;color:black\">You appear to be running in JupyterLab (or JavaScript failed to load for some other reason).  You need to install the 3dmol extension: <br>\n",
       "        <tt>jupyter labextension install jupyterlab_3dmol</tt></p>\n",
       "        </div>\n",
       "<script>\n",
       "\n",
       "var loadScriptAsync = function(uri){\n",
       "  return new Promise((resolve, reject) => {\n",
       "    var tag = document.createElement('script');\n",
       "    tag.src = uri;\n",
       "    tag.async = true;\n",
       "    tag.onload = () => {\n",
       "      resolve();\n",
       "    };\n",
       "  var firstScriptTag = document.getElementsByTagName('script')[0];\n",
       "  firstScriptTag.parentNode.insertBefore(tag, firstScriptTag);\n",
       "});\n",
       "};\n",
       "\n",
       "if(typeof $3Dmolpromise === 'undefined') {\n",
       "$3Dmolpromise = null;\n",
       "  $3Dmolpromise = loadScriptAsync('https://3dmol.csb.pitt.edu/build/3Dmol.js');\n",
       "}\n",
       "\n",
       "var viewer_15974750386584084 = null;\n",
       "var warn = document.getElementById(\"3dmolwarning_15974750386584084\");\n",
       "if(warn) {\n",
       "    warn.parentNode.removeChild(warn);\n",
       "}\n",
       "$3Dmolpromise.then(function() {\n",
       "viewer_15974750386584084 = $3Dmol.createViewer($(\"#3dmolviewer_15974750386584084\"),{backgroundColor:\"white\"});\n",
       "\tviewer_15974750386584084.removeAllModels();\n",
       "\tviewer_15974750386584084.addModel(\"\\n     RDKit          3D\\n\\n 12 11  0  0  0  0  0  0  0  0999 V2000\\n    2.1542    0.3889    0.4057 C   0  0  0  0  0  0  0  0  0  0  0  0\\n    1.5425   -0.5998   -0.1883 C   0  0  0  0  0  0  0  0  0  1  0  0\\n    0.0795   -0.5908   -0.3553 C   0  0  0  0  0  0  0  0  0  2  0  0\\n   -0.6775   -0.5432    0.6402 O   0  0  0  0  0  0  0  0  0  3  0  0\\n   -0.5111   -0.6338   -1.6030 O   0  0  0  0  0  0  0  0  0  4  0  0\\n   -1.9380   -0.6246   -1.7553 C   0  0  0  0  0  0  0  0  0  5  0  0\\n    1.6311    1.2502    0.7991 H   0  0  0  0  0  0  0  0  0  6  0  0\\n    3.2279    0.3765    0.5252 H   0  0  0  0  0  0  0  0  0  7  0  0\\n    2.0986   -1.4403   -0.5669 H   0  0  0  0  0  0  0  0  0  8  0  0\\n   -2.2128   -1.0466   -2.7227 H   0  0  0  0  0  0  0  0  0  9  0  0\\n   -2.3208   -1.2835   -0.9291 H   0  0  0  0  0  0  0  0  0 10  0  0\\n   -2.3505    0.3792   -1.5544 H   0  0  0  0  0  0  0  0  0 11  0  0\\n  1  2  2  3\\n  2  3  1  0\\n  3  4  2  0\\n  3  5  1  0\\n  5  6  1  0\\n  1  7  1  0\\n  1  8  1  0\\n  2  9  1  0\\n  6 10  1  0\\n  6 11  1  0\\n  6 12  1  0\\nM  END\\n\",\"sdf\");\n",
       "\tviewer_15974750386584084.setStyle({\"stick\": {}});\n",
       "\tviewer_15974750386584084.setBackgroundColor(\"0xeeeeee\");\n",
       "\tviewer_15974750386584084.zoomTo();\n",
       "viewer_15974750386584084.render();\n",
       "});\n",
       "</script>"
      ]
     },
     "metadata": {},
     "output_type": "display_data"
    },
    {
     "data": {
      "text/plain": [
       "None"
      ]
     },
     "metadata": {},
     "output_type": "display_data"
    },
    {
     "name": "stdout",
     "output_type": "stream",
     "text": [
      "330\n"
     ]
    },
    {
     "data": {
      "application/3dmoljs_load.v0": "<div id=\"3dmolviewer_15974750386601985\"  style=\"position: relative; width: 400px; height: 400px\">\n        <p id=\"3dmolwarning_15974750386601985\" style=\"background-color:#ffcccc;color:black\">You appear to be running in JupyterLab (or JavaScript failed to load for some other reason).  You need to install the 3dmol extension: <br>\n        <tt>jupyter labextension install jupyterlab_3dmol</tt></p>\n        </div>\n<script>\n\nvar loadScriptAsync = function(uri){\n  return new Promise((resolve, reject) => {\n    var tag = document.createElement('script');\n    tag.src = uri;\n    tag.async = true;\n    tag.onload = () => {\n      resolve();\n    };\n  var firstScriptTag = document.getElementsByTagName('script')[0];\n  firstScriptTag.parentNode.insertBefore(tag, firstScriptTag);\n});\n};\n\nif(typeof $3Dmolpromise === 'undefined') {\n$3Dmolpromise = null;\n  $3Dmolpromise = loadScriptAsync('https://3dmol.csb.pitt.edu/build/3Dmol.js');\n}\n\nvar viewer_15974750386601985 = null;\nvar warn = document.getElementById(\"3dmolwarning_15974750386601985\");\nif(warn) {\n    warn.parentNode.removeChild(warn);\n}\n$3Dmolpromise.then(function() {\nviewer_15974750386601985 = $3Dmol.createViewer($(\"#3dmolviewer_15974750386601985\"),{backgroundColor:\"white\"});\n\tviewer_15974750386601985.removeAllModels();\n\tviewer_15974750386601985.addModel(\"\\n     RDKit          3D\\n\\n 12 11  0  0  0  0  0  0  0  0999 V2000\\n    2.1542    0.3889    0.4057 C   0  0  0  0  0  0  0  0  0  0  0  0\\n    1.5425   -0.5998   -0.1883 C   0  0  0  0  0  0  0  0  0  1  0  0\\n    0.0795   -0.5908   -0.3553 C   0  0  0  0  0  0  0  0  0  2  0  0\\n   -0.6555   -0.0116    0.4758 O   0  0  0  0  0  0  0  0  0  3  0  0\\n   -0.5352   -1.2138   -1.4237 O   0  0  0  0  0  0  0  0  0  4  0  0\\n   -1.9618   -1.1994   -1.5776 C   0  0  0  0  0  0  0  0  0  5  0  0\\n    1.6311    1.2502    0.7991 H   0  0  0  0  0  0  0  0  0  6  0  0\\n    3.2279    0.3765    0.5252 H   0  0  0  0  0  0  0  0  0  7  0  0\\n    2.0986   -1.4403   -0.5669 H   0  0  0  0  0  0  0  0  0  8  0  0\\n   -2.2773   -2.0295   -2.2107 H   0  0  0  0  0  0  0  0  0  9  0  0\\n   -2.3658   -1.3376   -0.5379 H   0  0  0  0  0  0  0  0  0 10  0  0\\n   -2.3139   -0.2065   -1.9070 H   0  0  0  0  0  0  0  0  0 11  0  0\\n  1  2  2  3\\n  2  3  1  0\\n  3  4  2  0\\n  3  5  1  0\\n  5  6  1  0\\n  1  7  1  0\\n  1  8  1  0\\n  2  9  1  0\\n  6 10  1  0\\n  6 11  1  0\\n  6 12  1  0\\nM  END\\n\",\"sdf\");\n\tviewer_15974750386601985.setStyle({\"stick\": {}});\n\tviewer_15974750386601985.setBackgroundColor(\"0xeeeeee\");\n\tviewer_15974750386601985.zoomTo();\nviewer_15974750386601985.render();\n});\n</script>",
      "text/html": [
       "<div id=\"3dmolviewer_15974750386601985\"  style=\"position: relative; width: 400px; height: 400px\">\n",
       "        <p id=\"3dmolwarning_15974750386601985\" style=\"background-color:#ffcccc;color:black\">You appear to be running in JupyterLab (or JavaScript failed to load for some other reason).  You need to install the 3dmol extension: <br>\n",
       "        <tt>jupyter labextension install jupyterlab_3dmol</tt></p>\n",
       "        </div>\n",
       "<script>\n",
       "\n",
       "var loadScriptAsync = function(uri){\n",
       "  return new Promise((resolve, reject) => {\n",
       "    var tag = document.createElement('script');\n",
       "    tag.src = uri;\n",
       "    tag.async = true;\n",
       "    tag.onload = () => {\n",
       "      resolve();\n",
       "    };\n",
       "  var firstScriptTag = document.getElementsByTagName('script')[0];\n",
       "  firstScriptTag.parentNode.insertBefore(tag, firstScriptTag);\n",
       "});\n",
       "};\n",
       "\n",
       "if(typeof $3Dmolpromise === 'undefined') {\n",
       "$3Dmolpromise = null;\n",
       "  $3Dmolpromise = loadScriptAsync('https://3dmol.csb.pitt.edu/build/3Dmol.js');\n",
       "}\n",
       "\n",
       "var viewer_15974750386601985 = null;\n",
       "var warn = document.getElementById(\"3dmolwarning_15974750386601985\");\n",
       "if(warn) {\n",
       "    warn.parentNode.removeChild(warn);\n",
       "}\n",
       "$3Dmolpromise.then(function() {\n",
       "viewer_15974750386601985 = $3Dmol.createViewer($(\"#3dmolviewer_15974750386601985\"),{backgroundColor:\"white\"});\n",
       "\tviewer_15974750386601985.removeAllModels();\n",
       "\tviewer_15974750386601985.addModel(\"\\n     RDKit          3D\\n\\n 12 11  0  0  0  0  0  0  0  0999 V2000\\n    2.1542    0.3889    0.4057 C   0  0  0  0  0  0  0  0  0  0  0  0\\n    1.5425   -0.5998   -0.1883 C   0  0  0  0  0  0  0  0  0  1  0  0\\n    0.0795   -0.5908   -0.3553 C   0  0  0  0  0  0  0  0  0  2  0  0\\n   -0.6555   -0.0116    0.4758 O   0  0  0  0  0  0  0  0  0  3  0  0\\n   -0.5352   -1.2138   -1.4237 O   0  0  0  0  0  0  0  0  0  4  0  0\\n   -1.9618   -1.1994   -1.5776 C   0  0  0  0  0  0  0  0  0  5  0  0\\n    1.6311    1.2502    0.7991 H   0  0  0  0  0  0  0  0  0  6  0  0\\n    3.2279    0.3765    0.5252 H   0  0  0  0  0  0  0  0  0  7  0  0\\n    2.0986   -1.4403   -0.5669 H   0  0  0  0  0  0  0  0  0  8  0  0\\n   -2.2773   -2.0295   -2.2107 H   0  0  0  0  0  0  0  0  0  9  0  0\\n   -2.3658   -1.3376   -0.5379 H   0  0  0  0  0  0  0  0  0 10  0  0\\n   -2.3139   -0.2065   -1.9070 H   0  0  0  0  0  0  0  0  0 11  0  0\\n  1  2  2  3\\n  2  3  1  0\\n  3  4  2  0\\n  3  5  1  0\\n  5  6  1  0\\n  1  7  1  0\\n  1  8  1  0\\n  2  9  1  0\\n  6 10  1  0\\n  6 11  1  0\\n  6 12  1  0\\nM  END\\n\",\"sdf\");\n",
       "\tviewer_15974750386601985.setStyle({\"stick\": {}});\n",
       "\tviewer_15974750386601985.setBackgroundColor(\"0xeeeeee\");\n",
       "\tviewer_15974750386601985.zoomTo();\n",
       "viewer_15974750386601985.render();\n",
       "});\n",
       "</script>"
      ]
     },
     "metadata": {},
     "output_type": "display_data"
    },
    {
     "data": {
      "text/plain": [
       "None"
      ]
     },
     "metadata": {},
     "output_type": "display_data"
    }
   ],
   "source": [
    "confs = []\n",
    "import copy\n",
    "from IPython.display import display\n",
    "for deg in range(0, 360, 10):\n",
    "\n",
    "    rdMolTransforms.SetDihedralDeg(hmol.GetConformer(0), 0, 1, 2, 3, deg)\n",
    "    mol = copy.deepcopy(hmol)\n",
    "    confs.append(mol)\n",
    "    if deg % 30 == 0:\n",
    "        print(deg)\n",
    "        display(IPythonConsole.drawMol3D(hmol))"
   ]
  },
  {
   "cell_type": "code",
   "execution_count": 9,
   "metadata": {},
   "outputs": [],
   "source": [
    "from psikit import Psikit\n",
    "pk = Psikit()"
   ]
  },
  {
   "cell_type": "code",
   "execution_count": 10,
   "metadata": {},
   "outputs": [
    {
     "name": "stdout",
     "output_type": "stream",
     "text": [
      "Optimizer: Optimization complete!\n",
      "Optimizer: Optimization complete!\n",
      "0 -306.4664671988334\n",
      "10 -306.4661685160852\n",
      "20 -306.4652912434956\n",
      "30 -306.46392597558355\n",
      "40 -306.46221004515115\n",
      "50 -306.4603256823502\n",
      "60 -306.4585016217785\n",
      "70 -306.4569816427162\n",
      "80 -306.4559863294905\n",
      "90 -306.4556871351432\n",
      "100 -306.45612777747436\n",
      "110 -306.45723766665077\n",
      "120 -306.45884826472906\n",
      "130 -306.4607129715492\n",
      "140 -306.4625814332829\n",
      "150 -306.46423792159135\n",
      "160 -306.46551916875075\n",
      "170 -306.4663230682071\n",
      "180 -306.4665970127409\n",
      "190 -306.46631883927336\n",
      "200 -306.4655118279453\n",
      "210 -306.46422915660736\n",
      "220 -306.46257314518425\n",
      "230 -306.46070675931935\n",
      "240 -306.4588449515096\n",
      "250 -306.4572373342053\n",
      "260 -306.45612993519217\n",
      "270 -306.455690925566\n",
      "280 -306.45599071201934\n",
      "290 -306.4569855833913\n",
      "300 -306.45850460984167\n",
      "310 -306.4603274750086\n",
      "320 -306.46221081912967\n",
      "330 -306.4639259824197\n",
      "340 -306.4652909556084\n",
      "350 -306.466168221301\n"
     ]
    }
   ],
   "source": [
    "resp_charges = []\n",
    "dihedral_energies = []\n",
    "dihedral_degrees = [i for i in range(0, 360, 10)]\n",
    "pk.read_from_smiles('C=CC(=O)OC')\n",
    "pk.optimize(basis_sets=\"scf/sto-3g\")\n",
    "pk.optimize(basis_sets=\"b3lyp/6-31G*\")\n",
    "\n",
    "for deg in dihedral_degrees:\n",
    "    conformer = pk.mol.GetConformer(0)\n",
    "    rdMolTransforms.SetDihedralDeg(conformer, 0, 1, 2, 3, deg)\n",
    "    degy = pk.energy(basis_sets=\"b3lyp/6-31g*\")\n",
    "    print(deg, degy)\n",
    "    try:\n",
    "        resp_chage = pk.calc_resp_charges()\n",
    "    except:\n",
    "        resp_chage = []\n",
    "    dihedral_energies.append(degy)\n",
    "    resp_charges.append(resp_chage)"
   ]
  },
  {
   "cell_type": "code",
   "execution_count": 20,
   "metadata": {},
   "outputs": [],
   "source": [
    "import numpy as np"
   ]
  },
  {
   "cell_type": "code",
   "execution_count": 21,
   "metadata": {},
   "outputs": [],
   "source": [
    "dihedral_energies_array = np.array(dihedral_energies)"
   ]
  },
  {
   "cell_type": "code",
   "execution_count": 22,
   "metadata": {},
   "outputs": [],
   "source": [
    "rerative = (dihedral_energies_array - dihedral_energies_array.min()) * pk.psi4.constants.hartree2kcalmol"
   ]
  },
  {
   "cell_type": "code",
   "execution_count": 23,
   "metadata": {},
   "outputs": [],
   "source": [
    "%matplotlib inline\n",
    "import matplotlib.pyplot as plt\n",
    "plt.style.use('ggplot')"
   ]
  },
  {
   "cell_type": "code",
   "execution_count": 28,
   "metadata": {},
   "outputs": [
    {
     "data": {
      "text/plain": [
       "Text(0, 0.5, 'Relative energy kcal/mol')"
      ]
     },
     "execution_count": 28,
     "metadata": {},
     "output_type": "execute_result"
    },
    {
     "data": {
      "image/png": "[encoded data removed]",
      "text/plain": [
       "<Figure size 432x288 with 1 Axes>"
      ]
     },
     "metadata": {},
     "output_type": "display_data"
    }
   ],
   "source": [
    "plt.plot(dihedral_degrees, rerative)\n",
    "plt.xlabel('Dihedral Angle degree')\n",
    "plt.ylabel('Relative energy kcal/mol')"
   ]
  },
  {
   "cell_type": "code",
   "execution_count": 25,
   "metadata": {},
   "outputs": [],
   "source": [
    "chargeofO = []\n",
    "chargeofC = []\n",
    "for respc in resp_charges:\n",
    "    try:\n",
    "        oc = respc[3]\n",
    "        cc = respc[0]\n",
    "    except:\n",
    "        oc = None\n",
    "        cc = None\n",
    "    chargeofO.append(oc)\n",
    "    chargeofC.append(cc)"
   ]
  },
  {
   "cell_type": "code",
   "execution_count": 26,
   "metadata": {},
   "outputs": [
    {
     "data": {
      "text/plain": [
       "Text(0, 0.5, 'RESP Charge of Caron0')"
      ]
     },
     "execution_count": 26,
     "metadata": {},
     "output_type": "execute_result"
    },
    {
     "data": {
      "image/png": "[encoded data removed]",
      "text/plain": [
       "<Figure size 432x288 with 1 Axes>"
      ]
     },
     "metadata": {},
     "output_type": "display_data"
    }
   ],
   "source": [
    "plt.plot(dihedral_degrees, chargeofC, c='b')\n",
    "plt.xlabel('Dihedral Angle degree')\n",
    "plt.ylabel('RESP Charge of Caron_0')"
   ]
  },
  {
   "cell_type": "code",
   "execution_count": 18,
   "metadata": {},
   "outputs": [
    {
     "name": "stdout",
     "output_type": "stream",
     "text": [
      "-0.2197554791121001 0\n",
      "-0.22546639462261134 10\n",
      "-0.22748453026885992 20\n",
      "-0.23966308064488032 30\n",
      "-0.24612716742016771 40\n",
      "-0.25973807158327883 50\n",
      "-0.26879981847526174 60\n",
      "-0.2782436509298841 70\n",
      "-0.2935261176358955 80\n",
      "-0.29915569603697634 90\n",
      "-0.29723202343440797 100\n",
      "-0.29261598601586414 110\n",
      "-0.27709502631691196 120\n",
      "-0.2657938750127841 130\n",
      "-0.2502509197323011 140\n",
      "-0.23697490413226155 150\n",
      "-0.22216599104406917 160\n",
      "-0.22090016586002373 170\n",
      "-0.22737372923956456 180\n",
      "-0.23504522168916253 190\n",
      "-0.23607968258769527 200\n",
      "-0.24427533302704219 210\n",
      "-0.25471935667353574 220\n",
      "-0.26238156808759444 230\n",
      "-0.28420027350766175 240\n",
      "-0.3012323012514356 250\n",
      "-0.3012936774869173 260\n",
      "-0.29229779745275414 270\n",
      "-0.28599033928337697 280\n",
      "-0.28015993546139906 290\n",
      "-0.26395273269771485 300\n",
      "-0.2548554201929656 310\n",
      "-0.24663456846429835 320\n",
      "-0.23086215589584383 330\n",
      "-0.21739423945430714 340\n",
      "-0.22658279677694673 350\n"
     ]
    }
   ],
   "source": [
    "plt.plot(dihedral_degrees, chargeofO, c='b')\n",
    "plt.xlabel('Dihedral Angle degree')\n",
    "plt.ylabel('RESP Charge of Oxygen_')"
   ]
  },
  {
   "cell_type": "code",
   "execution_count": 27,
   "metadata": {},
   "outputs": [
    {
     "data": {
      "text/plain": [
       "Text(0, 0.5, 'RESP Charge of Oxygen3')"
      ]
     },
     "execution_count": 27,
     "metadata": {},
     "output_type": "execute_result"
    },
    {
     "data": {
      "image/png": "[encoded data removed]",
      "text/plain": [
       "<Figure size 432x288 with 1 Axes>"
      ]
     },
     "metadata": {},
     "output_type": "display_data"
    }
   ],
   "source": [
    "plt.plot(dihedral_degrees, chargeofO, c='b')\n",
    "plt.xlabel('Dihedral Angle degree')\n",
    "plt.ylabel('RESP Charge of Oxygen3')"
   ]
  },
  {
   "cell_type": "code",
   "execution_count": null,
   "metadata": {},
   "outputs": [],
   "source": []
  }
 ],
 "metadata": {
  "kernelspec": {
   "display_name": "Python 3",
   "language": "python",
   "name": "python3"
  },
  "language_info": {
   "codemirror_mode": {
    "name": "ipython",
    "version": 3
   },
   "file_extension": ".py",
   "mimetype": "text/x-python",
   "name": "python",
   "nbconvert_exporter": "python",
   "pygments_lexer": "ipython3",
   "version": "3.7.7"
  }
 },
 "nbformat": 4,
 "nbformat_minor": 4
}
