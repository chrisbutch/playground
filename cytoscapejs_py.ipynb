{
 "cells": [
  {
   "cell_type": "code",
   "execution_count": 1,
   "metadata": {},
   "outputs": [],
   "source": [
    "import networkx as nx\n",
    "from networkx.readwrite import cytoscape_data\n",
    "from rdkit import Chem\n",
    "from rdkit.Chem import RDConfig\n",
    "from rdkit.Chem import AllChem\n",
    "from rdkit.Chem import DataStructs\n",
    "from rdkit.Chem import rdChemReactions\n",
    "from rdkit.Chem.Draw import rdMolDraw2D\n",
    "import cyjupyter\n",
    "import os\n",
    "from urllib import parse"
   ]
  },
  {
   "cell_type": "code",
   "execution_count": 2,
   "metadata": {},
   "outputs": [],
   "source": [
    "mmp_path = os.path.join(RDConfig.RDContribDir, \"mmpa/data/sample_mmps_default.csv\")"
   ]
  },
  {
   "cell_type": "code",
   "execution_count": 3,
   "metadata": {},
   "outputs": [],
   "source": [
    "lines = []\n",
    "with open(mmp_path, 'r') as f:\n",
    "    for line in f:\n",
    "        lines.append(line.rstrip().split(','))\n"
   ]
  },
  {
   "cell_type": "code",
   "execution_count": 4,
   "metadata": {},
   "outputs": [
    {
     "name": "stdout",
     "output_type": "stream",
     "text": [
      "10 mols\n"
     ]
    }
   ],
   "source": [
    "nodes = set()\n",
    "for line in lines:\n",
    "    nodes.add(line[0])\n",
    "    nodes.add(line[1])\n",
    "nodes = list(nodes)\n",
    "print(str(len(nodes))+' mols')"
   ]
  },
  {
   "cell_type": "code",
   "execution_count": 5,
   "metadata": {},
   "outputs": [],
   "source": [
    "def smi2svg(smi):\n",
    "    mol = Chem.MolFromSmiles(smi)\n",
    "    try:\n",
    "        Chem.rdmolops.Kekulize(mol)\n",
    "    except:\n",
    "        pass\n",
    "    drawer = rdMolDraw2D.MolDraw2DSVG(400, 200)\n",
    "    AllChem.Compute2DCoords(mol)\n",
    "    drawer.DrawMolecule(mol)\n",
    "    drawer.FinishDrawing()\n",
    "    svg = drawer.GetDrawingText().replace(\"svg:\", \"\")\n",
    "    return svg\n",
    "\n",
    "def smi2image(smi):\n",
    "    svg_string = smi2svg(smi)\n",
    "    impath = 'data:image/svg+xml;charset=utf-8,' + parse.quote(svg_string, safe=\"\")\n",
    "    return impath"
   ]
  },
  {
   "cell_type": "code",
   "execution_count": 6,
   "metadata": {},
   "outputs": [],
   "source": [
    "g = nx.Graph()\n",
    "for node in nodes:\n",
    "    g.add_node(node, img=smi2image(node))\n",
    "for line in lines:\n",
    "    g.add_edge(line[0], line[1])"
   ]
  },
  {
   "cell_type": "code",
   "execution_count": 7,
   "metadata": {},
   "outputs": [],
   "source": [
    "cy_g = cytoscape_data(g)"
   ]
  },
  {
   "cell_type": "code",
   "execution_count": 8,
   "metadata": {},
   "outputs": [],
   "source": [
    "from cyjupyter import Cytoscape"
   ]
  },
  {
   "cell_type": "code",
   "execution_count": 9,
   "metadata": {},
   "outputs": [],
   "source": [
    "stobj=[\n",
    "  {'style': [{'css': {\n",
    "      'background-color': 'blue',\n",
    "      'shape' : 'rectangle',\n",
    "      'width':800,\n",
    "      'height':400,\n",
    "      'border-color': 'rgb(0,0,0)',\n",
    "      'border-opacity': 1.0,\n",
    "      'border-width': 0.0,\n",
    "      'color': '#4579e8',\n",
    "      'background-image':'data(img)',\n",
    "      'background-fit':'contain'\n",
    "                    },\n",
    "    'selector': 'node'},\n",
    "            {'css': {\n",
    "                'width': 20.0,\n",
    "            },\n",
    "            'selector': 'edge'}\n",
    "            ],\n",
    "  }]"
   ]
  },
  {
   "cell_type": "code",
   "execution_count": 10,
   "metadata": {},
   "outputs": [],
   "source": [
    "cyobj=Cytoscape(data=cy_g, visual_style=stobj[0]['style'], layout_name='cose')"
   ]
  },
  {
   "cell_type": "code",
   "execution_count": 11,
   "metadata": {},
   "outputs": [
    {
     "data": {
      "application/vnd.jupyter.widget-view+json": {
       "model_id": "56a67a9fc13340ff93945aa67beaed76",
       "version_major": 2,
       "version_minor": 0
      },
      "text/plain": [
       "Cytoscape(data={'data': [], 'directed': False, 'multigraph': False, 'elements': {'nodes': [{'data': {'img': 'd…"
      ]
     },
     "metadata": {},
     "output_type": "display_data"
    }
   ],
   "source": [
    "cyobj"
   ]
  },
  {
   "cell_type": "code",
   "execution_count": 16,
   "metadata": {},
   "outputs": [
    {
     "data": {
      "application/vnd.jupyter.widget-view+json": {
       "model_id": "261532e74a3f40c0bec94e6dd5f06e09",
       "version_major": 2,
       "version_minor": 0
      },
      "text/plain": [
       "Cytoscape(data={'data': {}, 'elements': {'nodes': [{'data': {'img': 'data:image/svg+xml;charset=utf-8,%3C%3Fxm…"
      ]
     },
     "metadata": {},
     "output_type": "display_data"
    }
   ],
   "source": [
    "display(cyobj)"
   ]
  },
  {
   "cell_type": "code",
   "execution_count": null,
   "metadata": {},
   "outputs": [],
   "source": []
  }
 ],
 "metadata": {
  "kernelspec": {
   "display_name": "Python 3",
   "language": "python",
   "name": "python3"
  },
  "language_info": {
   "codemirror_mode": {
    "name": "ipython",
    "version": 3
   },
   "file_extension": ".py",
   "mimetype": "text/x-python",
   "name": "python",
   "nbconvert_exporter": "python",
   "pygments_lexer": "ipython3",
   "version": "3.6.8"
  }
 },
 "nbformat": 4,
 "nbformat_minor": 2
}
