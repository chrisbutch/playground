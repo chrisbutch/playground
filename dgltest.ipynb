{
 "cells": [
  {
   "cell_type": "code",
   "execution_count": 1,
   "metadata": {},
   "outputs": [
    {
     "name": "stderr",
     "output_type": "stream",
     "text": [
      "RDKit WARNING: [20:34:10] Enabling RDKit 2019.09.2 jupyter extensions\n"
     ]
    }
   ],
   "source": [
    "%matplotlib inline \n",
    "import matplotlib.pyplot as plt\n",
    "import os\n",
    "from rdkit import Chem\n",
    "from rdkit import RDPaths\n",
    "\n",
    "import dgl\n",
    "import numpy as np\n",
    "import random\n",
    "import torch\n",
    "import torch.nn as nn\n",
    "import torch.nn.functional as F\n",
    "from torch.utils.data import DataLoader\n",
    "from torch.utils.data import Dataset\n",
    "from dgl import model_zoo\n",
    "\n",
    "from dgl.data.chem.utils import mol_to_complete_graph, mol_to_bigraph\n",
    "\n",
    "from dgl.data.chem.utils import atom_type_one_hot\n",
    "from dgl.data.chem.utils import atom_degree_one_hot\n",
    "from dgl.data.chem.utils import atom_formal_charge\n",
    "from dgl.data.chem.utils import atom_num_radical_electrons\n",
    "from dgl.data.chem.utils import atom_hybridization_one_hot\n",
    "from dgl.data.chem.utils import atom_total_num_H_one_hot\n",
    "from dgl.data.chem.utils import one_hot_encoding\n",
    "from dgl.data.chem import CanonicalAtomFeaturizer\n",
    "from dgl.data.chem import CanonicalBondFeaturizer\n",
    "from dgl.data.chem import ConcatFeaturizer\n",
    "from dgl.data.chem import BaseAtomFeaturizer\n",
    "from dgl.data.chem import BaseBondFeaturizer\n",
    "\n",
    "from dgl.data.chem import one_hot_encoding\n",
    "from dgl.data.utils import split_dataset\n",
    "\n",
    "from functools import partial\n",
    "from sklearn.metrics import roc_auc_score"
   ]
  },
  {
   "cell_type": "code",
   "execution_count": 2,
   "metadata": {},
   "outputs": [
    {
     "data": {
      "text/plain": [
       "True"
      ]
     },
     "execution_count": 2,
     "metadata": {},
     "output_type": "execute_result"
    }
   ],
   "source": [
    "torch.cuda.is_available()"
   ]
  },
  {
   "cell_type": "code",
   "execution_count": 3,
   "metadata": {},
   "outputs": [],
   "source": [
    "def run_a_train_epoch(args, epoch, model, data_loader,loss_criterion, optimizer):\n",
    "    model.train()\n",
    "\n",
    "    for batch_id, batch_data in enumerate(data_loader):\n",
    "        bg, labels = batch_data\n",
    "        labels = labels.to('cuda')\n",
    "        prediction = regress(model, bg)\n",
    "        loss = (loss_criterion(prediction, labels)).mean()\n",
    "        optimizer.zero_grad()\n",
    "        loss.backward()\n",
    "        optimizer.step()\n",
    "        train_meter.update(prediction, labels)\n",
    "    total_score = np.mean(train_meter.compute_metric('rmse'))\n",
    "    print('epoch {:d}/{:d}, training {} {:.4f}'.format(\n",
    "        epoch + 1, args['num_epochs'], args['metric_name'], total_score))"
   ]
  },
  {
   "cell_type": "code",
   "execution_count": 4,
   "metadata": {},
   "outputs": [],
   "source": [
    "def chirality(atom):\n",
    "    try:\n",
    "        return one_hot_encoding(atom.GetProp('_CIPCode'), ['R', 'S']) + \\\n",
    "               [atom.HasProp('_ChiralityPossible')]\n",
    "    except:\n",
    "        return [False, False] + [atom.HasProp('_ChiralityPossible')]\n",
    "    \n",
    "def collate_molgraphs(data):\n",
    "    \"\"\"Batching a list of datapoints for dataloader.\n",
    "    Parameters\n",
    "    ----------\n",
    "    data : list of 3-tuples or 4-tuples.\n",
    "        Each tuple is for a single datapoint, consisting of\n",
    "        a SMILES, a DGLGraph, all-task labels and optionally\n",
    "        a binary mask indicating the existence of labels.\n",
    "    Returns\n",
    "    -------\n",
    "    smiles : list\n",
    "        List of smiles\n",
    "    bg : BatchedDGLGraph\n",
    "        Batched DGLGraphs\n",
    "    labels : Tensor of dtype float32 and shape (B, T)\n",
    "        Batched datapoint labels. B is len(data) and\n",
    "        T is the number of total tasks.\n",
    "    masks : Tensor of dtype float32 and shape (B, T)\n",
    "        Batched datapoint binary mask, indicating the\n",
    "        existence of labels. If binary masks are not\n",
    "        provided, return a tensor with ones.\n",
    "    \"\"\"\n",
    "    assert len(data[0]) in [3, 4], \\\n",
    "        'Expect the tuple to be of length 3 or 4, got {:d}'.format(len(data[0]))\n",
    "    if len(data[0]) == 3:\n",
    "        smiles, graphs, labels = map(list, zip(*data))\n",
    "        masks = None\n",
    "    else:\n",
    "        smiles, graphs, labels, masks = map(list, zip(*data))\n",
    "\n",
    "    bg = dgl.batch(graphs)\n",
    "    bg.set_n_initializer(dgl.init.zero_initializer)\n",
    "    bg.set_e_initializer(dgl.init.zero_initializer)\n",
    "    labels = torch.stack(labels, dim=0)\n",
    "    \n",
    "    if masks is None:\n",
    "        masks = torch.ones(labels.shape)\n",
    "    else:\n",
    "        masks = torch.stack(masks, dim=0)\n",
    "    return smiles, bg, labels, masks\n",
    "\n"
   ]
  },
  {
   "cell_type": "code",
   "execution_count": 5,
   "metadata": {},
   "outputs": [],
   "source": [
    "atom_featurizer = BaseAtomFeaturizer(\n",
    "                 {'hv': ConcatFeaturizer([\n",
    "                  partial(atom_type_one_hot, allowable_set=[\n",
    "                          'B', 'C', 'N', 'O', 'F', 'Si', 'P', 'S', 'Cl', 'As', 'Se', 'Br', 'Te', 'I', 'At'],\n",
    "                    encode_unknown=True),\n",
    "                  partial(atom_degree_one_hot, allowable_set=list(range(6))),\n",
    "                  atom_formal_charge, atom_num_radical_electrons,\n",
    "                  partial(atom_hybridization_one_hot, encode_unknown=True),\n",
    "                  lambda atom: [0], # A placeholder for aromatic information,\n",
    "                    atom_total_num_H_one_hot, chirality\n",
    "                 ],\n",
    "                )})\n",
    "bond_featurizer = BaseBondFeaturizer({\n",
    "                                     'he': lambda bond: [0 for _ in range(10)]\n",
    "    })"
   ]
  },
  {
   "cell_type": "code",
   "execution_count": 6,
   "metadata": {},
   "outputs": [],
   "source": [
    "train=os.path.join(RDPaths.RDDocsDir, 'Book/data/solubility.train.sdf')\n",
    "test=os.path.join(RDPaths.RDDocsDir, 'Book/data/solubility.test.sdf')"
   ]
  },
  {
   "cell_type": "code",
   "execution_count": 7,
   "metadata": {},
   "outputs": [],
   "source": [
    "train_mols = Chem.SDMolSupplier(train)\n",
    "train_smi =[Chem.MolToSmiles(m) for m in train_mols]\n",
    "train_sol = torch.tensor([float(mol.GetProp('SOL')) for mol in train_mols]).reshape(-1,1)\n",
    "\n",
    "test_mols =  Chem.SDMolSupplier(test)\n",
    "test_smi = [Chem.MolToSmiles(m) for m in test_mols]\n",
    "test_sol = torch.tensor([float(mol.GetProp('SOL')) for mol in test_mols]).reshape(-1,1)"
   ]
  },
  {
   "cell_type": "code",
   "execution_count": 8,
   "metadata": {},
   "outputs": [],
   "source": [
    "train_graph =[mol_to_bigraph(mol,\n",
    "                           atom_featurizer=atom_featurizer, \n",
    "                           bond_featurizer=bond_featurizer) for mol in train_mols]\n",
    "\n",
    "test_graph =[mol_to_bigraph(mol,\n",
    "                           atom_featurizer=atom_featurizer, \n",
    "                           bond_featurizer=bond_featurizer) for mol in test_mols]"
   ]
  },
  {
   "cell_type": "code",
   "execution_count": 9,
   "metadata": {},
   "outputs": [],
   "source": [
    "def run_a_train_epoch(n_epochs, epoch, model, data_loader,loss_criterion, optimizer):\n",
    "    model.train()\n",
    "    total_loss = 0\n",
    "    losses = []\n",
    "    \n",
    "    for batch_id, batch_data in enumerate(data_loader):\n",
    "        batch_data\n",
    "        smiles, bg, labels, masks = batch_data\n",
    "        if torch.cuda.is_available():\n",
    "            bg.to(torch.device('cuda:0'))\n",
    "            labels = labels.to('cuda:0')\n",
    "            masks = masks.to('cuda:0')\n",
    "        \n",
    "        prediction = model(bg, bg.ndata['hv'], bg.edata['he'])\n",
    "        loss = (loss_criterion(prediction, labels)*(masks != 0).float()).mean()\n",
    "        #loss = loss_criterion(prediction, labels)\n",
    "        #print(loss.shape)\n",
    "        optimizer.zero_grad()\n",
    "        loss.backward()\n",
    "        optimizer.step()\n",
    "        \n",
    "        losses.append(loss.data.item())\n",
    "        \n",
    "    #total_score = np.mean(train_meter.compute_metric('rmse'))\n",
    "    total_score = np.mean(losses)\n",
    "    print('epoch {:d}/{:d}, training {:.4f}'.format( epoch + 1, n_epochs,  total_score))\n",
    "    return total_score"
   ]
  },
  {
   "cell_type": "code",
   "execution_count": 10,
   "metadata": {
    "scrolled": true
   },
   "outputs": [],
   "source": [
    "model = model_zoo.chem.AttentiveFP(node_feat_size=39,\n",
    "                                  edge_feat_size=10,\n",
    "                                  num_layers=2,\n",
    "                                  num_timesteps=2,\n",
    "                                  graph_feat_size=200,\n",
    "                                  output_size=1,\n",
    "                                  dropout=0.2)\n",
    "model = model.to('cuda:0')"
   ]
  },
  {
   "cell_type": "code",
   "execution_count": 11,
   "metadata": {},
   "outputs": [],
   "source": [
    "train_loader = DataLoader(dataset=list(zip(train_smi, train_graph, train_sol)), batch_size=128, collate_fn=collate_molgraphs)\n",
    "test_loader = DataLoader(dataset=list(zip(test_smi, test_graph, test_sol)), batch_size=128, collate_fn=collate_molgraphs)"
   ]
  },
  {
   "cell_type": "code",
   "execution_count": null,
   "metadata": {},
   "outputs": [],
   "source": []
  },
  {
   "cell_type": "code",
   "execution_count": 12,
   "metadata": {},
   "outputs": [
    {
     "name": "stdout",
     "output_type": "stream",
     "text": [
      "epoch 1/100, training 8.8096\n",
      "epoch 2/100, training 4.6130\n",
      "epoch 3/100, training 3.0711\n",
      "epoch 4/100, training 3.0123\n",
      "epoch 5/100, training 2.6381\n",
      "epoch 6/100, training 2.1367\n",
      "epoch 7/100, training 1.7387\n",
      "epoch 8/100, training 2.1711\n",
      "epoch 9/100, training 1.8085\n",
      "epoch 10/100, training 1.4492\n",
      "epoch 11/100, training 0.9864\n",
      "epoch 12/100, training 0.8572\n",
      "epoch 13/100, training 0.8008\n",
      "epoch 14/100, training 0.7456\n",
      "epoch 15/100, training 0.8072\n",
      "epoch 16/100, training 1.0538\n",
      "epoch 17/100, training 0.7737\n",
      "epoch 18/100, training 0.7873\n",
      "epoch 19/100, training 0.8416\n",
      "epoch 20/100, training 0.6274\n",
      "epoch 21/100, training 0.6043\n",
      "epoch 22/100, training 0.6074\n",
      "epoch 23/100, training 0.5553\n",
      "epoch 24/100, training 0.5958\n",
      "epoch 25/100, training 0.6209\n",
      "epoch 26/100, training 0.6549\n",
      "epoch 27/100, training 0.6409\n",
      "epoch 28/100, training 0.6334\n",
      "epoch 29/100, training 0.6946\n",
      "epoch 30/100, training 0.4690\n",
      "epoch 31/100, training 0.4530\n",
      "epoch 32/100, training 0.4636\n",
      "epoch 33/100, training 0.4645\n",
      "epoch 34/100, training 0.4646\n",
      "epoch 35/100, training 0.4130\n",
      "epoch 36/100, training 0.4516\n",
      "epoch 37/100, training 0.3906\n",
      "epoch 38/100, training 0.3860\n",
      "epoch 39/100, training 0.3687\n",
      "epoch 40/100, training 0.3096\n",
      "epoch 41/100, training 0.3341\n",
      "epoch 42/100, training 0.3655\n",
      "epoch 43/100, training 0.3989\n",
      "epoch 44/100, training 0.4029\n",
      "epoch 45/100, training 0.5093\n",
      "epoch 46/100, training 0.6887\n",
      "epoch 47/100, training 0.5787\n",
      "epoch 48/100, training 0.4626\n",
      "epoch 49/100, training 0.4528\n",
      "epoch 50/100, training 0.5052\n",
      "epoch 51/100, training 0.3732\n",
      "epoch 52/100, training 0.3826\n",
      "epoch 53/100, training 0.3434\n",
      "epoch 54/100, training 0.3236\n",
      "epoch 55/100, training 0.3086\n",
      "epoch 56/100, training 0.2946\n",
      "epoch 57/100, training 0.2963\n",
      "epoch 58/100, training 0.2978\n",
      "epoch 59/100, training 0.3293\n",
      "epoch 60/100, training 0.2771\n",
      "epoch 61/100, training 0.2680\n",
      "epoch 62/100, training 0.2831\n",
      "epoch 63/100, training 0.2773\n",
      "epoch 64/100, training 0.3020\n",
      "epoch 65/100, training 0.3681\n",
      "epoch 66/100, training 0.4934\n",
      "epoch 67/100, training 0.4425\n",
      "epoch 68/100, training 0.6564\n",
      "epoch 69/100, training 0.6667\n",
      "epoch 70/100, training 0.4864\n",
      "epoch 71/100, training 0.5470\n",
      "epoch 72/100, training 0.5098\n",
      "epoch 73/100, training 0.4339\n",
      "epoch 74/100, training 0.4412\n",
      "epoch 75/100, training 0.4010\n",
      "epoch 76/100, training 0.3537\n",
      "epoch 77/100, training 0.3797\n",
      "epoch 78/100, training 0.3168\n",
      "epoch 79/100, training 0.2813\n",
      "epoch 80/100, training 0.2970\n",
      "epoch 81/100, training 0.2584\n",
      "epoch 82/100, training 0.2962\n",
      "epoch 83/100, training 0.2858\n",
      "epoch 84/100, training 0.2995\n",
      "epoch 85/100, training 0.2890\n",
      "epoch 86/100, training 0.2670\n",
      "epoch 87/100, training 0.2438\n",
      "epoch 88/100, training 0.2523\n",
      "epoch 89/100, training 0.3115\n",
      "epoch 90/100, training 0.2887\n",
      "epoch 91/100, training 0.3327\n",
      "epoch 92/100, training 0.3209\n",
      "epoch 93/100, training 0.4597\n",
      "epoch 94/100, training 0.4024\n",
      "epoch 95/100, training 0.3614\n",
      "epoch 96/100, training 0.5085\n",
      "epoch 97/100, training 0.3624\n",
      "epoch 98/100, training 0.3706\n",
      "epoch 99/100, training 0.3915\n",
      "epoch 100/100, training 0.3003\n"
     ]
    }
   ],
   "source": [
    "loss_fn = nn.MSELoss(reduction='none')\n",
    "optimizer = torch.optim.Adam(model.parameters(), lr=10 ** (-2.5), weight_decay=10 ** (-5.0),)\n",
    "n_epochs = 100\n",
    "epochs = []\n",
    "scores = []\n",
    "for e in range(n_epochs):\n",
    "    score = run_a_train_epoch(n_epochs, e, model, train_loader, loss_fn, optimizer)\n",
    "    epochs.append(e)\n",
    "    scores.append(score)"
   ]
  },
  {
   "cell_type": "code",
   "execution_count": 13,
   "metadata": {},
   "outputs": [
    {
     "data": {
      "text/plain": [
       "[<matplotlib.lines.Line2D at 0x7fb16c261518>]"
      ]
     },
     "execution_count": 13,
     "metadata": {},
     "output_type": "execute_result"
    },
    {
     "data": {
      "image/png": "[encoded data removed]",
      "text/plain": [
       "<Figure size 432x288 with 1 Axes>"
      ]
     },
     "metadata": {
      "needs_background": "light"
     },
     "output_type": "display_data"
    }
   ],
   "source": [
    "plt.plot(epochs, scores)"
   ]
  },
  {
   "cell_type": "code",
   "execution_count": 14,
   "metadata": {},
   "outputs": [
    {
     "data": {
      "text/plain": [
       "AttentiveFP(\n",
       "  (init_context): GetContext(\n",
       "    (project_node): Sequential(\n",
       "      (0): Linear(in_features=39, out_features=200, bias=True)\n",
       "      (1): LeakyReLU(negative_slope=0.01)\n",
       "    )\n",
       "    (project_edge1): Sequential(\n",
       "      (0): Linear(in_features=49, out_features=200, bias=True)\n",
       "      (1): LeakyReLU(negative_slope=0.01)\n",
       "    )\n",
       "    (project_edge2): Sequential(\n",
       "      (0): Dropout(p=0.2, inplace=False)\n",
       "      (1): Linear(in_features=400, out_features=1, bias=True)\n",
       "      (2): LeakyReLU(negative_slope=0.01)\n",
       "    )\n",
       "    (attentive_gru): AttentiveGRU1(\n",
       "      (edge_transform): Sequential(\n",
       "        (0): Dropout(p=0.2, inplace=False)\n",
       "        (1): Linear(in_features=200, out_features=200, bias=True)\n",
       "      )\n",
       "      (gru): GRUCell(200, 200)\n",
       "    )\n",
       "  )\n",
       "  (gnn_layers): ModuleList(\n",
       "    (0): GNNLayer(\n",
       "      (project_edge): Sequential(\n",
       "        (0): Dropout(p=0.2, inplace=False)\n",
       "        (1): Linear(in_features=400, out_features=1, bias=True)\n",
       "        (2): LeakyReLU(negative_slope=0.01)\n",
       "      )\n",
       "      (attentive_gru): AttentiveGRU2(\n",
       "        (project_node): Sequential(\n",
       "          (0): Dropout(p=0.2, inplace=False)\n",
       "          (1): Linear(in_features=200, out_features=200, bias=True)\n",
       "        )\n",
       "        (gru): GRUCell(200, 200)\n",
       "      )\n",
       "    )\n",
       "  )\n",
       "  (readouts): ModuleList(\n",
       "    (0): GlobalPool(\n",
       "      (compute_logits): Sequential(\n",
       "        (0): Linear(in_features=400, out_features=1, bias=True)\n",
       "        (1): LeakyReLU(negative_slope=0.01)\n",
       "      )\n",
       "      (project_nodes): Sequential(\n",
       "        (0): Dropout(p=0.2, inplace=False)\n",
       "        (1): Linear(in_features=200, out_features=200, bias=True)\n",
       "      )\n",
       "      (gru): GRUCell(200, 200)\n",
       "    )\n",
       "    (1): GlobalPool(\n",
       "      (compute_logits): Sequential(\n",
       "        (0): Linear(in_features=400, out_features=1, bias=True)\n",
       "        (1): LeakyReLU(negative_slope=0.01)\n",
       "      )\n",
       "      (project_nodes): Sequential(\n",
       "        (0): Dropout(p=0.2, inplace=False)\n",
       "        (1): Linear(in_features=200, out_features=200, bias=True)\n",
       "      )\n",
       "      (gru): GRUCell(200, 200)\n",
       "    )\n",
       "  )\n",
       "  (predict): Sequential(\n",
       "    (0): Dropout(p=0.2, inplace=False)\n",
       "    (1): Linear(in_features=200, out_features=1, bias=True)\n",
       "  )\n",
       ")"
      ]
     },
     "execution_count": 14,
     "metadata": {},
     "output_type": "execute_result"
    }
   ],
   "source": [
    "model.eval()"
   ]
  },
  {
   "cell_type": "code",
   "execution_count": 15,
   "metadata": {},
   "outputs": [],
   "source": [
    "all_pred = []\n",
    "for test_data in test_loader:\n",
    "    smi_lst, bg, labels, masks = test_data\n",
    "    if torch.cuda.is_available():\n",
    "            bg.to(torch.device('cuda:0'))\n",
    "            labels = labels.to('cuda:0')\n",
    "            masks = masks.to('cuda:0')\n",
    "    pred = model(bg, bg.ndata['hv'], bg.edata['he'])\n",
    "    all_pred.append(pred.data.cpu().numpy())"
   ]
  },
  {
   "cell_type": "code",
   "execution_count": 16,
   "metadata": {},
   "outputs": [],
   "source": [
    "res = np.vstack(all_pred)"
   ]
  },
  {
   "cell_type": "code",
   "execution_count": 17,
   "metadata": {},
   "outputs": [
    {
     "data": {
      "text/plain": [
       "(257, 1)"
      ]
     },
     "execution_count": 17,
     "metadata": {},
     "output_type": "execute_result"
    }
   ],
   "source": [
    "res.shape"
   ]
  },
  {
   "cell_type": "code",
   "execution_count": 18,
   "metadata": {},
   "outputs": [
    {
     "data": {
      "text/plain": [
       "(257, 1)"
      ]
     },
     "execution_count": 18,
     "metadata": {},
     "output_type": "execute_result"
    }
   ],
   "source": [
    "test_sol.numpy().shape"
   ]
  },
  {
   "cell_type": "code",
   "execution_count": 19,
   "metadata": {},
   "outputs": [
    {
     "data": {
      "text/plain": [
       "Text(0, 0.5, 'exp')"
      ]
     },
     "execution_count": 19,
     "metadata": {},
     "output_type": "execute_result"
    },
    {
     "data": {
      "image/png": "[encoded data removed]",
      "text/plain": [
       "<Figure size 432x288 with 1 Axes>"
      ]
     },
     "metadata": {
      "needs_background": "light"
     },
     "output_type": "display_data"
    }
   ],
   "source": [
    "plt.clf()\n",
    "plt.scatter(res, test_sol)\n",
    "plt.xlabel('pred')\n",
    "plt.ylabel('exp')"
   ]
  },
  {
   "cell_type": "code",
   "execution_count": 20,
   "metadata": {},
   "outputs": [],
   "source": [
    "from sklearn.metrics import r2_score"
   ]
  },
  {
   "cell_type": "code",
   "execution_count": 21,
   "metadata": {},
   "outputs": [
    {
     "name": "stdout",
     "output_type": "stream",
     "text": [
      "0.9098691301661277\n"
     ]
    }
   ],
   "source": [
    "print(r2_score(test_sol, res))"
   ]
  },
  {
   "cell_type": "code",
   "execution_count": 22,
   "metadata": {},
   "outputs": [],
   "source": [
    "from sklearn.ensemble import RandomForestRegressor\n",
    "from rdkit import Chem\n",
    "from rdkit.Chem import AllChem\n",
    "from rdkit.Chem import DataStructs"
   ]
  },
  {
   "cell_type": "code",
   "execution_count": 23,
   "metadata": {},
   "outputs": [],
   "source": [
    "train_fp = [AllChem.GetMorganFingerprintAsBitVect(mol,2) for mol in train_mols]\n",
    "test_fp = [AllChem.GetMorganFingerprintAsBitVect(mol,2) for mol in test_mols]"
   ]
  },
  {
   "cell_type": "code",
   "execution_count": 24,
   "metadata": {},
   "outputs": [],
   "source": [
    "rfr = RandomForestRegressor()"
   ]
  },
  {
   "cell_type": "code",
   "execution_count": 25,
   "metadata": {},
   "outputs": [
    {
     "name": "stderr",
     "output_type": "stream",
     "text": [
      "/home/takayuki/anaconda3/envs/chemo37/lib/python3.7/site-packages/sklearn/ensemble/forest.py:245: FutureWarning: The default value of n_estimators will change from 10 in version 0.20 to 100 in 0.22.\n",
      "  \"10 in version 0.20 to 100 in 0.22.\", FutureWarning)\n",
      "/home/takayuki/anaconda3/envs/chemo37/lib/python3.7/site-packages/ipykernel_launcher.py:1: DataConversionWarning: A column-vector y was passed when a 1d array was expected. Please change the shape of y to (n_samples,), for example using ravel().\n",
      "  \"\"\"Entry point for launching an IPython kernel.\n"
     ]
    },
    {
     "data": {
      "text/plain": [
       "RandomForestRegressor(bootstrap=True, criterion='mse', max_depth=None,\n",
       "                      max_features='auto', max_leaf_nodes=None,\n",
       "                      min_impurity_decrease=0.0, min_impurity_split=None,\n",
       "                      min_samples_leaf=1, min_samples_split=2,\n",
       "                      min_weight_fraction_leaf=0.0, n_estimators=10,\n",
       "                      n_jobs=None, oob_score=False, random_state=None,\n",
       "                      verbose=0, warm_start=False)"
      ]
     },
     "execution_count": 25,
     "metadata": {},
     "output_type": "execute_result"
    }
   ],
   "source": [
    "rfr.fit(train_fp, train_sol)"
   ]
  },
  {
   "cell_type": "code",
   "execution_count": 26,
   "metadata": {},
   "outputs": [],
   "source": [
    "rfr_pred = rfr.predict(test_fp)"
   ]
  },
  {
   "cell_type": "code",
   "execution_count": 27,
   "metadata": {},
   "outputs": [
    {
     "data": {
      "text/plain": [
       "0.6846847631483519"
      ]
     },
     "execution_count": 27,
     "metadata": {},
     "output_type": "execute_result"
    }
   ],
   "source": [
    "r2_score(test_sol, rfr_pred)"
   ]
  },
  {
   "cell_type": "code",
   "execution_count": null,
   "metadata": {},
   "outputs": [],
   "source": []
  }
 ],
 "metadata": {
  "kernelspec": {
   "display_name": "Python 3",
   "language": "python",
   "name": "python3"
  },
  "language_info": {
   "codemirror_mode": {
    "name": "ipython",
    "version": 3
   },
   "file_extension": ".py",
   "mimetype": "text/x-python",
   "name": "python",
   "nbconvert_exporter": "python",
   "pygments_lexer": "ipython3",
   "version": "3.7.3"
  }
 },
 "nbformat": 4,
 "nbformat_minor": 2
}
