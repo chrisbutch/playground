{
 "cells": [
  {
   "cell_type": "markdown",
   "metadata": {},
   "source": [
    "https://docs.dgl.ai/tutorials/basics/4_batch.html"
   ]
  },
  {
   "cell_type": "code",
   "execution_count": 1,
   "metadata": {},
   "outputs": [],
   "source": [
    "%matplotlib inline\n",
    "import matplotlib.pyplot as plt\n",
    "import seaborn as sns\n",
    "from collections import namedtuple\n",
    "import dgl\n",
    "from dgl import DGLGraph\n",
    "import dgl.function as fn\n",
    "\n",
    "import torch\n",
    "import torch.nn as nn\n",
    "import torch.nn.functional as F\n",
    "from torch.utils.data import Dataset, TensorDataset\n",
    "from torch.utils.data import DataLoader\n",
    "import torch.optim as optim\n",
    "\n",
    "import networkx as nx\n",
    "import copy\n",
    "import os\n",
    "from rdkit import Chem\n",
    "from rdkit.Chem import RDConfig\n",
    "import numpy as np"
   ]
  },
  {
   "cell_type": "code",
   "execution_count": 2,
   "metadata": {},
   "outputs": [],
   "source": [
    "ELEM_LIST = ['C', 'N', 'O', 'S', 'F', 'Si', 'P', 'Cl', 'Br', 'Mg', 'Na', 'Ca', 'Fe', 'Al', 'I', 'B', 'K', 'Se', 'Zn', 'H', 'Cu', 'Mn', 'unknown']\n",
    "\n",
    "ATOM_FDIM = len(ELEM_LIST) + 6 + 5 + 1\n",
    "MAX_ATOMNUM =60\n",
    "BOND_FDIM = 5 \n",
    "MAX_NB = 10\n",
    "\n",
    "PAPER = os.getenv('PAPER', False)\n",
    "\n",
    "def onek_encoding_unk(x, allowable_set):\n",
    "    if x not in allowable_set:\n",
    "        x = allowable_set[-1]\n",
    "    return [x == s for s in allowable_set]\n",
    "\n",
    "# Note that during graph decoding they don't predict stereochemistry-related\n",
    "# characteristics (i.e. Chiral Atoms, E-Z, Cis-Trans).  Instead, they decode\n",
    "# the 2-D graph first, then enumerate all possible 3-D forms and find the\n",
    "# one with highest score.\n",
    "'''\n",
    "def atom_features(atom):\n",
    "    return (torch.Tensor(onek_encoding_unk(atom.GetSymbol(), ELEM_LIST)\n",
    "            + onek_encoding_unk(atom.GetDegree(), [0,1,2,3,4,5])\n",
    "            + onek_encoding_unk(atom.GetFormalCharge(), [-1,-2,1,2,0])\n",
    "            + [atom.GetIsAromatic()]))\n",
    "'''\n",
    "def atom_features(atom):\n",
    "    return (onek_encoding_unk(atom.GetSymbol(), ELEM_LIST)\n",
    "            + onek_encoding_unk(atom.GetDegree(), [0,1,2,3,4,5])\n",
    "            + onek_encoding_unk(atom.GetFormalCharge(), [-1,-2,1,2,0])\n",
    "            + [atom.GetIsAromatic()])\n",
    "\n",
    "def bond_features(bond):\n",
    "    bt = bond.GetBondType()\n",
    "    return (torch.Tensor([bt == Chem.rdchem.BondType.SINGLE, bt == Chem.rdchem.BondType.DOUBLE, bt == Chem.rdchem.BondType.TRIPLE, bt == Chem.rdchem.BondType.AROMATIC, bond.IsInRing()]))\n",
    "\n",
    "def mol2dgl_single(mols):\n",
    "    cand_graphs = []\n",
    "    n_nodes = 0\n",
    "    n_edges = 0\n",
    "    bond_x = []\n",
    "\n",
    "    for mol in mols:\n",
    "        n_atoms = mol.GetNumAtoms()\n",
    "        n_bonds = mol.GetNumBonds()\n",
    "        g = DGLGraph()        \n",
    "        nodeF = []\n",
    "        for i, atom in enumerate(mol.GetAtoms()):\n",
    "            assert i == atom.GetIdx()\n",
    "            nodeF.append(atom_features(atom))\n",
    "        g.add_nodes(n_atoms)\n",
    "\n",
    "        bond_src = []\n",
    "        bond_dst = []\n",
    "        for i, bond in enumerate(mol.GetBonds()):\n",
    "            a1 = bond.GetBeginAtom()\n",
    "            a2 = bond.GetEndAtom()\n",
    "            begin_idx = a1.GetIdx()\n",
    "            end_idx = a2.GetIdx()\n",
    "            features = bond_features(bond)\n",
    "\n",
    "            bond_src.append(begin_idx)\n",
    "            bond_dst.append(end_idx)\n",
    "            bond_x.append(features)\n",
    "            bond_src.append(end_idx)\n",
    "            bond_dst.append(begin_idx)\n",
    "            bond_x.append(features)\n",
    "        g.add_edges(bond_src, bond_dst)\n",
    "        g.ndata['h'] = torch.Tensor(nodeF)\n",
    "        cand_graphs.append(g)\n",
    "    return cand_graphs\n",
    "msg = fn.copy_src(src=\"h\", out=\"m\")\n"
   ]
  },
  {
   "cell_type": "code",
   "execution_count": 3,
   "metadata": {},
   "outputs": [],
   "source": [
    "solcls = {'(A) low':0, '(B) medium':1, '(C) high':2}\n",
    "train_mols = [m for m in Chem.SDMolSupplier(os.path.join(RDConfig.RDDocsDir,'Book/data/solubility.train.sdf'))]\n",
    "train_y = [solcls[m.GetProp('SOL_classification')] for m in train_mols]\n",
    "test_mols = [m for m in Chem.SDMolSupplier(os.path.join(RDConfig.RDDocsDir,'Book/data/solubility.test.sdf'))]\n",
    "test_y = [solcls[m.GetProp('SOL_classification')] for m in test_mols]"
   ]
  },
  {
   "cell_type": "code",
   "execution_count": 4,
   "metadata": {},
   "outputs": [],
   "source": [
    "train_graphs = mol2dgl_single(train_mols)\n",
    "test_graphs = mol2dgl_single(test_mols)"
   ]
  },
  {
   "cell_type": "code",
   "execution_count": 5,
   "metadata": {},
   "outputs": [],
   "source": [
    "def collate(sample):\n",
    "    graphs, labels = map(list,zip(*sample))\n",
    "    batched_graph = dgl.batch(graphs)\n",
    "    return batched_graph, torch.tensor(labels)"
   ]
  },
  {
   "cell_type": "code",
   "execution_count": 6,
   "metadata": {},
   "outputs": [],
   "source": [
    "def reduce(nodes):\n",
    "    # summazation by avarage is different part\n",
    "    accum = torch.mean(nodes.mailbox['m'], 1)\n",
    "    return {'h': accum}"
   ]
  },
  {
   "cell_type": "code",
   "execution_count": 7,
   "metadata": {},
   "outputs": [],
   "source": [
    "class NodeApplyModule(nn.Module):\n",
    "    def __init__(self, in_feats, out_feats, activation):\n",
    "        super(NodeApplyModule, self).__init__()\n",
    "        self.linear = nn.Linear(in_feats, out_feats)\n",
    "        self.activation = activation\n",
    "    \n",
    "    def forward(self, node):\n",
    "        h = self.linear(node.data['h'])\n",
    "        h = self.activation(h)\n",
    "        return {'h': h}\n",
    "    \n",
    "\n",
    "class GCN(nn.Module):\n",
    "    def __init__(self, in_feats, out_feats, activation):\n",
    "        super(GCN, self).__init__()\n",
    "        self.apply_mod = NodeApplyModule(in_feats, out_feats, activation)\n",
    "    \n",
    "    def forward(self, g, feature):\n",
    "        g.ndata['h'] = feature\n",
    "        g.update_all(msg, reduce)\n",
    "        g.apply_nodes(func=self.apply_mod)\n",
    "        h =  g.ndata.pop('h')\n",
    "        #print(h.shape)\n",
    "        return h\n",
    "    \n",
    "class Classifier(nn.Module):\n",
    "    def __init__(self, in_dim, hidden_dim, n_classes):\n",
    "        super(Classifier, self).__init__()\n",
    "        self.layers = nn.ModuleList([GCN(in_dim, hidden_dim, F.relu),\n",
    "                                    GCN(hidden_dim, hidden_dim, F.relu)])\n",
    "        self.classify = nn.Linear(hidden_dim, n_classes)\n",
    "    def forward(self, g):\n",
    "        h = g.ndata['h']\n",
    "        for conv in self.layers:\n",
    "            h = conv(g, h)\n",
    "        g.ndata['h'] = h\n",
    "        hg = dgl.mean_nodes(g, 'h')\n",
    "        return self.classify(hg)"
   ]
  },
  {
   "cell_type": "code",
   "execution_count": 8,
   "metadata": {},
   "outputs": [],
   "source": [
    "dataset = list(zip(train_graphs, train_y))\n",
    "data_loader = DataLoader(dataset, batch_size=32, shuffle=True, collate_fn=collate)"
   ]
  },
  {
   "cell_type": "code",
   "execution_count": 9,
   "metadata": {},
   "outputs": [],
   "source": [
    "model = Classifier(ATOM_FDIM, 256, len(solcls))"
   ]
  },
  {
   "cell_type": "code",
   "execution_count": 10,
   "metadata": {},
   "outputs": [
    {
     "data": {
      "text/plain": [
       "Classifier(\n",
       "  (layers): ModuleList(\n",
       "    (0): GCN(\n",
       "      (apply_mod): NodeApplyModule(\n",
       "        (linear): Linear(in_features=35, out_features=256, bias=True)\n",
       "      )\n",
       "    )\n",
       "    (1): GCN(\n",
       "      (apply_mod): NodeApplyModule(\n",
       "        (linear): Linear(in_features=256, out_features=256, bias=True)\n",
       "      )\n",
       "    )\n",
       "  )\n",
       "  (classify): Linear(in_features=256, out_features=3, bias=True)\n",
       ")"
      ]
     },
     "execution_count": 10,
     "metadata": {},
     "output_type": "execute_result"
    }
   ],
   "source": [
    "loss_func = nn.CrossEntropyLoss()\n",
    "optimizer = optim.Adam(model.parameters(), lr=0.001)\n",
    "model.train()"
   ]
  },
  {
   "cell_type": "code",
   "execution_count": 11,
   "metadata": {},
   "outputs": [
    {
     "name": "stdout",
     "output_type": "stream",
     "text": [
      "Epoch 20, loss 0.6104\n",
      "Epoch 40, loss 0.5616\n",
      "Epoch 60, loss 0.5348\n",
      "Epoch 80, loss 0.5095\n",
      "Epoch 100, loss 0.4915\n",
      "Epoch 120, loss 0.5163\n",
      "Epoch 140, loss 0.5348\n",
      "Epoch 160, loss 0.4385\n",
      "Epoch 180, loss 0.4421\n",
      "Epoch 200, loss 0.4318\n"
     ]
    }
   ],
   "source": [
    "epoch_losses = []\n",
    "for epoch in range(200):\n",
    "    epoch_loss = 0\n",
    "    for i, (bg, label) in enumerate(data_loader):\n",
    "        bg.set_e_initializer(dgl.init.zero_initializer)\n",
    "        bg.set_n_initializer(dgl.init.zero_initializer)        \n",
    "        pred = model(bg)\n",
    "        loss = loss_func(pred, label)\n",
    "        optimizer.zero_grad()\n",
    "        loss.backward()\n",
    "        optimizer.step()\n",
    "        epoch_loss += loss.detach().item()\n",
    "    epoch_loss /= (i + 1)\n",
    "    if (epoch+1) % 20 == 0:\n",
    "        print('Epoch {}, loss {:.4f}'.format(epoch+1, epoch_loss))\n",
    "    epoch_losses.append(epoch_loss)"
   ]
  },
  {
   "cell_type": "code",
   "execution_count": 12,
   "metadata": {},
   "outputs": [
    {
     "data": {
      "text/plain": [
       "[<matplotlib.lines.Line2D at 0x1a194ae940>]"
      ]
     },
     "execution_count": 12,
     "metadata": {},
     "output_type": "execute_result"
    },
    {
     "data": {
      "image/png": "[encoded data removed]",
      "text/plain": [
       "<Figure size 432x288 with 1 Axes>"
      ]
     },
     "metadata": {
      "needs_background": "light"
     },
     "output_type": "display_data"
    }
   ],
   "source": [
    "plt.plot(epoch_losses, c='b')"
   ]
  },
  {
   "cell_type": "code",
   "execution_count": 13,
   "metadata": {},
   "outputs": [],
   "source": [
    "model.eval()\n",
    "test_bg = dgl.batch(test_graphs)\n",
    "test_y_tensor = torch.tensor(test_y).float().view(-1,1)"
   ]
  },
  {
   "cell_type": "code",
   "execution_count": 14,
   "metadata": {},
   "outputs": [],
   "source": [
    "test_bg.set_e_initializer(dgl.init.zero_initializer)\n",
    "test_bg.set_n_initializer(dgl.init.zero_initializer)"
   ]
  },
  {
   "cell_type": "code",
   "execution_count": 15,
   "metadata": {},
   "outputs": [],
   "source": [
    "logit = model(test_bg)"
   ]
  },
  {
   "cell_type": "code",
   "execution_count": 16,
   "metadata": {},
   "outputs": [],
   "source": [
    "probs = torch.softmax(logit, 1).detach().numpy()"
   ]
  },
  {
   "cell_type": "code",
   "execution_count": 17,
   "metadata": {},
   "outputs": [],
   "source": [
    "pred_y = np.argmax(probs,1)"
   ]
  },
  {
   "cell_type": "code",
   "execution_count": 18,
   "metadata": {},
   "outputs": [],
   "source": [
    "from sklearn.metrics import accuracy_score\n",
    "from sklearn.metrics import classification_report\n",
    "from sklearn.metrics import confusion_matrix"
   ]
  },
  {
   "cell_type": "code",
   "execution_count": 19,
   "metadata": {},
   "outputs": [
    {
     "data": {
      "text/plain": [
       "0.7587548638132295"
      ]
     },
     "execution_count": 19,
     "metadata": {},
     "output_type": "execute_result"
    }
   ],
   "source": [
    "accuracy_score(test_y, pred_y)"
   ]
  },
  {
   "cell_type": "code",
   "execution_count": 20,
   "metadata": {},
   "outputs": [
    {
     "name": "stdout",
     "output_type": "stream",
     "text": [
      "              precision    recall  f1-score   support\n",
      "\n",
      "           0       0.70      0.86      0.78       102\n",
      "           1       0.79      0.64      0.71       115\n",
      "           2       0.87      0.82      0.85        40\n",
      "\n",
      "   micro avg       0.76      0.76      0.76       257\n",
      "   macro avg       0.79      0.78      0.78       257\n",
      "weighted avg       0.77      0.76      0.76       257\n",
      "\n"
     ]
    }
   ],
   "source": [
    "print(classification_report(test_y, pred_y))"
   ]
  },
  {
   "cell_type": "code",
   "execution_count": 21,
   "metadata": {},
   "outputs": [
    {
     "name": "stdout",
     "output_type": "stream",
     "text": [
      "[[88 14  0]\n",
      " [36 74  5]\n",
      " [ 1  6 33]]\n"
     ]
    }
   ],
   "source": [
    "print(confusion_matrix(test_y, pred_y))"
   ]
  },
  {
   "cell_type": "code",
   "execution_count": 22,
   "metadata": {},
   "outputs": [],
   "source": [
    "from rdkit.Chem import AllChem\n",
    "from rdkit.Chem.Descriptors import rdMolDescriptors\n",
    "from sklearn.preprocessing import normalize"
   ]
  },
  {
   "cell_type": "code",
   "execution_count": 23,
   "metadata": {},
   "outputs": [],
   "source": [
    "# generate 3D conf\n",
    "train_mols2 = copy.deepcopy(train_mols)\n",
    "test_mols2 = copy.deepcopy(test_mols)\n",
    "\n",
    "ps = AllChem.ETKDGv2()\n",
    "for m in train_mols2:\n",
    "    m = Chem.AddHs(m)\n",
    "    AllChem.EmbedMolecule(m,ps)\n",
    "for m in test_mols2:\n",
    "    m = Chem.AddHs(m)\n",
    "    AllChem.EmbedMolecule(m,ps)"
   ]
  },
  {
   "cell_type": "code",
   "execution_count": 24,
   "metadata": {},
   "outputs": [],
   "source": [
    "def calc_dragon_type_desc(mol):\n",
    "    return rdMolDescriptors.CalcAUTOCORR3D(mol) + rdMolDescriptors.CalcMORSE(mol) + \\\n",
    "        rdMolDescriptors.CalcRDF(mol) + rdMolDescriptors.CalcWHIM(mol)\n",
    "train_X = normalize([calc_dragon_type_desc(m) for m in train_mols2])\n",
    "test_X = normalize([calc_dragon_type_desc(m) for m in test_mols2])"
   ]
  },
  {
   "cell_type": "code",
   "execution_count": 25,
   "metadata": {},
   "outputs": [],
   "source": [
    "from sklearn.ensemble import RandomForestClassifier"
   ]
  },
  {
   "cell_type": "code",
   "execution_count": 26,
   "metadata": {},
   "outputs": [],
   "source": [
    "rfc = RandomForestClassifier(n_estimators=100)"
   ]
  },
  {
   "cell_type": "code",
   "execution_count": 27,
   "metadata": {},
   "outputs": [
    {
     "data": {
      "text/plain": [
       "RandomForestClassifier(bootstrap=True, class_weight=None, criterion='gini',\n",
       "            max_depth=None, max_features='auto', max_leaf_nodes=None,\n",
       "            min_impurity_decrease=0.0, min_impurity_split=None,\n",
       "            min_samples_leaf=1, min_samples_split=2,\n",
       "            min_weight_fraction_leaf=0.0, n_estimators=100, n_jobs=None,\n",
       "            oob_score=False, random_state=None, verbose=0,\n",
       "            warm_start=False)"
      ]
     },
     "execution_count": 27,
     "metadata": {},
     "output_type": "execute_result"
    }
   ],
   "source": [
    "rfc.fit(train_X, train_y)"
   ]
  },
  {
   "cell_type": "code",
   "execution_count": 28,
   "metadata": {},
   "outputs": [],
   "source": [
    "rf_pred_y = rfc.predict(test_X)"
   ]
  },
  {
   "cell_type": "code",
   "execution_count": 29,
   "metadata": {},
   "outputs": [
    {
     "data": {
      "text/plain": [
       "0.7587548638132295"
      ]
     },
     "execution_count": 29,
     "metadata": {},
     "output_type": "execute_result"
    }
   ],
   "source": [
    "accuracy_score(test_y, rf_pred_y)"
   ]
  },
  {
   "cell_type": "code",
   "execution_count": 30,
   "metadata": {},
   "outputs": [
    {
     "name": "stdout",
     "output_type": "stream",
     "text": [
      "              precision    recall  f1-score   support\n",
      "\n",
      "           0       0.77      0.87      0.82       102\n",
      "           1       0.79      0.66      0.72       115\n",
      "           2       0.67      0.75      0.71        40\n",
      "\n",
      "   micro avg       0.76      0.76      0.76       257\n",
      "   macro avg       0.74      0.76      0.75       257\n",
      "weighted avg       0.76      0.76      0.76       257\n",
      "\n"
     ]
    }
   ],
   "source": [
    "print(classification_report(test_y, rf_pred_y))"
   ]
  },
  {
   "cell_type": "code",
   "execution_count": 31,
   "metadata": {},
   "outputs": [
    {
     "name": "stdout",
     "output_type": "stream",
     "text": [
      "[[89 11  2]\n",
      " [26 76 13]\n",
      " [ 1  9 30]]\n"
     ]
    }
   ],
   "source": [
    "print(confusion_matrix(test_y, rf_pred_y))"
   ]
  },
  {
   "cell_type": "code",
   "execution_count": null,
   "metadata": {},
   "outputs": [],
   "source": []
  }
 ],
 "metadata": {
  "kernelspec": {
   "display_name": "Python 3",
   "language": "python",
   "name": "python3"
  },
  "language_info": {
   "codemirror_mode": {
    "name": "ipython",
    "version": 3
   },
   "file_extension": ".py",
   "mimetype": "text/x-python",
   "name": "python",
   "nbconvert_exporter": "python",
   "pygments_lexer": "ipython3",
   "version": "3.6.6"
  }
 },
 "nbformat": 4,
 "nbformat_minor": 2
}
