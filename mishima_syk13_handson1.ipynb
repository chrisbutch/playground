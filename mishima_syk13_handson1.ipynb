{
  "nbformat": 4,
  "nbformat_minor": 0,
  "metadata": {
    "colab": {
      "name": "mishima.syk13_hanson1.ipynb",
      "version": "0.3.2",
      "provenance": [],
      "include_colab_link": true
    },
    "kernelspec": {
      "name": "python3",
      "display_name": "Python 3"
    },
    "accelerator": "GPU"
  },
  "cells": [
    {
      "cell_type": "markdown",
      "metadata": {
        "id": "view-in-github",
        "colab_type": "text"
      },
      "source": [
        "<a href=\"https://colab.research.google.com/github/iwatobipen/playground/blob/master/mishima_syk13_hanson1.ipynb\" target=\"_parent\"><img src=\"https://colab.research.google.com/assets/colab-badge.svg\" alt=\"Open In Colab\"/></a>"
      ]
    },
    {
      "metadata": {
        "id": "Lp4mIUR58Zpf",
        "colab_type": "text"
      },
      "cell_type": "markdown",
      "source": [
        "##GPUを使いたい場合\n",
        "- ランタイム＝＞ランタイムのタイプを変更でGPUにしてください。\n",
        "\n",
        "## 最初に環境を作ります。\n",
        "- ColabのPythonのバージョンが3.6.7だったのでMinicondaも3.6を入れます。\n",
        "- 次いでconda commandでrdkit  をインストールします。\n",
        "　＝＞そこそこ時間かかります。\n",
        "- pytorchなどGeneratorに必要なパッケージ群を入れます\n",
        "- システムPathにCondaのPathを入れることでRDKITを呼び出せるようにします。\n",
        "- 手元の環境で全部終わるのに１０分以上かかる感じなのでこれを使う場合は早めに実行しておきましょう。"
      ]
    },
    {
      "metadata": {
        "id": "iuxmNBQQ5c_F",
        "colab_type": "code",
        "colab": {
          "base_uri": "https://localhost:8080/",
          "height": 3842
        },
        "outputId": "53dde51f-6536-4068-e340-b219da21d499"
      },
      "cell_type": "code",
      "source": [
        "# install conda\n",
        "!wget https://repo.continuum.io/miniconda/Miniconda3-4.4.10-Linux-x86_64.sh\n",
        "!chmod ./Miniconda3-4.4.10-Linux-x86_64.sh\n",
        "!time bash ./Miniconda3-4.4.10-Linux-x86_64.sh -b -f -p /usr/local\n",
        "# install rdkit via conda command\n",
        "!time conda install -c conda-forge rdkit -y\n",
        "# install pytorch via conda command\n",
        "!time conda install -c pytorch pytorch==0.3.0 -y\n",
        "# install sklearn via conda command\n",
        "!time conda install -c conda-forge scikit-learn -y\n",
        "!time conda install -c conda-forge pexpect  -y"
      ],
      "execution_count": 1,
      "outputs": [
        {
          "output_type": "stream",
          "text": [
            "--2019-01-03 04:58:55--  https://repo.continuum.io/miniconda/Miniconda3-4.4.10-Linux-x86_64.sh\n",
            "Resolving repo.continuum.io (repo.continuum.io)... 104.16.19.10, 104.16.18.10, 2606:4700::6810:130a, ...\n",
            "Connecting to repo.continuum.io (repo.continuum.io)|104.16.19.10|:443... connected.\n",
            "HTTP request sent, awaiting response... 200 OK\n",
            "Length: 58304693 (56M) [application/x-sh]\n",
            "Saving to: ‘Miniconda3-4.4.10-Linux-x86_64.sh.1’\n",
            "\n",
            "Miniconda3-4.4.10-L 100%[===================>]  55.60M   107MB/s    in 0.5s    \n",
            "\n",
            "2019-01-03 04:58:55 (107 MB/s) - ‘Miniconda3-4.4.10-Linux-x86_64.sh.1’ saved [58304693/58304693]\n",
            "\n",
            "chmod: missing operand after ‘./Miniconda3-4.4.10-Linux-x86_64.sh’\n",
            "Try 'chmod --help' for more information.\n",
            "PREFIX=/usr/local\n",
            "installing: python-3.6.4-hc3d631a_1 ...\n",
            "Python 3.6.4 :: Anaconda, Inc.\n",
            "installing: ca-certificates-2017.08.26-h1d4fec5_0 ...\n",
            "installing: conda-env-2.6.0-h36134e3_1 ...\n",
            "installing: libgcc-ng-7.2.0-h7cc24e2_2 ...\n",
            "installing: libstdcxx-ng-7.2.0-h7a57d05_2 ...\n",
            "installing: libffi-3.2.1-hd88cf55_4 ...\n",
            "installing: ncurses-6.0-h9df7e31_2 ...\n",
            "installing: openssl-1.0.2n-hb7f436b_0 ...\n",
            "installing: tk-8.6.7-hc745277_3 ...\n",
            "installing: xz-5.2.3-h55aa19d_2 ...\n",
            "installing: yaml-0.1.7-had09818_2 ...\n",
            "installing: zlib-1.2.11-ha838bed_2 ...\n",
            "installing: libedit-3.1-heed3624_0 ...\n",
            "installing: readline-7.0-ha6073c6_4 ...\n",
            "installing: sqlite-3.22.0-h1bed415_0 ...\n",
            "installing: asn1crypto-0.24.0-py36_0 ...\n",
            "installing: certifi-2018.1.18-py36_0 ...\n",
            "installing: chardet-3.0.4-py36h0f667ec_1 ...\n",
            "installing: idna-2.6-py36h82fb2a8_1 ...\n",
            "installing: pycosat-0.6.3-py36h0a5515d_0 ...\n",
            "installing: pycparser-2.18-py36hf9f622e_1 ...\n",
            "installing: pysocks-1.6.7-py36hd97a5b1_1 ...\n",
            "installing: ruamel_yaml-0.15.35-py36h14c3975_1 ...\n",
            "installing: six-1.11.0-py36h372c433_1 ...\n",
            "installing: cffi-1.11.4-py36h9745a5d_0 ...\n",
            "installing: setuptools-38.4.0-py36_0 ...\n",
            "installing: cryptography-2.1.4-py36hd09be54_0 ...\n",
            "installing: wheel-0.30.0-py36hfd4bba0_1 ...\n",
            "installing: pip-9.0.1-py36h6c6f9ce_4 ...\n",
            "installing: pyopenssl-17.5.0-py36h20ba746_0 ...\n",
            "installing: urllib3-1.22-py36hbe7ace6_0 ...\n",
            "installing: requests-2.18.4-py36he2e5f8d_1 ...\n",
            "installing: conda-4.4.10-py36_0 ...\n",
            "unlinking: ca-certificates-2018.11.29-ha4d7672_0\n",
            "unlinking: certifi-2018.11.29-py36_1000\n",
            "unlinking: openssl-1.0.2p-h470a237_1\n",
            "unlinking: xz-5.2.4-h470a237_1\n",
            "installation finished.\n",
            "WARNING:\n",
            "    You currently have a PYTHONPATH environment variable set. This may cause\n",
            "    unexpected behavior when running the Python interpreter in Miniconda3.\n",
            "    For best results, please verify that your PYTHONPATH only points to\n",
            "    directories of packages that are compatible with the Python interpreter\n",
            "    in Miniconda3: /usr/local\n",
            "\n",
            "real\t0m18.420s\n",
            "user\t0m16.183s\n",
            "sys\t0m3.988s\n",
            "Solving environment: - \b\b\\ \b\b| \b\b/ \b\b- \b\b\\ \b\b| \b\b/ \b\b- \b\b\\ \b\b| \b\b/ \b\b- \b\b\\ \b\b| \b\b/ \b\b- \b\b\\ \b\b| \b\b/ \b\b- \b\b\\ \b\b| \b\b/ \b\b- \b\b\\ \b\b| \b\b/ \b\b- \b\b\\ \b\b| \b\b/ \b\b- \b\b\\ \b\b| \b\b/ \b\b- \b\b\\ \b\b| \b\b/ \b\b- \b\b\\ \b\b| \b\b/ \b\b- \b\b\\ \b\b| \b\b/ \b\b- \b\b\\ \b\b| \b\b/ \b\b- \b\b\\ \b\b| \b\b/ \b\b- \b\b\\ \b\b| \b\b/ \b\b- \b\b\\ \b\b| \b\b/ \b\b- \b\b\\ \b\b| \b\b/ \b\b- \b\b\\ \b\b| \b\b/ \b\b- \b\b\\ \b\b| \b\b/ \b\b- \b\b\\ \b\b| \b\b/ \b\b- \b\b\\ \b\b| \b\b/ \b\b- \b\b\\ \b\b| \b\b/ \b\b- \b\b\\ \b\b| \b\b/ \b\b- \b\b\\ \b\b| \b\b/ \b\b- \b\b\\ \b\b| \b\b/ \b\b- \b\b\\ \b\b| \b\b/ \b\b- \b\b\\ \b\b| \b\b/ \b\b- \b\b\\ \b\b| \b\b/ \b\b- \b\b\\ \b\b| \b\b/ \b\b- \b\b\\ \b\b| \b\b/ \b\b- \b\b\\ \b\b| \b\b/ \b\b- \b\b\\ \b\b| \b\b/ \b\b- \b\b\\ \b\b| \b\b/ \b\b- \b\b\\ \b\b| \b\b/ \b\b- \b\b\\ \b\b| \b\b/ \b\b- \b\b\\ \b\b| \b\b/ \b\b- \b\b\\ \b\b| \b\b/ \b\b- \b\b\\ \b\b| \b\b/ \b\b- \b\b\\ \b\b| \b\b/ \b\b- \b\b\\ \b\b| \b\b/ \b\b- \b\b\\ \b\b| \b\b/ \b\b- \b\b\\ \b\b| \b\b/ \b\b- \b\b\\ \b\b| \b\b/ \b\b- \b\b\\ \b\b| \b\b/ \b\b- \b\b\\ \b\b| \b\b/ \b\b- \b\b\\ \b\b| \b\b/ \b\b- \b\b\\ \b\b| \b\b/ \b\b- \b\b\\ \b\b| \b\b/ \b\b- \b\b\\ \b\b| \b\b/ \b\b- \b\b\\ \b\b| \b\b/ \b\b- \b\b\\ \b\b| \b\b/ \b\b- \b\b\\ \b\b| \b\b/ \b\b- \b\b\\ \b\b| \b\b/ \b\b- \b\b\\ \b\b| \b\b/ \b\b- \b\b\\ \b\b| \b\b/ \b\b- \b\b\\ \b\b| \b\b/ \b\b- \b\b\\ \b\b| \b\b/ \b\b- \b\b\\ \b\b| \b\b/ \b\b- \b\b\\ \b\b| \b\b/ \b\b- \b\b\\ \b\b| \b\b/ \b\b- \b\b\\ \b\b| \b\b/ \b\b- \b\b\\ \b\b| \b\b/ \b\b- \b\b\\ \b\b| \b\b/ \b\b- \b\b\\ \b\b| \b\b/ \b\b- \b\b\\ \b\b| \b\b/ \b\b- \b\b\\ \b\b| \b\b/ \b\b- \b\b\\ \b\b| \b\b/ \b\b- \b\bdone\n",
            "\n",
            "\n",
            "==> WARNING: A newer version of conda exists. <==\n",
            "  current version: 4.4.10\n",
            "  latest version: 4.5.12\n",
            "\n",
            "Please update conda by running\n",
            "\n",
            "    $ conda update -n base conda\n",
            "\n",
            "\n",
            "\n",
            "## Package Plan ##\n",
            "\n",
            "  environment location: /usr/local\n",
            "\n",
            "  added / updated specs: \n",
            "    - rdkit\n",
            "\n",
            "\n",
            "The following packages will be UPDATED:\n",
            "\n",
            "    ca-certificates: 2017.08.26-h1d4fec5_0 --> 2018.11.29-ha4d7672_0 conda-forge\n",
            "    certifi:         2018.1.18-py36_0      --> 2018.11.29-py36_1000  conda-forge\n",
            "    openssl:         1.0.2n-hb7f436b_0     --> 1.0.2p-h470a237_1     conda-forge\n",
            "    xz:              5.2.3-h55aa19d_2      --> 5.2.4-h470a237_1      conda-forge\n",
            "\n",
            "Preparing transaction: | \b\bdone\n",
            "Verifying transaction: - \b\b\\ \b\bdone\n",
            "Executing transaction: / \b\b- \b\bdone\n",
            "\n",
            "real\t0m34.177s\n",
            "user\t0m32.817s\n",
            "sys\t0m0.926s\n",
            "Solving environment: - \b\b\\ \b\b| \b\b/ \b\b- \b\b\\ \b\b| \b\b/ \b\b- \b\b\\ \b\b| \b\b/ \b\b- \b\b\\ \b\b| \b\b/ \b\b- \b\b\\ \b\b| \b\b/ \b\b- \b\b\\ \b\b| \b\b/ \b\b- \b\b\\ \b\b| \b\b/ \b\b- \b\b\\ \b\b| \b\b/ \b\b- \b\b\\ \b\b| \b\b/ \b\b- \b\b\\ \b\b| \b\b/ \b\b- \b\b\\ \b\b| \b\b/ \b\b- \b\b\\ \b\b| \b\b/ \b\b- \b\b\\ \b\b| \b\b/ \b\b- \b\b\\ \b\b| \b\b/ \b\b- \b\b\\ \b\b| \b\b/ \b\b- \b\b\\ \b\b| \b\b/ \b\b- \b\b\\ \b\b| \b\b/ \b\b- \b\b\\ \b\b| \b\b/ \b\b- \b\b\\ \b\b| \b\b/ \b\b- \b\b\\ \b\b| \b\b/ \b\b- \b\b\\ \b\b| \b\b/ \b\b- \b\b\\ \b\b| \b\b/ \b\b- \b\b\\ \b\b| \b\b/ \b\b- \b\b\\ \b\b| \b\b/ \b\b- \b\b\\ \b\b| \b\b/ \b\b- \b\b\\ \b\b| \b\b/ \b\b- \b\bdone\n",
            "\n",
            "\n",
            "==> WARNING: A newer version of conda exists. <==\n",
            "  current version: 4.4.10\n",
            "  latest version: 4.5.12\n",
            "\n",
            "Please update conda by running\n",
            "\n",
            "    $ conda update -n base conda\n",
            "\n",
            "\n",
            "\n",
            "## Package Plan ##\n",
            "\n",
            "  environment location: /usr/local\n",
            "\n",
            "  added / updated specs: \n",
            "    - pytorch==0.4.0\n",
            "\n",
            "\n",
            "The following packages will be downloaded:\n",
            "\n",
            "    package                    |            build\n",
            "    ---------------------------|-----------------\n",
            "    cudatoolkit-8.0            |                3       322.4 MB\n",
            "    pytorch-0.4.0              |py36_cuda8.0.61_cudnn7.1.2_1       390.8 MB  pytorch\n",
            "    ------------------------------------------------------------\n",
            "                                           Total:       713.2 MB\n",
            "\n",
            "The following NEW packages will be INSTALLED:\n",
            "\n",
            "    cudatoolkit: 8.0-3                                        \n",
            "\n",
            "The following packages will be DOWNGRADED:\n",
            "\n",
            "    pytorch:     0.4.1-py36_py35_py27__9.0.176_7.1.2_2 pytorch --> 0.4.0-py36_cuda8.0.61_cudnn7.1.2_1 pytorch\n",
            "\n",
            "\n",
            "Downloading and Extracting Packages\n",
            "cudatoolkit 8.0: 100% 1.0/1 [02:13<00:00, 704.22s/it]               \n",
            "pytorch 0.4.0: 100% 1.0/1 [03:07<00:00, 187.04s/it]               \n",
            "Preparing transaction: | \b\bdone\n",
            "Verifying transaction: - \b\b\\ \b\b| \b\b/ \b\b- \b\b\\ \b\b| \b\b/ \b\b- \b\b\\ \b\b| \b\b/ \b\b- \b\b\\ \b\b| \b\b/ \b\b- \b\b\\ \b\b| \b\b/ \b\b- \b\b\\ \b\b| \b\b/ \b\b- \b\b\\ \b\b| \b\b/ \b\b- \b\b\\ \b\b| \b\b/ \b\b- \b\b\\ \b\b| \b\b/ \b\b- \b\b\\ \b\b| \b\b/ \b\b- \b\b\\ \b\b| \b\b/ \b\b- \b\b\\ \b\b| \b\b/ \b\b- \b\b\\ \b\b| \b\b/ \b\b- \b\b\\ \b\b| \b\b/ \b\bdone\n",
            "Executing transaction: \\ \b\b| \b\b/ \b\bdone\n",
            "\n",
            "real\t5m39.892s\n",
            "user\t5m30.129s\n",
            "sys\t0m6.056s\n",
            "Solving environment: - \b\b\\ \b\b| \b\b/ \b\b- \b\b\\ \b\b| \b\b/ \b\b- \b\b\\ \b\b| \b\b/ \b\b- \b\b\\ \b\b| \b\b/ \b\b- \b\b\\ \b\b| \b\b/ \b\b- \b\b\\ \b\b| \b\b/ \b\b- \b\b\\ \b\b| \b\b/ \b\b- \b\b\\ \b\b| \b\b/ \b\b- \b\b\\ \b\b| \b\b/ \b\b- \b\b\\ \b\b| \b\b/ \b\b- \b\b\\ \b\b| \b\b/ \b\b- \b\b\\ \b\b| \b\b/ \b\b- \b\b\\ \b\b| \b\b/ \b\b- \b\b\\ \b\b| \b\b/ \b\b- \b\b\\ \b\b| \b\b/ \b\b- \b\b\\ \b\b| \b\b/ \b\b- \b\b\\ \b\b| \b\b/ \b\b- \b\b\\ \b\b| \b\b/ \b\b- \b\b\\ \b\b| \b\b/ \b\b- \b\b\\ \b\b| \b\b/ \b\b- \b\b\\ \b\b| \b\b/ \b\b- \b\b\\ \b\b| \b\b/ \b\b- \b\b\\ \b\b| \b\b/ \b\b- \b\b\\ \b\b| \b\b/ \b\b- \b\b\\ \b\b| \b\b/ \b\b- \b\b\\ \b\b| \b\b/ \b\b- \b\b\\ \b\b| \b\b/ \b\b- \b\b\\ \b\b| \b\b/ \b\b- \b\b\\ \b\b| \b\b/ \b\b- \b\b\\ \b\b| \b\b/ \b\b- \b\b\\ \b\b| \b\b/ \b\b- \b\b\\ \b\b| \b\b/ \b\b- \b\b\\ \b\b| \b\b/ \b\b- \b\b\\ \b\b| \b\b/ \b\b- \b\b\\ \b\b| \b\b/ \b\b- \b\b\\ \b\b| \b\b/ \b\b- \b\b\\ \b\b| \b\b/ \b\b- \b\b\\ \b\b| \b\b/ \b\b- \b\b\\ \b\b| \b\b/ \b\b- \b\b\\ \b\b| \b\b/ \b\b- \b\b\\ \b\b| \b\b/ \b\b- \b\b\\ \b\b| \b\b/ \b\b- \b\b\\ \b\b| \b\b/ \b\b- \b\b\\ \b\b| \b\b/ \b\b- \b\b\\ \b\b| \b\b/ \b\b- \b\b\\ \b\b| \b\b/ \b\b- \b\b\\ \b\b| \b\b/ \b\b- \b\b\\ \b\b| \b\b/ \b\b- \b\b\\ \b\b| \b\b/ \b\b- \b\b\\ \b\b| \b\b/ \b\b- \b\b\\ \b\b| \b\b/ \b\b- \b\b\\ \b\b| \b\b/ \b\b- \b\b\\ \b\b| \b\b/ \b\b- \b\b\\ \b\b| \b\b/ \b\b- \b\b\\ \b\b| \b\b/ \b\b- \b\b\\ \b\b| \b\b/ \b\b- \b\b\\ \b\b| \b\b/ \b\b- \b\b\\ \b\b| \b\b/ \b\b- \b\b\\ \b\b| \b\b/ \b\b- \b\b\\ \b\b| \b\b/ \b\b- \b\b\\ \b\b| \b\b/ \b\b- \b\b\\ \b\b| \b\b/ \b\b- \b\b\\ \b\b| \b\b/ \b\b- \b\b\\ \b\b| \b\b/ \b\b- \b\b\\ \b\b| \b\b/ \b\b- \b\b\\ \b\b| \b\b/ \b\b- \b\b\\ \b\b| \b\b/ \b\b- \b\b\\ \b\b| \b\b/ \b\b- \b\b\\ \b\b| \b\b/ \b\b- \b\b\\ \b\b| \b\b/ \b\b- \b\b\\ \b\b| \b\b/ \b\b- \b\b\\ \b\b| \b\b/ \b\b- \b\b\\ \b\b| \b\b/ \b\b- \b\b\\ \b\b| \b\b/ \b\b- \b\b\\ \b\b| \b\b/ \b\b- \b\b\\ \b\b| \b\b/ \b\b- \b\b\\ \b\b| \b\b/ \b\b- \b\b\\ \b\b| \b\b/ \b\b- \b\b\\ \b\b| \b\b/ \b\b- \b\b\\ \b\b| \b\b/ \b\b- \b\b\\ \b\b| \b\b/ \b\b- \b\b\\ \b\b| \b\b/ \b\b- \b\b\\ \b\b| \b\b/ \b\b- \b\b\\ \b\b| \b\b/ \b\b- \b\b\\ \b\bdone\n",
            "\n",
            "\n",
            "==> WARNING: A newer version of conda exists. <==\n",
            "  current version: 4.4.10\n",
            "  latest version: 4.5.12\n",
            "\n",
            "Please update conda by running\n",
            "\n",
            "    $ conda update -n base conda\n",
            "\n",
            "\n",
            "\n",
            "## Package Plan ##\n",
            "\n",
            "  environment location: /usr/local\n",
            "\n",
            "  added / updated specs: \n",
            "    - scikit-learn\n",
            "\n",
            "\n",
            "The following packages will be UPDATED:\n",
            "\n",
            "    blas:         1.0-mkl               --> 1.1-openblas                          conda-forge\n",
            "    numpy:        1.15.0-py36h1b885b7_0 --> 1.15.4-py36_blas_openblashb06ca3d_0   conda-forge [blas_openblas]\n",
            "    scikit-learn: 0.19.1-py36hedc7406_0 --> 0.20.2-py36_blas_openblash00c3548_400 conda-forge [blas_openblas]\n",
            "    scipy:        1.1.0-py36hc49cb51_0  --> 1.2.0-py36_blas_openblashb06ca3d_200  conda-forge [blas_openblas]\n",
            "\n",
            "The following packages will be DOWNGRADED:\n",
            "\n",
            "    numpy-base:   1.15.0-py36h3dfced4_0 --> 1.14.3-py36h0ea5e3f_1                            \n",
            "\n",
            "Preparing transaction: / \b\b- \b\b\\ \b\bdone\n",
            "Verifying transaction: / \b\b- \b\b\\ \b\b| \b\b/ \b\b- \b\b\\ \b\b| \b\b/ \b\b- \b\b\\ \b\b| \b\b/ \b\b- \b\b\\ \b\b| \b\b/ \b\b- \b\b\\ \b\b| \b\b/ \b\b- \b\b\\ \b\b| \b\b/ \b\b- \b\b\\ \b\b| \b\b/ \b\b- \b\b\\ \b\b| \b\b/ \b\b- \b\b\\ \b\b| \b\b/ \b\b- \b\bdone\n",
            "Executing transaction: | \b\b/ \b\b- \b\b\\ \b\b| \b\b/ \b\b- \b\b\\ \b\b| \b\b/ \b\bdone\n",
            "\n",
            "real\t0m47.676s\n",
            "user\t0m43.709s\n",
            "sys\t0m2.260s\n",
            "Solving environment: - \b\b\\ \b\b| \b\b/ \b\b- \b\b\\ \b\b| \b\b/ \b\b- \b\b\\ \b\b| \b\b/ \b\b- \b\b\\ \b\b| \b\b/ \b\b- \b\b\\ \b\b| \b\b/ \b\b- \b\b\\ \b\b| \b\b/ \b\b- \b\b\\ \b\b| \b\b/ \b\b- \b\b\\ \b\b| \b\b/ \b\b- \b\b\\ \b\b| \b\b/ \b\b- \b\b\\ \b\b| \b\b/ \b\b- \b\b\\ \b\b| \b\b/ \b\b- \b\b\\ \b\b| \b\b/ \b\b- \b\b\\ \b\b| \b\b/ \b\b- \b\b\\ \b\b| \b\b/ \b\b- \b\b\\ \b\b| \b\b/ \b\b- \b\b\\ \b\b| \b\b/ \b\b- \b\b\\ \b\b| \b\b/ \b\b- \b\b\\ \b\b| \b\b/ \b\b- \b\b\\ \b\b| \b\b/ \b\b- \b\b\\ \b\b| \b\b/ \b\b- \b\b\\ \b\b| \b\b/ \b\b- \b\b\\ \b\b| \b\b/ \b\b- \b\b\\ \b\b| \b\b/ \b\b- \b\b\\ \b\b| \b\b/ \b\b- \b\b\\ \b\b| \b\b/ \b\b- \b\b\\ \b\b| \b\b/ \b\b- \b\b\\ \b\b| \b\b/ \b\b- \b\b\\ \b\b| \b\b/ \b\b- \b\b\\ \b\b| \b\b/ \b\b- \b\b\\ \b\b| \b\b/ \b\b- \b\b\\ \b\b| \b\b/ \b\b- \b\b\\ \b\b| \b\b/ \b\b- \b\b\\ \b\b| \b\b/ \b\b- \b\b\\ \b\b| \b\b/ \b\b- \b\b\\ \b\b| \b\b/ \b\b- \b\b\\ \b\b| \b\b/ \b\b- \b\b\\ \b\b| \b\b/ \b\b- \b\b\\ \b\b| \b\b/ \b\b- \b\b\\ \b\b| \b\b/ \b\b- \b\b\\ \b\b| \b\b/ \b\b- \b\b\\ \b\b| \b\b/ \b\b- \b\b\\ \b\b| \b\b/ \b\b- \b\b\\ \b\b| \b\b/ \b\b- \b\b\\ \b\b| \b\b/ \b\b- \b\b\\ \b\b| \b\b/ \b\b- \b\b\\ \b\b| \b\b/ \b\b- \b\b\\ \b\b| \b\b/ \b\b- \b\b\\ \b\b| \b\b/ \b\b- \b\b\\ \b\b| \b\b/ \b\b- \b\b\\ \b\b| \b\b/ \b\b- \b\b\\ \b\b| \b\b/ \b\b- \b\b\\ \b\b| \b\b/ \b\b- \b\b\\ \b\b| \b\b/ \b\b- \b\b\\ \b\b| \b\b/ \b\b- \b\b\\ \b\b| \b\b/ \b\b- \b\b\\ \b\b| \b\b/ \b\b- \b\b\\ \b\b| \b\b/ \b\b- \b\b\\ \b\b| \b\b/ \b\b- \b\b\\ \b\b| \b\b/ \b\b- \b\b\\ \b\b| \b\b/ \b\b- \b\b\\ \b\b| \b\bdone\n",
            "\n",
            "\n",
            "==> WARNING: A newer version of conda exists. <==\n",
            "  current version: 4.4.10\n",
            "  latest version: 4.5.12\n",
            "\n",
            "Please update conda by running\n",
            "\n",
            "    $ conda update -n base conda\n",
            "\n",
            "\n",
            "\n",
            "## Package Plan ##\n",
            "\n",
            "  environment location: /usr/local\n",
            "\n",
            "  added / updated specs: \n",
            "    - pexpect\n",
            "\n",
            "\n",
            "The following packages will be UPDATED:\n",
            "\n",
            "    numpy-base:   1.14.3-py36h0ea5e3f_1                             --> 1.15.0-py36h3dfced4_0\n",
            "\n",
            "The following packages will be DOWNGRADED:\n",
            "\n",
            "    blas:         1.1-openblas                          conda-forge --> 1.0-mkl              \n",
            "    numpy:        1.15.4-py36_blas_openblashb06ca3d_0   conda-forge [blas_openblas] --> 1.15.0-py36h1b885b7_0\n",
            "    scikit-learn: 0.20.2-py36_blas_openblash00c3548_400 conda-forge [blas_openblas] --> 0.19.1-py36hedc7406_0\n",
            "    scipy:        1.2.0-py36_blas_openblashb06ca3d_200  conda-forge [blas_openblas] --> 1.1.0-py36hc49cb51_0 \n",
            "\n",
            "Preparing transaction: - \b\b\\ \b\b| \b\bdone\n",
            "Verifying transaction: - \b\b\\ \b\b| \b\b/ \b\b- \b\b\\ \b\b| \b\b/ \b\b- \b\b\\ \b\b| \b\b/ \b\bdone\n",
            "Executing transaction: \\ \b\b| \b\b/ \b\b- \b\b\\ \b\b| \b\b/ \b\b- \b\bdone\n",
            "\n",
            "real\t0m33.044s\n",
            "user\t0m31.369s\n",
            "sys\t0m1.298s\n"
          ],
          "name": "stdout"
        }
      ]
    },
    {
      "metadata": {
        "id": "06UTcNSAITTz",
        "colab_type": "text"
      },
      "cell_type": "markdown",
      "source": [
        "## パッケージインストールが終わったらコードを実行してみましょう。\n",
        "- git clone でREINVENTを入手、テスト済みのデータをMishimasykのリポジトリから入手します。\n",
        "- 次いでREINVENT内のDataフォルダを丸ごと入れ替えます。\n",
        "- WGETやGITの部分は繰り返すと重複してフォルダが増えるので注意しましょう。!ls や!pwdで適当にチェックしてください。"
      ]
    },
    {
      "metadata": {
        "id": "lbeyp10e5fdD",
        "colab_type": "code",
        "colab": {
          "base_uri": "https://localhost:8080/",
          "height": 34
        },
        "outputId": "211dad9a-57de-4245-e925-f41117da665d"
      },
      "cell_type": "code",
      "source": [
        "import sys\n",
        "import os\n",
        "sys.path.append('/usr/local/lib/python3.6/site-packages/')\n",
        "from rdkit import Chem\n",
        "from rdkit import rdBase\n",
        "print(rdBase.rdkitVersion)"
      ],
      "execution_count": 2,
      "outputs": [
        {
          "output_type": "stream",
          "text": [
            "2018.09.1\n"
          ],
          "name": "stdout"
        }
      ]
    },
    {
      "metadata": {
        "id": "27uy2hLv7ly4",
        "colab_type": "code",
        "colab": {
          "base_uri": "https://localhost:8080/",
          "height": 1210
        },
        "outputId": "bd917aef-8dfe-46f3-8a91-a78ce9e39403"
      },
      "cell_type": "code",
      "source": [
        "!git clone https://github.com/MarcusOlivecrona/REINVENT.git\n",
        "os.chdir('./REINVENT')\n",
        "!wget https://github.com/Mishima-syk/13/raw/master/generator_hanson/data.zip\n",
        "!rm -r data/\n",
        "!unzip data.zip\n",
        "#Run generator!\n",
        "!time ./main.py --scoring-function tanimoto --scoring-function-kwargs query_structure 'COc1ccccc1' --num-steps 10"
      ],
      "execution_count": 3,
      "outputs": [
        {
          "output_type": "stream",
          "text": [
            "fatal: destination path 'REINVENT' already exists and is not an empty directory.\n",
            "--2019-01-03 05:06:57--  https://github.com/Mishima-syk/13/raw/master/generator_hanson/data.zip\n",
            "Resolving github.com (github.com)... 192.30.253.112, 192.30.253.113\n",
            "Connecting to github.com (github.com)|192.30.253.112|:443... connected.\n",
            "HTTP request sent, awaiting response... 302 Found\n",
            "Location: https://raw.githubusercontent.com/Mishima-syk/13/master/generator_hanson/data.zip [following]\n",
            "--2019-01-03 05:06:57--  https://raw.githubusercontent.com/Mishima-syk/13/master/generator_handson/data.zip\n",
            "Resolving raw.githubusercontent.com (raw.githubusercontent.com)... 151.101.0.133, 151.101.64.133, 151.101.128.133, ...\n",
            "Connecting to raw.githubusercontent.com (raw.githubusercontent.com)|151.101.0.133|:443... connected.\n",
            "HTTP request sent, awaiting response... 200 OK\n",
            "Length: 78454973 (75M) [application/zip]\n",
            "Saving to: ‘data.zip.1’\n",
            "\n",
            "data.zip.1          100%[===================>]  74.82M   185MB/s    in 0.4s    \n",
            "\n",
            "2019-01-03 05:06:58 (185 MB/s) - ‘data.zip.1’ saved [78454973/78454973]\n",
            "\n",
            "Archive:  data.zip\n",
            "   creating: data/\n",
            "  inflating: data/Prior.ckpt         \n",
            "   creating: data/results/\n",
            "   creating: data/results/run_2018-12-18-22_04_27/\n",
            "  inflating: data/results/run_2018-12-18-22_04_27/train_agent.py  \n",
            "  inflating: data/results/run_2018-12-18-22_04_27/sampled  \n",
            "  inflating: data/results/run_2018-12-18-22_04_27/memory  \n",
            "  inflating: data/results/run_2018-12-18-22_04_27/Agent.ckpt  \n",
            "   creating: data/results/run_2018-12-17-11_12_31/\n",
            "  inflating: data/results/run_2018-12-17-11_12_31/train_agent.py  \n",
            "  inflating: data/results/run_2018-12-17-11_12_31/sampled  \n",
            "  inflating: data/results/run_2018-12-17-11_12_31/memory  \n",
            "  inflating: data/results/run_2018-12-17-11_12_31/Agent.ckpt  \n",
            "  inflating: data/clf.pkl            \n",
            "  inflating: data/Voc                \n",
            "   creating: data/logs/\n",
            "  inflating: data/logs/weight_GRU_embedding.npy  \n",
            "  inflating: data/logs/init_weight_GRU_embedding.npy  \n",
            "  inflating: data/logs/weight_GRU_layer_2_w_hh.npy  \n",
            "  inflating: data/logs/init_weight_GRU_layer_2_w_hh.npy  \n",
            "  inflating: data/logs/init_weight_GRU_layer_2_w_ih.npy  \n",
            "  inflating: data/logs/weight_GRU_layer_2_w_ih.npy  \n",
            "  inflating: data/logs/Scores.npy    \n",
            "  inflating: data/logs/weight_GRU_layer_2_b_hh.npy  \n",
            "  inflating: data/logs/init_weight_GRU_layer_2_b_hh.npy  \n",
            "  inflating: data/logs/init_weight_GRU_layer_2_b_ih.npy  \n",
            "  inflating: data/logs/weight_GRU_layer_2_b_ih.npy  \n",
            "  inflating: data/logs/SMILES        \n",
            "  inflating: data/ChEMBL_filtered    \n",
            "   creating: data/reinvent_data/\n",
            "  inflating: data/reinvent_data/Prior.ckpt  \n",
            "  inflating: data/reinvent_data/log.txt  \n",
            "  inflating: data/reinvent_data/Voc  \n",
            "Traceback (most recent call last):\n",
            "  File \"./main.py\", line 59, in <module>\n",
            "    train_agent(**arg_dict)\n",
            "  File \"/content/REINVENT/train_agent.py\", line 38, in train_agent\n",
            "    Prior.rnn.load_state_dict(torch.load('data/Prior.ckpt'))\n",
            "  File \"/usr/local/lib/python3.6/site-packages/torch/nn/modules/module.py\", line 721, in load_state_dict\n",
            "    self.__class__.__name__, \"\\n\\t\".join(error_msgs)))\n",
            "RuntimeError: Error(s) in loading state_dict for MultiGRU:\n",
            "\tWhile copying the parameter named \"gru_1.bias_ih\", whose dimensions in the model are torch.Size([1536]) and whose dimensions in the checkpoint are torch.Size([1, 1536]).\n",
            "\tWhile copying the parameter named \"gru_1.bias_hh\", whose dimensions in the model are torch.Size([1536]) and whose dimensions in the checkpoint are torch.Size([1, 1536]).\n",
            "\tWhile copying the parameter named \"gru_2.bias_ih\", whose dimensions in the model are torch.Size([1536]) and whose dimensions in the checkpoint are torch.Size([1, 1536]).\n",
            "\tWhile copying the parameter named \"gru_2.bias_hh\", whose dimensions in the model are torch.Size([1536]) and whose dimensions in the checkpoint are torch.Size([1, 1536]).\n",
            "\tWhile copying the parameter named \"gru_3.bias_ih\", whose dimensions in the model are torch.Size([1536]) and whose dimensions in the checkpoint are torch.Size([1, 1536]).\n",
            "\tWhile copying the parameter named \"gru_3.bias_hh\", whose dimensions in the model are torch.Size([1536]) and whose dimensions in the checkpoint are torch.Size([1, 1536]).\n",
            "\n",
            "real\t0m6.621s\n",
            "user\t0m5.079s\n",
            "sys\t0m1.362s\n"
          ],
          "name": "stdout"
        }
      ]
    },
    {
      "metadata": {
        "id": "SNsDDPFLHKb8",
        "colab_type": "code",
        "colab": {
          "base_uri": "https://localhost:8080/",
          "height": 3828
        },
        "outputId": "c0c32775-8b2b-4893-c123-f01bb153257e"
      },
      "cell_type": "code",
      "source": [
        "!time ./main.py --scoring-function tanimoto --scoring-function-kwargs query_structure 'COc1ccccc1' --num-steps 10"
      ],
      "execution_count": 5,
      "outputs": [
        {
          "output_type": "stream",
          "text": [
            "/usr/local/lib/python3.6/site-packages/torch/nn/modules/module.py:482: UserWarning: src is not broadcastable to dst, but they have the same number of elements.  Falling back to deprecated pointwise behavior.\n",
            "  own_state[name].copy_(param)\n",
            "Model initialized, starting training...\n",
            "/content/REINVENT/model.py:99: UserWarning: Implicit dimension choice for softmax has been deprecated. Change the call to include dim=X as an argument.\n",
            "  prob = F.softmax(logits)\n",
            "/content/REINVENT/model.py:100: UserWarning: Implicit dimension choice for log_softmax has been deprecated. Change the call to include dim=X as an argument.\n",
            "  log_prob = F.log_softmax(logits)\n",
            "/content/REINVENT/model.py:65: UserWarning: Implicit dimension choice for log_softmax has been deprecated. Change the call to include dim=X as an argument.\n",
            "  log_prob = F.log_softmax(logits)\n",
            "/content/REINVENT/model.py:66: UserWarning: Implicit dimension choice for softmax has been deprecated. Change the call to include dim=X as an argument.\n",
            "  prob = F.softmax(logits)\n",
            "\n",
            "       Step 0   Fraction valid SMILES: 92.2  Time elapsed: 0.00h Time left: 0.01h\n",
            "  Agent    Prior   Target   Score             SMILES\n",
            " -19.30   -19.30  -17.07    0.11     COCc1n[nH]c(N2CCN(CC)CC2)n1\n",
            " -19.49   -19.49  -16.49    0.15     CCc1nn(CC(=O)OC)c(CC)c1Br\n",
            " -28.83   -28.83  -24.50    0.22     Cc1c(C(O)CN2CCC(c3ccccc3)C2)n(-c2ccccc2)nc1-c1ccco1\n",
            " -17.32   -17.32   -9.71    0.38     CCC1(c2ccccc2)OCCC(C)(C)NC(=O)N1\n",
            " -25.86   -25.86  -22.29    0.18     Clc1cc2c(cc1Cl)c(CNCc1ccncc1)cn2C1CCNCC1\n",
            " -31.43   -31.43  -25.71    0.29     N#CNC(=NC#N)NC(=Nc1ccc([N+](=O)[O-])cc1)c1ccc(O)cc1\n",
            " -41.71   -41.71  -36.81    0.25     COc1ccc(-c2nc(N(C(=O)c3ccc(Br)cc3Cl)S(=O)(=O)c3cccnc3Nc3ccccc3)sc2-c2cc(C)ccn2)cc1\n",
            " -29.71   -29.71  -24.10    0.28     COc1ccc(N(CC(=O)NC2CC3c4ccccc4CCc4cc5c(cc42)OCO5)CC3)cc1Cl\n",
            " -23.21   -23.21  -16.24    0.35     CCCN(CCC)CC(Cc1ccccc1)NC(=O)c1ccc(N(C)C)cc1\n",
            " -16.72   -16.72  -11.39    0.27     Cc1ccccc1NC(=O)CSc1nnc(-c2cccs2)n1Cc1ccccc1\n",
            "\n",
            "Best score in memory: 0.50\n",
            "\n",
            "       Step 1   Fraction valid SMILES: 90.6  Time elapsed: 0.00h Time left: 0.01h\n",
            "  Agent    Prior   Target   Score             SMILES\n",
            " -30.18   -29.79  -25.96    0.19     CCC1(CC)CC(CN2CC(N)C(c3ccc(F)cc3F)C2)OCC1\n",
            " -16.92   -16.32  -11.93    0.22     CCn1cc(NC(=O)NCc2ccncc2)cn1\n",
            " -35.31   -37.14  -32.50    0.23     Cc1cccc(OC(c2cccc(C=O)c2)C(O)C(=O)N2CC(C)N(C(=O)OC(C)(C)C)CC2C(=O)NC(C)(C)C)c1\n",
            " -31.34   -32.72  -28.44    0.21     CN(CC(=O)Nc1c(C(=O)NN=Cc2cccc(Br)c2)cnn1C)C(=O)c1cccc(F)c1\n",
            " -21.84   -21.70  -13.76    0.40     COc1ccc2c(c1)OCC(CCOc1ccc(C(C)C)cc1)C2\n",
            " -19.30   -20.29  -14.58    0.29     Cc1nn(-c2cccc(C(N)=O)c2)c2c1c(C)nn2C\n",
            " -53.11   -54.86  -54.86    0.00     CC(C)(C)c1cc(-c2nc3c(c4c2CC(c2ccccc2)OC4)CN(Cc2c(O)ccc4ccccc24)CC3)c(C)c(C)n1CCN(C)C\n",
            " -19.22   -18.84  -13.43    0.27     CCOC(=O)CCCn1cc(C=C(C#N)C#N)c2ccccc21\n",
            " -23.59   -23.62  -16.48    0.36     CCN1C(=O)NC(=Nc2ccc(C(F)(F)F)cc2)c2ccccc21\n",
            " -20.54   -20.58  -20.01    0.03     CC1(C(O)(CO)CO)CCC2(C)CCC3(C)C4=CC(=O)C=CC4(C)C3CCC21C\n",
            "\n",
            "Best score in memory: 0.56\n",
            "\n",
            "       Step 2   Fraction valid SMILES: 92.2  Time elapsed: 0.00h Time left: 0.00h\n",
            "  Agent    Prior   Target   Score             SMILES\n",
            " -25.21   -25.32  -14.21    0.56     CC1(C)C(N)CC(O)(COc2ccccc2)C(=O)O1\n",
            " -27.67   -28.39  -24.38    0.20     O=C(CC1SC(c2ccco2)N(NC(=O)c2cc3ccccc3[nH]2)C1=O)NCc1cccnc1\n",
            " -18.05   -17.47  -12.81    0.23     O=C(CNC(=O)c1cccc(C(F)(F)F)c1)NC1CCN(CC=Cc2ccccc2)CC1\n",
            " -19.92   -22.72  -16.89    0.29     COc1ccc(NC(=O)Cc2c(C(=O)O)n(Cc3ccccc3Cl)c3ccc(Cl)cc23)cc1Cl\n",
            " -23.85   -23.34  -16.78    0.33     CN(C)CCC=C1c2cc(Br)ccc2OC(=O)C1C\n",
            " -34.47   -36.14  -32.54    0.18     COC(=O)C1CCN(C(=O)c2ccc(C(=O)C(=O)Nc3cc(C)cc(C(F)(F)F)c3)cc2C(F)(F)F)CC1\n",
            " -25.53   -26.39  -20.53    0.29     Cc1cc(OCc2ccc(S(=O)(=O)Cc3cccc(C#N)c3)cc2)ccn1\n",
            " -14.76   -14.38   -8.92    0.27     Cc1ccc(-c2csc3nc4n(c(=O)c23)CCC4)cc1\n",
            " -32.65   -33.74  -27.86    0.29     COC(=O)N(C)CCCOc1ccc2c(c1)c(-c1ccc(N)cc1)nc(=O)n2Cc1ccccc1\n",
            " -24.83   -24.47  -18.70    0.29     CC(C)(C)OCC(O)(Cn1cncn1)c1ccc(OCc2cccc(F)c2)cc1Cl\n",
            "\n",
            "Best score in memory: 0.56\n",
            "\n",
            "       Step 3   Fraction valid SMILES: 93.8  Time elapsed: 0.00h Time left: 0.00h\n",
            "  Agent    Prior   Target   Score             SMILES\n",
            " -14.91   -15.25  -14.20    0.05     CC(N)C(=O)NC(C=O)CC(C)C\n",
            " -20.83   -21.51  -15.23    0.31     Cc1ccc(COc2cccnc2Oc2ccc(C(=O)c3ccccc3)cc2)cc1\n",
            " -23.45   -23.13  -17.58    0.28     N=C(CSC(=O)N1CCOCC1)Nc1cccc(Cl)c1\n",
            " -18.15   -16.77  -12.63    0.21     CC(C)NC(=O)Nc1cc2c3c(c1)CC(=O)N3CCC2\n",
            " -20.24   -20.20  -14.94    0.26     CC1COc2ccc(C#CC3(O)CCN(C)CC3O)cc2NC1=O\n",
            " -28.88   -30.72  -26.13    0.23     CC(C)C1CC(=O)N(c2ccc3c(c2)OCC3)C(=O)N1CC(=O)N(C)C\n",
            " -25.24   -27.32  -22.37    0.25     Cc1ccc(C(=O)N2c3cccc(O)c3N=C(c3ccccc3)C2c2ccc(Br)cc2)s1\n",
            " -21.82   -22.36  -17.11    0.26     O=C(NO)C1(S(=O)(=O)c2ccc(Oc3ccc(Cl)c(Cl)c3)c(Cl)c2)CCNCC1\n",
            " -27.21   -27.94  -22.56    0.27     CC(CCc1ccccc1)Nc1nc(C(=O)Nc2ncns2)ccc1C#N\n",
            " -20.58   -21.18  -16.57    0.23     O=C(NC(Cc1ccccc1)C(=O)O)c1cccc(NS(=O)(=O)c2cccc([N+](=O)[O-])c2)c1\n",
            "\n",
            "Best score in memory: 0.56\n",
            "\n",
            "       Step 4   Fraction valid SMILES: 90.6  Time elapsed: 0.00h Time left: 0.00h\n",
            "  Agent    Prior   Target   Score             SMILES\n",
            " -19.85   -22.67  -16.76    0.30     COc1ccc(C2C(Cl)C(=O)N2NC(=O)c2ccc(-n3cncn3)cc2)cc1O\n",
            " -16.12   -15.59   -8.71    0.34     CCOc1cc(C=NNC(N)=O)ccc1O\n",
            " -18.51   -20.51  -15.03    0.27     COc1cc(N)c(Cl)cc1C(=O)C1CCCN1C(=O)OC(C)(C)C\n",
            " -31.32   -34.31  -30.00    0.22     Cc1c(Nc2c(C(N)=O)cnn2C)cccc1C(=O)NCC(=O)Nc1ccncc1\n",
            " -17.58   -20.07  -14.05    0.30     O=c1[nH]c(=O)n(COCCO)cc1-c1cc(-c2ccccc2)no1\n",
            " -21.48   -21.08  -18.37    0.14     Cc1cc(C(=O)NCC(C)(C)CN2CCN(C)CC2)on1\n",
            " -32.27   -35.78  -32.74    0.15     O=C(c1ccc(-c2ccnc3c(C(F)(F)F)cc(N4CCOCC4)cc23)cc1)N1C2CCC1CC(O)(c1cccc(C(F)(F)F)c1)C2\n",
            " -17.81   -18.28  -12.04    0.31     COc1ccc2nc(O)c(CN(Cc3cccnc3)C3CCS(=O)(=O)C3)cc2c1\n",
            " -26.57   -26.02  -20.18    0.29     Cc1cccc(-c2ccccc2COc2ccc(S(=O)(=O)Nc3cscn3)cc2C)n1\n",
            " -18.51   -18.22  -10.80    0.37     COc1ccc(OC)c(-c2ccc(C(=O)NC(CCC(=O)O)C(=O)O)s2)c1\n",
            "\n",
            "Best score in memory: 0.56\n",
            "\n",
            "       Step 5   Fraction valid SMILES: 87.5  Time elapsed: 0.00h Time left: 0.00h\n",
            "  Agent    Prior   Target   Score             SMILES\n",
            " -43.28   -45.85  -42.41    0.17     CS(=O)(=O)Nc1ccc(C(F)(F)F)cc1N=Nc1c(O)c(-c2ccccc2)c2[n+]3cc(F)ccc3n(CCCc3ccccc3)c2c1F\n",
            " -14.60   -15.73   -8.99    0.34     COc1cc2cc[n+](CCc3ccc(C)cc3)cc2cc1OC\n",
            " -22.53   -22.22  -14.32    0.39     COc1ccccc1C1=Nc2nc3ccccn3c2C(=O)C(C(C)=O)=C1\n",
            " -34.70   -40.86  -40.40    0.02     CC(=O)OC(CC=C(C)C)CC(C)C1CC(=O)C2(C)C3=C(C(=O)CC12)C1(C)C(=O)C=CC(O)C(C)(C)C1CC3\n",
            " -21.30   -21.61  -14.47    0.36     O=C(NCCOc1ccccc1F)C(=O)NCCCc1ccccc1\n",
            " -19.24   -19.77  -12.11    0.38     COc1cc(-c2nnc3ccc(Sc4ccccc4)cn23)cc(OC)c1OC\n",
            " -24.51   -25.38  -21.30    0.20     O=C(Nc1ccc(F)cc1F)c1cc(-c2ccc(S(=O)(=O)N3CCc4ccccc43)cc2)no1\n",
            " -26.12   -26.75  -22.96    0.19     CC(C)c1cc(C(=O)N2CCC(c3nc(-c4ccc(C#N)cc4)no3)CC2)ccc1Cl\n",
            " -22.80   -21.67  -16.73    0.25     Cc1cc(F)ccc1C(=O)N(Cc1cccc(F)c1)C1CCS(=O)(=O)C1\n",
            " -32.40   -35.03  -31.31    0.19     O=C(CN(C(=O)Cc1ccc(Cl)cc1)c1nc2cc(Cl)c(F)cc2s1)c1ccc(Cl)cc1\n",
            "\n",
            "Best score in memory: 0.56\n",
            "\n",
            "       Step 6   Fraction valid SMILES: 95.3  Time elapsed: 0.00h Time left: 0.00h\n",
            "  Agent    Prior   Target   Score             SMILES\n",
            " -19.50   -18.66  -12.32    0.32     COC(=O)C(Cc1cccc([N+](=O)[O-])c1)NC(=O)CN\n",
            " -28.99   -28.76  -23.40    0.27     CC#CCOCC(C)Oc1ccc(S(=O)(=O)CC2(C(=O)NO)CCN(C(=O)OC)CC2)cc1\n",
            " -18.81   -17.92  -12.63    0.26     O=C(c1ccco1)N1N=C(c2cccnc2)CC1c1ccccc1F\n",
            " -32.89   -35.35  -31.54    0.19     COC(=O)C1=C(C(=O)OC)C2Nc3c(C)c(Br)ccc3NC2N(Cc2ccc([N+](=O)[O-])cc2)C1=O\n",
            " -14.86   -16.35  -12.13    0.21     O=C(COC(=O)c1ccc(Cl)nc1)NCCO\n",
            " -16.83   -15.85  -10.83    0.25     CC(=O)Nc1ccc(NC(=O)c2cc(-c3ccccn3)nc3ccccc23)cc1\n",
            " -23.10   -21.96  -16.15    0.29     NC(C(=O)NO)C(=O)NCCc1cccc([N+](=O)[O-])c1\n",
            " -20.34   -20.73  -14.14    0.33     CCOc1ccc(C=NNc2nc(-c3ccccc3)cnc2-c2ccccc2)cc1\n",
            " -22.88   -26.17  -21.13    0.25     Cc1ccc2cccc(S(=O)(=O)Nc3cc(-c4cccc(Cl)c4)on3)c2c1\n",
            " -62.45   -71.55  -71.55    0.00     Cc1ccc(C)c(OCC(=O)NC(N=Nc2ccc(S(=O)(=O)Nc3ccc4onc(N)c4c3)c3cc(C)cc(C(=N)N)c3)cc2)c1CNC(=O)CCN=C(N)N\n",
            "\n",
            "Best score in memory: 0.57\n",
            "\n",
            "       Step 7   Fraction valid SMILES: 96.9  Time elapsed: 0.00h Time left: 0.00h\n",
            "  Agent    Prior   Target   Score             SMILES\n",
            " -38.07   -40.48  -35.86    0.23     CC1CCN(c2cc(CNC(=O)c3ccccc3[N+](=O)[O-])cc3oc(C(=O)N(C)C)cc23)C1\n",
            " -24.01   -25.57  -18.15    0.37     COc1ccccc1-c1nc(SCc2ccc(Br)cc2)nc(C)c1C#N\n",
            " -26.98   -30.61  -25.80    0.24     Cc1sc(Cc2ccc(C(=O)NC3CCS(=O)(=O)CC3)cc2C)nc1-c1ccccc1\n",
            " -34.95   -34.12  -29.92    0.21     Nc1cccc2c1C(=O)N(C1CCN(CC=Cc3ccccc3)CN(Cc3ccccc3)C1=O)S2\n",
            " -16.71   -20.54  -12.59    0.40     COc1cccc(OC)c1Oc1ccccc1CN(C)Cc1ccccc1\n",
            " -22.06   -31.93  -26.31    0.28     COc1cc2c(cc1O)C(C)(c1ccccc1)Oc1ccc(cc1)Oc1cccc(c1)Oc1ccccc1OC2\n",
            " -22.71   -21.76  -15.85    0.30     O=C(COc1ccccc1C(=O)N1CCOCC1)Nc1ccc(C(F)(F)F)cc1\n",
            " -23.57   -22.49  -13.92    0.43     C[n+]1cn(C)nc1Sc1ccc(F)cc1\n",
            " -23.38   -22.24  -16.10    0.31     CCOc1ccc(CCNC(=O)C2CCN(C(=O)N3Cc4ccccc4C3)CC2)cc1\n",
            " -27.20   -29.29  -29.29    0.00     Cc1c(-c2ccccc2)cc(-c2ccccc2)nn1CC(=O)NC(C)c1ccccc1)c1ccccc1\n",
            "\n",
            "Best score in memory: 0.57\n",
            "\n",
            "       Step 8   Fraction valid SMILES: 93.8  Time elapsed: 0.00h Time left: 0.00h\n",
            "  Agent    Prior   Target   Score             SMILES\n",
            " -25.03   -24.69  -21.41    0.16     COC1CC(CC#Cc2ccc(N3CCOCC3)nc2)C(O)C(O)C1O\n",
            " -24.68   -24.17  -19.06    0.26     O=[N+]([O-])c1cccc(CSc2nc(-c3ccc(F)cc3)c(C(=O)c3ccccc3)s2)c1\n",
            " -11.98   -12.71   -5.57    0.36     O=c1cc(-c2ccccc2)oc2cccc(O)c12\n",
            " -15.92   -18.17  -11.45    0.34     O=C(O)c1cn(S(=O)(=O)c2ccccc2Cl)c2ccccc12\n",
            " -22.37   -22.50  -16.59    0.30     O=C(Nc1ccc([N+](=O)[O-])cc1)c1ccc(OCc2ccc([N+](=O)[O-])cc2)cc1\n",
            " -15.64   -17.18   -9.71    0.37     COc1cc(-n2cnc3cc(Cl)ccc3c2=O)ccc1O\n",
            " -16.30   -19.17  -11.52    0.38     COc1cc(C=CC(=O)O)ccc1OCc1cccc(C(=O)O)n1\n",
            " -30.08   -35.79  -30.40    0.27     COc1cc(C(N)=NO)ccc1-c1cncc2cc(-c3cccc4ccccc34)c(OC(C)C)nc12\n",
            " -16.78   -19.70  -12.65    0.35     COc1cc(OC)cc(C(=O)N(Cc2ccccc2Br)C2CCS(=O)(=O)C2)c1\n",
            " -18.54   -18.09  -10.09    0.40     COc1cccc(CN2CCC3C2CCC(=O)N3c2ccccn2)c1\n",
            "\n",
            "Best score in memory: 0.77\n",
            "\n",
            "       Step 9   Fraction valid SMILES: 92.2  Time elapsed: 0.00h Time left: 0.00h\n",
            "  Agent    Prior   Target   Score             SMILES\n",
            " -19.02   -19.23  -13.44    0.29     O=C(Cc1sc2ccccc2c1Cl)NCCc1ccc(Cl)cc1\n",
            " -13.45   -16.52   -7.41    0.46     COc1ccc(OC)c(C(O)c2nc(-c3ccccc3Cl)cs2)c1\n",
            " -15.05   -14.57   -6.09    0.42     COc1ccc2cc3cc(C(=O)NC4CC4)sc3nc2c1\n",
            " -21.91   -22.32  -15.27    0.35     COc1ccc2nc(Sc3nncn3Cc3ccc(Cl)cc3)sc2c1\n",
            " -40.86   -46.28  -46.28    0.00     Cc1cc(Nc2c(-c3cccc(NC(=O)COc4cccc(CN5CCOCC5)c4)c3)cc3ccccc3n2)c(C)nn1C\n",
            " -15.03   -16.21   -8.59    0.38     CC(=O)NC(Cc1cccc2ccccc12)C(=O)O\n",
            " -32.29   -35.94  -31.61    0.22     Cc1nc2c(ccc3[nH]ccc32)c2c(-c3ccccc3)cc(-c3cccc(O)c3)nc12\n",
            " -25.34   -26.23  -16.87    0.47     COc1ccc(C(C)C(C)C2COC(=O)C2(C)O)cc1\n",
            " -19.16   -17.83  -10.61    0.36     COc1ccccc1COCCCOc1ccc(N2C(=O)CNCC2C(C)N)cc1\n",
            " -17.17   -19.02  -13.30    0.29     Cc1ccc(N2C(=O)NC(=O)C(=CN(C)C)c3ccccc32)cc1\n",
            "\n",
            "********************************************************************************\n",
            "\n",
            "         Best recorded SMILES: \n",
            "\n",
            "Score     Prior log P     SMILES\n",
            "\n",
            "0.77   -17.10        COc1cccc(OCCO)c1\n",
            "0.57   -17.23        COc1cccc(C2(O)OC(=O)c3ccccc32)c1\n",
            "0.56   -25.32        CC1(C)C(N)CC(O)(COc2ccccc2)C(=O)O1\n",
            "0.54   -18.29        COc1ccc(C(C)=NOC(=O)N(C)C)cc1\n",
            "0.51   -18.49        COc1cccc(OCC(O)CNCCN(C)C)c1\n",
            "0.51   -16.16        O=C(Nc1ccc(OCc2ccccc2)cc1)C(Cl)Cl\n",
            "0.50   -18.00        COc1cc(C(=O)O)ccc1NCc1ccccc1\n",
            "0.50   -16.86        COc1ccc2c(c1)CCc1cc(N(C)C)ccc1-2\n",
            "0.50   -16.55        [N-]=[N+]=NCc1ccccc1F\n",
            "0.50   -18.19        COc1ccc(C2Nc3ccccc3-n3cnnc32)cc1\n",
            "0.50   -19.68        COc1ccc2c(c1)C(=O)C(O)=C(Br)C2=O\n",
            "0.49   -15.37        Clc1ccccc1OCCOCCOc1ccccc1\n",
            "0.48   -24.38        COc1ccccc1N1CC(C(=O)O)C(c2nccs2)C1\n",
            "0.48   -18.20        COc1ccc(NCc2ccccc2)c(O)n1\n",
            "0.48   -22.01        COc1cc2c(cc1C(=O)O)Oc1ccccc1CC2\n",
            "0.47   -20.32        COc1ccc(OCC(=O)c2cc(C)cc3ccccc23)cc1\n",
            "0.47   -15.55        COc1ccccc1NC(=O)c1ccc2[nH]cnc2c1\n",
            "0.47   -26.23        COc1ccc(C(C)C(C)C2COC(=O)C2(C)O)cc1\n",
            "0.47   -18.77        COc1ccc(OCCON=C(N)N)cc1OC\n",
            "0.47   -20.17        COC(O)=C1C(C)=Nc2ccccc2N=C1NC\n",
            "0.47   -14.08        COc1ccc(OC)c2c1CC(N)CC2\n",
            "0.46   -16.65        COc1ccc(CCNCc2cccc(-c3ccccc3)c2)cc1\n",
            "0.46   -17.95        COc1cccc(OC2CCN(C(=O)NC(C)C)CC2)c1\n",
            "0.46   -14.38        COc1ccc(NC(=O)c2ccco2)cc1OC\n",
            "0.46   -24.03        Cc1cc(Cl)ccc1OCc1ccccc1C=O\n",
            "0.46   -22.31        COc1c(C=CC(=O)O)cccc1OCCF\n",
            "0.46   -16.52        COc1ccc(OC)c(C(O)c2nc(-c3ccccc3Cl)cs2)c1\n",
            "0.45   -21.03        COc1ccccc1-c1cncc(C#N)c1-c1ccccc1\n",
            "0.45   -16.64        COc1ccc(C(=O)O)c(Nc2cccc(C(F)(F)F)c2)c1\n",
            "0.45   -17.31        CCOc1ccc(NC(S)=Nc2nccs2)cc1\n",
            "0.45   -12.16        Nc1cccc(C(=O)O)c1\n",
            "0.45   -13.13        CNC(=O)C(=NOC)c1ccccc1COc1ccc(Cl)cc1\n",
            "0.45   -16.24        Cc1ccc(OCC(=O)NCC(c2ccccc2)N(C)C)cc1\n",
            "0.45   -16.46        COc1ccccc1CNC(=O)COC(=O)c1ccccc1Cl\n",
            "0.45   -23.32        C=C(c1ccccc1)C(CO)C(C)(C)C\n",
            "0.44   -15.85        CC(=O)Nc1ccc(SCc2ccc(Cl)cc2)cc1\n",
            "0.43   -21.83        O=C(Oc1ccccc1)c1ccccc1Oc1ccccc1F\n",
            "0.43   -25.12        CCOc1cccc(CCN(C)C(=S)OCC)c1\n",
            "0.43   -23.03        COc1ccccc1NC(=O)N(C)c1ccc2cc[nH]c2c1\n",
            "0.43   -15.45        COc1ccc(C=C2NC(=S)N(C(Cc3ccccc3)C(=O)O)C2=O)cc1\n",
            "0.43   -17.95        COc1ccc(OC)c2c1OC(C)(C)C(=O)C2\n",
            "0.43   -15.69        COc1ccc(S(=O)(=O)CCC(=O)N2CCOCC2)cc1\n",
            "0.43   -19.55        O=C(Oc1ccncc1)c1sc2ccccc2c1Cl\n",
            "0.43   -22.49        C[n+]1cn(C)nc1Sc1ccc(F)cc1\n",
            "0.43   -19.63        CCOC(=O)COc1ccc2c(-c3ccccc3)c[nH]c2c1\n",
            "0.43   -17.67        COc1ccc(C(=O)OCC(=O)c2ccc([N+](=O)[O-])cc2)cc1\n",
            "0.42   -14.57        COc1ccc2cc3cc(C(=O)NC4CC4)sc3nc2c1\n",
            "0.42   -15.93        COc1ccc(C(C)(O)c2nc(-c3ccc(O)cc3)cs2)cc1\n",
            "0.42   -25.67        COc1ccc2c(c1)CCC1OCC=C2C(O)O1\n",
            "0.42   -25.47        Cc1cc(Nc2ccccc2)cc(CSc2ccc(C#N)cc2)n1\n",
            "\n",
            "********************************************************************************\n",
            "\n",
            "\n",
            "real\t0m15.913s\n",
            "user\t0m12.237s\n",
            "sys\t0m3.577s\n"
          ],
          "name": "stdout"
        }
      ]
    },
    {
      "metadata": {
        "id": "jeFNI0L6N863",
        "colab_type": "text"
      },
      "cell_type": "markdown",
      "source": [
        "## 今度は学習済みのモデルからダイレクトにサンプリングします。\n",
        "- vocには学習データから作成した語彙（Smilesに使われるキャラクター）が含まれます。\n",
        "- Agent objectを作成後学習済みの重みをロードします。\n",
        "- ロード部分をスキップしてSamplingするとまともな構造は出ません。確認してみましょう。"
      ]
    },
    {
      "metadata": {
        "id": "h1fkXTM_IAh1",
        "colab_type": "code",
        "colab": {}
      },
      "cell_type": "code",
      "source": [
        "import numpy as np\n",
        "import torch\n",
        "import torch.nn as nn\n",
        "import torch.nn.functional as F\n",
        "\n",
        "import os\n",
        "from model import RNN\n",
        "from data_structs import Vocabulary, Experience\n",
        "from utils import Variable, seq_to_smiles, fraction_valid_smiles, unique\n",
        "from rdkit.Chem.Draw import IPythonConsole\n",
        "from rdkit.Chem import Draw\n",
        "voc = Vocabulary(init_from_file=\"data/Voc\")"
      ],
      "execution_count": 0,
      "outputs": []
    },
    {
      "metadata": {
        "id": "a1bR799KKSlx",
        "colab_type": "code",
        "colab": {
          "base_uri": "https://localhost:8080/",
          "height": 71
        },
        "outputId": "4cd4fbdc-8919-4315-bf1c-5486ac33069b"
      },
      "cell_type": "code",
      "source": [
        "Agent = RNN(voc)\n",
        "Agent.rnn.load_state_dict(torch.load('data/Prior.ckpt', map_location=lambda storage, loc: storage))"
      ],
      "execution_count": 39,
      "outputs": [
        {
          "output_type": "stream",
          "text": [
            "/usr/local/lib/python3.6/site-packages/torch/nn/modules/module.py:482: UserWarning: src is not broadcastable to dst, but they have the same number of elements.  Falling back to deprecated pointwise behavior.\n",
            "  own_state[name].copy_(param)\n"
          ],
          "name": "stderr"
        }
      ]
    },
    {
      "metadata": {
        "id": "eYqW-JwtK9k2",
        "colab_type": "code",
        "colab": {
          "base_uri": "https://localhost:8080/",
          "height": 105
        },
        "outputId": "60554d69-e135-4028-d436-eb2a5b890831"
      },
      "cell_type": "code",
      "source": [
        "seqs, agent_likelihood, entropy = Agent.sample(20)"
      ],
      "execution_count": 45,
      "outputs": [
        {
          "output_type": "stream",
          "text": [
            "/content/REINVENT/model.py:99: UserWarning: Implicit dimension choice for softmax has been deprecated. Change the call to include dim=X as an argument.\n",
            "  prob = F.softmax(logits)\n",
            "/content/REINVENT/model.py:100: UserWarning: Implicit dimension choice for log_softmax has been deprecated. Change the call to include dim=X as an argument.\n",
            "  log_prob = F.log_softmax(logits)\n"
          ],
          "name": "stderr"
        }
      ]
    },
    {
      "metadata": {
        "id": "hQkBDY4ZLhCg",
        "colab_type": "code",
        "colab": {}
      },
      "cell_type": "code",
      "source": [
        "smiles = seq_to_smiles(seqs, voc)"
      ],
      "execution_count": 0,
      "outputs": []
    },
    {
      "metadata": {
        "id": "5729QvDMLjDo",
        "colab_type": "code",
        "colab": {
          "base_uri": "https://localhost:8080/",
          "height": 340
        },
        "outputId": "c90ae676-4836-4ce8-99da-a889a14c2cbe"
      },
      "cell_type": "code",
      "source": [
        "validmols = []\n",
        "for smi in smiles:\n",
        "  mol = Chem.MolFromSmiles(smi)\n",
        "  if mol != None:\n",
        "    print(smi)\n",
        "    validmols.append(mol)"
      ],
      "execution_count": 47,
      "outputs": [
        {
          "output_type": "stream",
          "text": [
            "CC1COCCN1c1nc(N2CCOCC2)nc(C2CCNC2)n1\n",
            "Cc1nc(NCCCN2CCN(C)CC2)c2cnn(-c3cccc(Cl)c3)c2n1\n",
            "O=C(Nc1cccc2cccnc12)c1ccc(NCc2cccc(Cl)c2)cc1\n",
            "CC(C)(C)c1cc(C(=O)Nc2cc3c(c(OC(=O)N4CCOCC4)c(=O)[nH]3)c(F)cn2)c(F)cn1\n",
            "COc1ccc(-n2sc(=NC(=O)c3ccc(OC)c(OC)c3)nn2)cc1\n",
            "C=CCOC(=O)NCCC[N+](C)(C)CCSC\n",
            "CN=C1N=C(Nc2nccs2)SC1=Nc1ccccc1\n",
            "Cc1ccc(NC(S)=NNC(=S)NC(=O)C=Cc2ccccc2)cc1C\n",
            "CCOC(=O)c1cc2c3ccccc3n(Cc3ccccc3)c2c[n+]1CC\n",
            "COc1ccc2c(c1)NC1(CCN(Cc3nccs3)CC1)CN2\n",
            "COC(=O)C1=C(c2ccc(F)cc2)S(=O)(=O)N=C1N1CCN(C(=O)c2cccc(F)c2)CC1\n",
            "Cc1cn2cc(C(F)(F)F)nc2c(C#Cc2ccccn2)n1\n",
            "CCN(CC)c1ccc(C=NN=C(N)NO)cc1\n",
            "CCC(=O)NCCc1cc(Br)ccc1OCc1ccccc1C#N\n",
            "Cc1ccc(Cl)c2c1CC(O)C(NCC1(c3ccoc3)CCC1)C2\n",
            "CCn1nc2c(c1C)C(=O)C(=Cc1ccncc1)CC2\n",
            "Cc1noc(NC(=O)c2ccccc2)c1NC(C)=C1C(=O)CC(c2ccccc2)CC1=O\n",
            "O=C(Nc1nnc(Cc2ccc(Cl)cc2O)s1)c1ccccc1\n",
            "Cc1ccccc1-c1cc2ccccc2nc1SCC(=O)NCC1CCCO1\n"
          ],
          "name": "stdout"
        }
      ]
    },
    {
      "metadata": {
        "id": "yNdbhEGjLooW",
        "colab_type": "code",
        "colab": {
          "base_uri": "https://localhost:8080/",
          "height": 34
        },
        "outputId": "edde075f-865e-431f-803d-924a866a1c7b"
      },
      "cell_type": "code",
      "source": [
        "len(validmols)"
      ],
      "execution_count": 48,
      "outputs": [
        {
          "output_type": "execute_result",
          "data": {
            "text/plain": [
              "19"
            ]
          },
          "metadata": {
            "tags": []
          },
          "execution_count": 48
        }
      ]
    },
    {
      "metadata": {
        "id": "mEgTpAvQLvvz",
        "colab_type": "code",
        "colab": {
          "base_uri": "https://localhost:8080/",
          "height": 817
        },
        "outputId": "5acef38c-475c-452c-e051-7cdc85caae0f"
      },
      "cell_type": "code",
      "source": [
        "Draw.MolsToGridImage(validmols, molsPerRow=5)"
      ],
      "execution_count": 52,
      "outputs": [
        {
          "output_type": "execute_result",
          "data": {
            "image/png": "[encoded data removed]",
            "text/plain": [
              "<PIL.PngImagePlugin.PngImageFile image mode=RGB size=1000x800 at 0x7F556A00BFD0>"
            ]
          },
          "metadata": {
            "tags": []
          },
          "execution_count": 52
        }
      ]
    },
    {
      "metadata": {
        "id": "IEXSTrB7MPyc",
        "colab_type": "code",
        "colab": {}
      },
      "cell_type": "code",
      "source": [
        "\n"
      ],
      "execution_count": 0,
      "outputs": []
    }
  ]
}
