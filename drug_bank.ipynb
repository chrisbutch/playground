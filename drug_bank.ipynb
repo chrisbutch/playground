{
 "cells": [
  {
   "cell_type": "code",
   "execution_count": 1,
   "metadata": {},
   "outputs": [],
   "source": [
    "import qcportal as ptl\n",
    "client = ptl.FractalClient()\n",
    "ds = client.get_collection(\"Dataset\", \"COMP6 DrugBank\")"
   ]
  },
  {
   "cell_type": "code",
   "execution_count": 2,
   "metadata": {},
   "outputs": [],
   "source": [
    "mols = ds.get_molecules()"
   ]
  },
  {
   "cell_type": "code",
   "execution_count": 3,
   "metadata": {},
   "outputs": [
    {
     "data": {
      "text/plain": [
       "(13379, 1)"
      ]
     },
     "execution_count": 3,
     "metadata": {},
     "output_type": "execute_result"
    }
   ],
   "source": [
    "mols.shape"
   ]
  },
  {
   "cell_type": "code",
   "execution_count": 4,
   "metadata": {},
   "outputs": [
    {
     "data": {
      "text/plain": [
       "array(['ωB97x', 'b3lyp', 'b3lyp-d3m(bj)', 'hf', 'pbe', 'pbe-d3m(bj)',\n",
       "       'svwn', 'wb97m', 'wb97m-d3(bj)'], dtype=object)"
      ]
     },
     "execution_count": 4,
     "metadata": {},
     "output_type": "execute_result"
    }
   ],
   "source": [
    "ds.list_values().reset_index()['method'].unique()"
   ]
  },
  {
   "cell_type": "code",
   "execution_count": 5,
   "metadata": {},
   "outputs": [
    {
     "data": {
      "text/plain": [
       "array(['6-31g*', 'def2-tzvp'], dtype=object)"
      ]
     },
     "execution_count": 5,
     "metadata": {},
     "output_type": "execute_result"
    }
   ],
   "source": [
    "ds.list_values().reset_index()['basis'].unique()"
   ]
  },
  {
   "cell_type": "code",
   "execution_count": 6,
   "metadata": {},
   "outputs": [
    {
     "data": {
      "text/html": [
       "<div>\n",
       "<style scoped>\n",
       "    .dataframe tbody tr th:only-of-type {\n",
       "        vertical-align: middle;\n",
       "    }\n",
       "\n",
       "    .dataframe tbody tr th {\n",
       "        vertical-align: top;\n",
       "    }\n",
       "\n",
       "    .dataframe thead th {\n",
       "        text-align: right;\n",
       "    }\n",
       "</style>\n",
       "<table border=\"1\" class=\"dataframe\">\n",
       "  <thead>\n",
       "    <tr style=\"text-align: right;\">\n",
       "      <th></th>\n",
       "      <th>method</th>\n",
       "      <th>basis</th>\n",
       "      <th>0</th>\n",
       "    </tr>\n",
       "  </thead>\n",
       "  <tbody>\n",
       "    <tr>\n",
       "      <th>0</th>\n",
       "      <td>b3lyp</td>\n",
       "      <td>def2-tzvp</td>\n",
       "      <td>1</td>\n",
       "    </tr>\n",
       "    <tr>\n",
       "      <th>1</th>\n",
       "      <td>b3lyp-d3m(bj)</td>\n",
       "      <td>def2-tzvp</td>\n",
       "      <td>1</td>\n",
       "    </tr>\n",
       "    <tr>\n",
       "      <th>2</th>\n",
       "      <td>hf</td>\n",
       "      <td>def2-tzvp</td>\n",
       "      <td>1</td>\n",
       "    </tr>\n",
       "    <tr>\n",
       "      <th>3</th>\n",
       "      <td>pbe</td>\n",
       "      <td>def2-tzvp</td>\n",
       "      <td>1</td>\n",
       "    </tr>\n",
       "    <tr>\n",
       "      <th>4</th>\n",
       "      <td>pbe-d3m(bj)</td>\n",
       "      <td>def2-tzvp</td>\n",
       "      <td>1</td>\n",
       "    </tr>\n",
       "    <tr>\n",
       "      <th>5</th>\n",
       "      <td>svwn</td>\n",
       "      <td>def2-tzvp</td>\n",
       "      <td>1</td>\n",
       "    </tr>\n",
       "    <tr>\n",
       "      <th>6</th>\n",
       "      <td>wb97m</td>\n",
       "      <td>def2-tzvp</td>\n",
       "      <td>1</td>\n",
       "    </tr>\n",
       "    <tr>\n",
       "      <th>7</th>\n",
       "      <td>wb97m-d3(bj)</td>\n",
       "      <td>def2-tzvp</td>\n",
       "      <td>1</td>\n",
       "    </tr>\n",
       "    <tr>\n",
       "      <th>8</th>\n",
       "      <td>ωB97x</td>\n",
       "      <td>6-31g*</td>\n",
       "      <td>6</td>\n",
       "    </tr>\n",
       "  </tbody>\n",
       "</table>\n",
       "</div>"
      ],
      "text/plain": [
       "          method      basis  0\n",
       "0          b3lyp  def2-tzvp  1\n",
       "1  b3lyp-d3m(bj)  def2-tzvp  1\n",
       "2             hf  def2-tzvp  1\n",
       "3            pbe  def2-tzvp  1\n",
       "4    pbe-d3m(bj)  def2-tzvp  1\n",
       "5           svwn  def2-tzvp  1\n",
       "6          wb97m  def2-tzvp  1\n",
       "7   wb97m-d3(bj)  def2-tzvp  1\n",
       "8          ωB97x     6-31g*  6"
      ]
     },
     "execution_count": 6,
     "metadata": {},
     "output_type": "execute_result"
    }
   ],
   "source": [
    "ds.list_values().reset_index().groupby(['method','basis']).size().reset_index()"
   ]
  },
  {
   "cell_type": "code",
   "execution_count": 7,
   "metadata": {},
   "outputs": [
    {
     "data": {
      "text/html": [
       "<div>\n",
       "<style scoped>\n",
       "    .dataframe tbody tr th:only-of-type {\n",
       "        vertical-align: middle;\n",
       "    }\n",
       "\n",
       "    .dataframe tbody tr th {\n",
       "        vertical-align: top;\n",
       "    }\n",
       "\n",
       "    .dataframe thead th {\n",
       "        text-align: right;\n",
       "    }\n",
       "</style>\n",
       "<table border=\"1\" class=\"dataframe\">\n",
       "  <thead>\n",
       "    <tr style=\"text-align: right;\">\n",
       "      <th></th>\n",
       "      <th></th>\n",
       "      <th></th>\n",
       "      <th></th>\n",
       "      <th></th>\n",
       "      <th>keywords</th>\n",
       "      <th>name</th>\n",
       "    </tr>\n",
       "    <tr>\n",
       "      <th>native</th>\n",
       "      <th>driver</th>\n",
       "      <th>program</th>\n",
       "      <th>method</th>\n",
       "      <th>basis</th>\n",
       "      <th></th>\n",
       "      <th></th>\n",
       "    </tr>\n",
       "  </thead>\n",
       "  <tbody>\n",
       "    <tr>\n",
       "      <th rowspan=\"6\" valign=\"top\">False</th>\n",
       "      <th rowspan=\"2\" valign=\"top\">charge</th>\n",
       "      <th rowspan=\"2\" valign=\"top\">gaussian</th>\n",
       "      <th rowspan=\"2\" valign=\"top\">ωB97x</th>\n",
       "      <th>6-31g*</th>\n",
       "      <td>Unknown</td>\n",
       "      <td>CM5 Charges</td>\n",
       "    </tr>\n",
       "    <tr>\n",
       "      <th>6-31g*</th>\n",
       "      <td>Unknown</td>\n",
       "      <td>Hirshfeld Charges</td>\n",
       "    </tr>\n",
       "    <tr>\n",
       "      <th>energy</th>\n",
       "      <th>gaussian</th>\n",
       "      <th>ωB97x</th>\n",
       "      <th>6-31g*</th>\n",
       "      <td>Unknown</td>\n",
       "      <td>Energy</td>\n",
       "    </tr>\n",
       "    <tr>\n",
       "      <th>gradient</th>\n",
       "      <th>gaussian</th>\n",
       "      <th>ωB97x</th>\n",
       "      <th>6-31g*</th>\n",
       "      <td>Unknown</td>\n",
       "      <td>Gradient</td>\n",
       "    </tr>\n",
       "    <tr>\n",
       "      <th>hirshfeld_dipole</th>\n",
       "      <th>gaussian</th>\n",
       "      <th>ωB97x</th>\n",
       "      <th>6-31g*</th>\n",
       "      <td>Unknown</td>\n",
       "      <td>Hirshfeld Dipole</td>\n",
       "    </tr>\n",
       "    <tr>\n",
       "      <th>spin_density</th>\n",
       "      <th>gaussian</th>\n",
       "      <th>ωB97x</th>\n",
       "      <th>6-31g*</th>\n",
       "      <td>Unknown</td>\n",
       "      <td>Spin Density</td>\n",
       "    </tr>\n",
       "    <tr>\n",
       "      <th rowspan=\"8\" valign=\"top\">True</th>\n",
       "      <th rowspan=\"8\" valign=\"top\">energy</th>\n",
       "      <th rowspan=\"8\" valign=\"top\">psi4</th>\n",
       "      <th>b3lyp</th>\n",
       "      <th>def2-tzvp</th>\n",
       "      <td>scf_default</td>\n",
       "      <td>B3LYP/def2-tzvp</td>\n",
       "    </tr>\n",
       "    <tr>\n",
       "      <th>b3lyp-d3m(bj)</th>\n",
       "      <th>def2-tzvp</th>\n",
       "      <td>scf_default</td>\n",
       "      <td>B3LYP-D3M(BJ)/def2-tzvp</td>\n",
       "    </tr>\n",
       "    <tr>\n",
       "      <th>hf</th>\n",
       "      <th>def2-tzvp</th>\n",
       "      <td>scf_default</td>\n",
       "      <td>HF/def2-tzvp</td>\n",
       "    </tr>\n",
       "    <tr>\n",
       "      <th>pbe</th>\n",
       "      <th>def2-tzvp</th>\n",
       "      <td>scf_default</td>\n",
       "      <td>PBE/def2-tzvp</td>\n",
       "    </tr>\n",
       "    <tr>\n",
       "      <th>pbe-d3m(bj)</th>\n",
       "      <th>def2-tzvp</th>\n",
       "      <td>scf_default</td>\n",
       "      <td>PBE-D3M(BJ)/def2-tzvp</td>\n",
       "    </tr>\n",
       "    <tr>\n",
       "      <th>svwn</th>\n",
       "      <th>def2-tzvp</th>\n",
       "      <td>scf_default</td>\n",
       "      <td>SVWN/def2-tzvp</td>\n",
       "    </tr>\n",
       "    <tr>\n",
       "      <th>wb97m</th>\n",
       "      <th>def2-tzvp</th>\n",
       "      <td>scf_default</td>\n",
       "      <td>WB97M/def2-tzvp</td>\n",
       "    </tr>\n",
       "    <tr>\n",
       "      <th>wb97m-d3(bj)</th>\n",
       "      <th>def2-tzvp</th>\n",
       "      <td>scf_default</td>\n",
       "      <td>WB97M-D3(BJ)/def2-tzvp</td>\n",
       "    </tr>\n",
       "  </tbody>\n",
       "</table>\n",
       "</div>"
      ],
      "text/plain": [
       "                                                             keywords  \\\n",
       "native driver           program  method        basis                    \n",
       "False  charge           gaussian ωB97x         6-31g*         Unknown   \n",
       "                                               6-31g*         Unknown   \n",
       "       energy           gaussian ωB97x         6-31g*         Unknown   \n",
       "       gradient         gaussian ωB97x         6-31g*         Unknown   \n",
       "       hirshfeld_dipole gaussian ωB97x         6-31g*         Unknown   \n",
       "       spin_density     gaussian ωB97x         6-31g*         Unknown   \n",
       "True   energy           psi4     b3lyp         def2-tzvp  scf_default   \n",
       "                                 b3lyp-d3m(bj) def2-tzvp  scf_default   \n",
       "                                 hf            def2-tzvp  scf_default   \n",
       "                                 pbe           def2-tzvp  scf_default   \n",
       "                                 pbe-d3m(bj)   def2-tzvp  scf_default   \n",
       "                                 svwn          def2-tzvp  scf_default   \n",
       "                                 wb97m         def2-tzvp  scf_default   \n",
       "                                 wb97m-d3(bj)  def2-tzvp  scf_default   \n",
       "\n",
       "                                                                             name  \n",
       "native driver           program  method        basis                               \n",
       "False  charge           gaussian ωB97x         6-31g*                 CM5 Charges  \n",
       "                                               6-31g*           Hirshfeld Charges  \n",
       "       energy           gaussian ωB97x         6-31g*                      Energy  \n",
       "       gradient         gaussian ωB97x         6-31g*                    Gradient  \n",
       "       hirshfeld_dipole gaussian ωB97x         6-31g*            Hirshfeld Dipole  \n",
       "       spin_density     gaussian ωB97x         6-31g*                Spin Density  \n",
       "True   energy           psi4     b3lyp         def2-tzvp          B3LYP/def2-tzvp  \n",
       "                                 b3lyp-d3m(bj) def2-tzvp  B3LYP-D3M(BJ)/def2-tzvp  \n",
       "                                 hf            def2-tzvp             HF/def2-tzvp  \n",
       "                                 pbe           def2-tzvp            PBE/def2-tzvp  \n",
       "                                 pbe-d3m(bj)   def2-tzvp    PBE-D3M(BJ)/def2-tzvp  \n",
       "                                 svwn          def2-tzvp           SVWN/def2-tzvp  \n",
       "                                 wb97m         def2-tzvp          WB97M/def2-tzvp  \n",
       "                                 wb97m-d3(bj)  def2-tzvp   WB97M-D3(BJ)/def2-tzvp  "
      ]
     },
     "execution_count": 7,
     "metadata": {},
     "output_type": "execute_result"
    }
   ],
   "source": [
    "ds.list_values()"
   ]
  },
  {
   "cell_type": "code",
   "execution_count": 8,
   "metadata": {},
   "outputs": [],
   "source": [
    "val = ds.get_values(method='ωB97x')"
   ]
  },
  {
   "cell_type": "code",
   "execution_count": 9,
   "metadata": {},
   "outputs": [
    {
     "data": {
      "text/plain": [
       "Index(['CM5 Charges', 'Hirshfeld Charges', 'Energy', 'Gradient',\n",
       "       'Hirshfeld Dipole', 'Spin Density'],\n",
       "      dtype='object')"
      ]
     },
     "execution_count": 9,
     "metadata": {},
     "output_type": "execute_result"
    }
   ],
   "source": [
    "val.columns"
   ]
  },
  {
   "cell_type": "code",
   "execution_count": 10,
   "metadata": {},
   "outputs": [],
   "source": [
    "energy = val['Energy']"
   ]
  },
  {
   "cell_type": "code",
   "execution_count": 11,
   "metadata": {},
   "outputs": [
    {
     "data": {
      "application/vnd.jupyter.widget-view+json": {
       "model_id": "4408b4a9174c4b598fbb4f0b73caa893",
       "version_major": 2,
       "version_minor": 0
      },
      "text/plain": [
       "_ColormakerRegistry()"
      ]
     },
     "metadata": {},
     "output_type": "display_data"
    },
    {
     "data": {
      "application/vnd.jupyter.widget-view+json": {
       "model_id": "4d4eb20bc7e1422b8f06fdb0b07d96d7",
       "version_major": 2,
       "version_minor": 0
      },
      "text/plain": [
       "NGLWidget()"
      ]
     },
     "metadata": {},
     "output_type": "display_data"
    }
   ],
   "source": [
    "mols['molecule'][0].show()"
   ]
  },
  {
   "cell_type": "code",
   "execution_count": 12,
   "metadata": {},
   "outputs": [
    {
     "data": {
      "text/plain": [
       "-636107.9519541461"
      ]
     },
     "execution_count": 12,
     "metadata": {},
     "output_type": "execute_result"
    }
   ],
   "source": [
    "energy[0]"
   ]
  },
  {
   "cell_type": "code",
   "execution_count": 13,
   "metadata": {},
   "outputs": [
    {
     "data": {
      "application/vnd.jupyter.widget-view+json": {
       "model_id": "ae99865052b94841bc4053b0ac9718fb",
       "version_major": 2,
       "version_minor": 0
      },
      "text/plain": [
       "NGLWidget()"
      ]
     },
     "metadata": {},
     "output_type": "display_data"
    }
   ],
   "source": [
    "mols['molecule'][1].show()"
   ]
  },
  {
   "cell_type": "code",
   "execution_count": 14,
   "metadata": {},
   "outputs": [
    {
     "data": {
      "text/plain": [
       "-558044.7290289854"
      ]
     },
     "execution_count": 14,
     "metadata": {},
     "output_type": "execute_result"
    }
   ],
   "source": [
    "energy[1]"
   ]
  },
  {
   "cell_type": "code",
   "execution_count": 15,
   "metadata": {},
   "outputs": [
    {
     "data": {
      "text/html": [
       "<div>\n",
       "<style scoped>\n",
       "    .dataframe tbody tr th:only-of-type {\n",
       "        vertical-align: middle;\n",
       "    }\n",
       "\n",
       "    .dataframe tbody tr th {\n",
       "        vertical-align: top;\n",
       "    }\n",
       "\n",
       "    .dataframe thead th {\n",
       "        text-align: right;\n",
       "    }\n",
       "</style>\n",
       "<table border=\"1\" class=\"dataframe\">\n",
       "  <thead>\n",
       "    <tr style=\"text-align: right;\">\n",
       "      <th></th>\n",
       "      <th>driver</th>\n",
       "      <th>program</th>\n",
       "      <th>method</th>\n",
       "      <th>basis</th>\n",
       "      <th>keywords</th>\n",
       "      <th>name</th>\n",
       "    </tr>\n",
       "  </thead>\n",
       "  <tbody>\n",
       "    <tr>\n",
       "      <th>0</th>\n",
       "      <td>energy</td>\n",
       "      <td>psi4</td>\n",
       "      <td>hf</td>\n",
       "      <td>def2-tzvp</td>\n",
       "      <td>scf_default</td>\n",
       "      <td>HF/def2-tzvp</td>\n",
       "    </tr>\n",
       "    <tr>\n",
       "      <th>1</th>\n",
       "      <td>energy</td>\n",
       "      <td>psi4</td>\n",
       "      <td>svwn</td>\n",
       "      <td>def2-tzvp</td>\n",
       "      <td>scf_default</td>\n",
       "      <td>SVWN/def2-tzvp</td>\n",
       "    </tr>\n",
       "    <tr>\n",
       "      <th>3</th>\n",
       "      <td>energy</td>\n",
       "      <td>psi4</td>\n",
       "      <td>pbe</td>\n",
       "      <td>def2-tzvp</td>\n",
       "      <td>scf_default</td>\n",
       "      <td>PBE/def2-tzvp</td>\n",
       "    </tr>\n",
       "    <tr>\n",
       "      <th>5</th>\n",
       "      <td>energy</td>\n",
       "      <td>psi4</td>\n",
       "      <td>b3lyp</td>\n",
       "      <td>def2-tzvp</td>\n",
       "      <td>scf_default</td>\n",
       "      <td>B3LYP/def2-tzvp</td>\n",
       "    </tr>\n",
       "    <tr>\n",
       "      <th>7</th>\n",
       "      <td>energy</td>\n",
       "      <td>psi4</td>\n",
       "      <td>wb97m</td>\n",
       "      <td>def2-tzvp</td>\n",
       "      <td>scf_default</td>\n",
       "      <td>WB97M/def2-tzvp</td>\n",
       "    </tr>\n",
       "    <tr>\n",
       "      <th>8</th>\n",
       "      <td>energy</td>\n",
       "      <td>psi4</td>\n",
       "      <td>pbe-d3m(bj)</td>\n",
       "      <td>def2-tzvp</td>\n",
       "      <td>scf_default</td>\n",
       "      <td>PBE-D3M(BJ)/def2-tzvp</td>\n",
       "    </tr>\n",
       "    <tr>\n",
       "      <th>9</th>\n",
       "      <td>energy</td>\n",
       "      <td>psi4</td>\n",
       "      <td>b3lyp-d3m(bj)</td>\n",
       "      <td>def2-tzvp</td>\n",
       "      <td>scf_default</td>\n",
       "      <td>B3LYP-D3M(BJ)/def2-tzvp</td>\n",
       "    </tr>\n",
       "    <tr>\n",
       "      <th>10</th>\n",
       "      <td>energy</td>\n",
       "      <td>psi4</td>\n",
       "      <td>wb97m-d3(bj)</td>\n",
       "      <td>def2-tzvp</td>\n",
       "      <td>scf_default</td>\n",
       "      <td>WB97M-D3(BJ)/def2-tzvp</td>\n",
       "    </tr>\n",
       "  </tbody>\n",
       "</table>\n",
       "</div>"
      ],
      "text/plain": [
       "    driver program         method      basis     keywords  \\\n",
       "0   energy    psi4             hf  def2-tzvp  scf_default   \n",
       "1   energy    psi4           svwn  def2-tzvp  scf_default   \n",
       "3   energy    psi4            pbe  def2-tzvp  scf_default   \n",
       "5   energy    psi4          b3lyp  def2-tzvp  scf_default   \n",
       "7   energy    psi4          wb97m  def2-tzvp  scf_default   \n",
       "8   energy    psi4    pbe-d3m(bj)  def2-tzvp  scf_default   \n",
       "9   energy    psi4  b3lyp-d3m(bj)  def2-tzvp  scf_default   \n",
       "10  energy    psi4   wb97m-d3(bj)  def2-tzvp  scf_default   \n",
       "\n",
       "                       name  \n",
       "0              HF/def2-tzvp  \n",
       "1            SVWN/def2-tzvp  \n",
       "3             PBE/def2-tzvp  \n",
       "5           B3LYP/def2-tzvp  \n",
       "7           WB97M/def2-tzvp  \n",
       "8     PBE-D3M(BJ)/def2-tzvp  \n",
       "9   B3LYP-D3M(BJ)/def2-tzvp  \n",
       "10   WB97M-D3(BJ)/def2-tzvp  "
      ]
     },
     "execution_count": 15,
     "metadata": {},
     "output_type": "execute_result"
    }
   ],
   "source": [
    "ds.list_records()"
   ]
  },
  {
   "cell_type": "code",
   "execution_count": null,
   "metadata": {},
   "outputs": [],
   "source": []
  }
 ],
 "metadata": {
  "kernelspec": {
   "display_name": "Python 3",
   "language": "python",
   "name": "python3"
  },
  "language_info": {
   "codemirror_mode": {
    "name": "ipython",
    "version": 3
   },
   "file_extension": ".py",
   "mimetype": "text/x-python",
   "name": "python",
   "nbconvert_exporter": "python",
   "pygments_lexer": "ipython3",
   "version": "3.7.3"
  }
 },
 "nbformat": 4,
 "nbformat_minor": 2
}
